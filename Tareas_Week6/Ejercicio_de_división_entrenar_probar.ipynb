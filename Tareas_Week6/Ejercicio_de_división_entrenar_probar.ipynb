{
  "nbformat": 4,
  "nbformat_minor": 0,
  "metadata": {
    "colab": {
      "name": "Ejercicio de división entrenar probar.ipynb",
      "provenance": [],
      "collapsed_sections": [],
      "authorship_tag": "ABX9TyPC6F3cgi3o5uj00lV1lxo/",
      "include_colab_link": true
    },
    "kernelspec": {
      "name": "python3",
      "display_name": "Python 3"
    },
    "language_info": {
      "name": "python"
    }
  },
  "cells": [
    {
      "cell_type": "markdown",
      "metadata": {
        "id": "view-in-github",
        "colab_type": "text"
      },
      "source": [
        "<a href=\"https://colab.research.google.com/github/Nicolaser1102/Introduccion-modelos-basados-en-arboles/blob/main/Tareas_Week6/Ejercicio_de_divisi%C3%B3n_entrenar_probar.ipynb\" target=\"_parent\"><img src=\"https://colab.research.google.com/assets/colab-badge.svg\" alt=\"Open In Colab\"/></a>"
      ]
    },
    {
      "cell_type": "markdown",
      "source": [
        "# CODING DOJO \n",
        "## Fecha creación: 9/2/2022\n",
        "## Fecha de actualización: 10/2/2022\n",
        "## Esteban Simbaña\n",
        "\n",
        "#Ejercicio de división entrenar probar\n",
        "\n",
        "\n",
        "\n",
        "\n",
        "\n"
      ],
      "metadata": {
        "id": "Id6ZUNPceYlZ"
      }
    },
    {
      "cell_type": "code",
      "execution_count": 332,
      "metadata": {
        "colab": {
          "base_uri": "https://localhost:8080/"
        },
        "id": "3KEqaOsxkAhX",
        "outputId": "c7d0521d-b167-4bed-9e8f-d11e0daaa643"
      },
      "outputs": [
        {
          "output_type": "stream",
          "name": "stdout",
          "text": [
            "Drive already mounted at /content/drive; to attempt to forcibly remount, call drive.mount(\"/content/drive\", force_remount=True).\n"
          ]
        }
      ],
      "source": [
        "#Montamos el drive \n",
        "from google.colab import drive\n",
        "drive.mount('/content/drive')"
      ]
    },
    {
      "cell_type": "code",
      "source": [
        "#Importamos librerías para poder manejar mejor el df\n",
        "import pandas as pd\n",
        "import numpy as np"
      ],
      "metadata": {
        "id": "CjgGPY3-kUCZ"
      },
      "execution_count": 333,
      "outputs": []
    },
    {
      "cell_type": "code",
      "source": [
        "nombrearchivo = '/content/drive/MyDrive/Coding Dojo/Códigos/Track 2 /Week 1 - Track2/Deberes /Ejercicio KNN/abalone.data'\n",
        "\n",
        "df = pd.read_csv(nombrearchivo)\n",
        "df.head() #Mostramos df"
      ],
      "metadata": {
        "colab": {
          "base_uri": "https://localhost:8080/",
          "height": 207
        },
        "id": "ZFASQyt1kcBT",
        "outputId": "5e51d77c-cd1e-42b1-c038-ad26fd1c5a99"
      },
      "execution_count": 334,
      "outputs": [
        {
          "output_type": "execute_result",
          "data": {
            "text/html": [
              "\n",
              "  <div id=\"df-b931efd1-83b0-4c93-84e8-62bca6323415\">\n",
              "    <div class=\"colab-df-container\">\n",
              "      <div>\n",
              "<style scoped>\n",
              "    .dataframe tbody tr th:only-of-type {\n",
              "        vertical-align: middle;\n",
              "    }\n",
              "\n",
              "    .dataframe tbody tr th {\n",
              "        vertical-align: top;\n",
              "    }\n",
              "\n",
              "    .dataframe thead th {\n",
              "        text-align: right;\n",
              "    }\n",
              "</style>\n",
              "<table border=\"1\" class=\"dataframe\">\n",
              "  <thead>\n",
              "    <tr style=\"text-align: right;\">\n",
              "      <th></th>\n",
              "      <th>M</th>\n",
              "      <th>0.455</th>\n",
              "      <th>0.365</th>\n",
              "      <th>0.095</th>\n",
              "      <th>0.514</th>\n",
              "      <th>0.2245</th>\n",
              "      <th>0.101</th>\n",
              "      <th>0.15</th>\n",
              "      <th>15</th>\n",
              "    </tr>\n",
              "  </thead>\n",
              "  <tbody>\n",
              "    <tr>\n",
              "      <th>0</th>\n",
              "      <td>M</td>\n",
              "      <td>0.350</td>\n",
              "      <td>0.265</td>\n",
              "      <td>0.090</td>\n",
              "      <td>0.2255</td>\n",
              "      <td>0.0995</td>\n",
              "      <td>0.0485</td>\n",
              "      <td>0.070</td>\n",
              "      <td>7</td>\n",
              "    </tr>\n",
              "    <tr>\n",
              "      <th>1</th>\n",
              "      <td>F</td>\n",
              "      <td>0.530</td>\n",
              "      <td>0.420</td>\n",
              "      <td>0.135</td>\n",
              "      <td>0.6770</td>\n",
              "      <td>0.2565</td>\n",
              "      <td>0.1415</td>\n",
              "      <td>0.210</td>\n",
              "      <td>9</td>\n",
              "    </tr>\n",
              "    <tr>\n",
              "      <th>2</th>\n",
              "      <td>M</td>\n",
              "      <td>0.440</td>\n",
              "      <td>0.365</td>\n",
              "      <td>0.125</td>\n",
              "      <td>0.5160</td>\n",
              "      <td>0.2155</td>\n",
              "      <td>0.1140</td>\n",
              "      <td>0.155</td>\n",
              "      <td>10</td>\n",
              "    </tr>\n",
              "    <tr>\n",
              "      <th>3</th>\n",
              "      <td>I</td>\n",
              "      <td>0.330</td>\n",
              "      <td>0.255</td>\n",
              "      <td>0.080</td>\n",
              "      <td>0.2050</td>\n",
              "      <td>0.0895</td>\n",
              "      <td>0.0395</td>\n",
              "      <td>0.055</td>\n",
              "      <td>7</td>\n",
              "    </tr>\n",
              "    <tr>\n",
              "      <th>4</th>\n",
              "      <td>I</td>\n",
              "      <td>0.425</td>\n",
              "      <td>0.300</td>\n",
              "      <td>0.095</td>\n",
              "      <td>0.3515</td>\n",
              "      <td>0.1410</td>\n",
              "      <td>0.0775</td>\n",
              "      <td>0.120</td>\n",
              "      <td>8</td>\n",
              "    </tr>\n",
              "  </tbody>\n",
              "</table>\n",
              "</div>\n",
              "      <button class=\"colab-df-convert\" onclick=\"convertToInteractive('df-b931efd1-83b0-4c93-84e8-62bca6323415')\"\n",
              "              title=\"Convert this dataframe to an interactive table.\"\n",
              "              style=\"display:none;\">\n",
              "        \n",
              "  <svg xmlns=\"http://www.w3.org/2000/svg\" height=\"24px\"viewBox=\"0 0 24 24\"\n",
              "       width=\"24px\">\n",
              "    <path d=\"M0 0h24v24H0V0z\" fill=\"none\"/>\n",
              "    <path d=\"M18.56 5.44l.94 2.06.94-2.06 2.06-.94-2.06-.94-.94-2.06-.94 2.06-2.06.94zm-11 1L8.5 8.5l.94-2.06 2.06-.94-2.06-.94L8.5 2.5l-.94 2.06-2.06.94zm10 10l.94 2.06.94-2.06 2.06-.94-2.06-.94-.94-2.06-.94 2.06-2.06.94z\"/><path d=\"M17.41 7.96l-1.37-1.37c-.4-.4-.92-.59-1.43-.59-.52 0-1.04.2-1.43.59L10.3 9.45l-7.72 7.72c-.78.78-.78 2.05 0 2.83L4 21.41c.39.39.9.59 1.41.59.51 0 1.02-.2 1.41-.59l7.78-7.78 2.81-2.81c.8-.78.8-2.07 0-2.86zM5.41 20L4 18.59l7.72-7.72 1.47 1.35L5.41 20z\"/>\n",
              "  </svg>\n",
              "      </button>\n",
              "      \n",
              "  <style>\n",
              "    .colab-df-container {\n",
              "      display:flex;\n",
              "      flex-wrap:wrap;\n",
              "      gap: 12px;\n",
              "    }\n",
              "\n",
              "    .colab-df-convert {\n",
              "      background-color: #E8F0FE;\n",
              "      border: none;\n",
              "      border-radius: 50%;\n",
              "      cursor: pointer;\n",
              "      display: none;\n",
              "      fill: #1967D2;\n",
              "      height: 32px;\n",
              "      padding: 0 0 0 0;\n",
              "      width: 32px;\n",
              "    }\n",
              "\n",
              "    .colab-df-convert:hover {\n",
              "      background-color: #E2EBFA;\n",
              "      box-shadow: 0px 1px 2px rgba(60, 64, 67, 0.3), 0px 1px 3px 1px rgba(60, 64, 67, 0.15);\n",
              "      fill: #174EA6;\n",
              "    }\n",
              "\n",
              "    [theme=dark] .colab-df-convert {\n",
              "      background-color: #3B4455;\n",
              "      fill: #D2E3FC;\n",
              "    }\n",
              "\n",
              "    [theme=dark] .colab-df-convert:hover {\n",
              "      background-color: #434B5C;\n",
              "      box-shadow: 0px 1px 3px 1px rgba(0, 0, 0, 0.15);\n",
              "      filter: drop-shadow(0px 1px 2px rgba(0, 0, 0, 0.3));\n",
              "      fill: #FFFFFF;\n",
              "    }\n",
              "  </style>\n",
              "\n",
              "      <script>\n",
              "        const buttonEl =\n",
              "          document.querySelector('#df-b931efd1-83b0-4c93-84e8-62bca6323415 button.colab-df-convert');\n",
              "        buttonEl.style.display =\n",
              "          google.colab.kernel.accessAllowed ? 'block' : 'none';\n",
              "\n",
              "        async function convertToInteractive(key) {\n",
              "          const element = document.querySelector('#df-b931efd1-83b0-4c93-84e8-62bca6323415');\n",
              "          const dataTable =\n",
              "            await google.colab.kernel.invokeFunction('convertToInteractive',\n",
              "                                                     [key], {});\n",
              "          if (!dataTable) return;\n",
              "\n",
              "          const docLinkHtml = 'Like what you see? Visit the ' +\n",
              "            '<a target=\"_blank\" href=https://colab.research.google.com/notebooks/data_table.ipynb>data table notebook</a>'\n",
              "            + ' to learn more about interactive tables.';\n",
              "          element.innerHTML = '';\n",
              "          dataTable['output_type'] = 'display_data';\n",
              "          await google.colab.output.renderOutput(dataTable, element);\n",
              "          const docLink = document.createElement('div');\n",
              "          docLink.innerHTML = docLinkHtml;\n",
              "          element.appendChild(docLink);\n",
              "        }\n",
              "      </script>\n",
              "    </div>\n",
              "  </div>\n",
              "  "
            ],
            "text/plain": [
              "   M  0.455  0.365  0.095   0.514  0.2245   0.101   0.15  15\n",
              "0  M  0.350  0.265  0.090  0.2255  0.0995  0.0485  0.070   7\n",
              "1  F  0.530  0.420  0.135  0.6770  0.2565  0.1415  0.210   9\n",
              "2  M  0.440  0.365  0.125  0.5160  0.2155  0.1140  0.155  10\n",
              "3  I  0.330  0.255  0.080  0.2050  0.0895  0.0395  0.055   7\n",
              "4  I  0.425  0.300  0.095  0.3515  0.1410  0.0775  0.120   8"
            ]
          },
          "metadata": {},
          "execution_count": 334
        }
      ]
    },
    {
      "cell_type": "markdown",
      "source": [
        "#Limpieza de datos "
      ],
      "metadata": {
        "id": "1fSnaKpVmC8z"
      }
    },
    {
      "cell_type": "code",
      "source": [
        "#observamos que no hay datos faltantes \n",
        "df.info()"
      ],
      "metadata": {
        "colab": {
          "base_uri": "https://localhost:8080/"
        },
        "id": "hTEdYTdNk2zh",
        "outputId": "6e2e8c0d-5fc8-4ec3-a0b5-188ff1b01ae3"
      },
      "execution_count": 335,
      "outputs": [
        {
          "output_type": "stream",
          "name": "stdout",
          "text": [
            "<class 'pandas.core.frame.DataFrame'>\n",
            "RangeIndex: 4176 entries, 0 to 4175\n",
            "Data columns (total 9 columns):\n",
            " #   Column  Non-Null Count  Dtype  \n",
            "---  ------  --------------  -----  \n",
            " 0   M       4176 non-null   object \n",
            " 1   0.455   4176 non-null   float64\n",
            " 2   0.365   4176 non-null   float64\n",
            " 3   0.095   4176 non-null   float64\n",
            " 4   0.514   4176 non-null   float64\n",
            " 5   0.2245  4176 non-null   float64\n",
            " 6   0.101   4176 non-null   float64\n",
            " 7   0.15    4176 non-null   float64\n",
            " 8   15      4176 non-null   int64  \n",
            "dtypes: float64(7), int64(1), object(1)\n",
            "memory usage: 293.8+ KB\n"
          ]
        }
      ]
    },
    {
      "cell_type": "code",
      "source": [
        "#nuestra base de datos está completa\n",
        "df.isnull().sum() "
      ],
      "metadata": {
        "colab": {
          "base_uri": "https://localhost:8080/"
        },
        "id": "ZpE7imwgk8Ur",
        "outputId": "fce6b63e-0fa2-403b-ec3a-201e916ef1b2"
      },
      "execution_count": 336,
      "outputs": [
        {
          "output_type": "execute_result",
          "data": {
            "text/plain": [
              "M         0\n",
              "0.455     0\n",
              "0.365     0\n",
              "0.095     0\n",
              "0.514     0\n",
              "0.2245    0\n",
              "0.101     0\n",
              "0.15      0\n",
              "15        0\n",
              "dtype: int64"
            ]
          },
          "metadata": {},
          "execution_count": 336
        }
      ]
    },
    {
      "cell_type": "markdown",
      "source": [
        "Ahora, se observa que los nombres de las columnas son en realidad parte de otra fila de datos"
      ],
      "metadata": {
        "id": "KLy808xCmAbP"
      }
    },
    {
      "cell_type": "code",
      "source": [
        "df.columns.values[0:9]"
      ],
      "metadata": {
        "colab": {
          "base_uri": "https://localhost:8080/"
        },
        "id": "wjwpKyoMmLnM",
        "outputId": "a62ff675-773c-496a-d1ff-2782a0bd746e"
      },
      "execution_count": 337,
      "outputs": [
        {
          "output_type": "execute_result",
          "data": {
            "text/plain": [
              "array(['M', '0.455', '0.365', '0.095', '0.514', '0.2245', '0.101', '0.15',\n",
              "       '15'], dtype=object)"
            ]
          },
          "metadata": {},
          "execution_count": 337
        }
      ]
    },
    {
      "cell_type": "code",
      "source": [
        "#Creación de un diccionario para anexarlo a nuestra df \n",
        "extra_fila = {'M':'M','0.455':0.455,'0.365':0.365,'0.095':0.095,'0.514':0.514,'0.2245':0.2245, '0.101': 0.101,'0.15':0.15,'15':15}\n",
        "#Se anexa a la df / Nota: no olvidar el 'ignore_index = True' o arrojará error\n",
        "df = df.append(extra_fila,ignore_index = True)\n",
        "df.tail() "
      ],
      "metadata": {
        "colab": {
          "base_uri": "https://localhost:8080/",
          "height": 207
        },
        "id": "qaYb6HUZmlm8",
        "outputId": "ec6bc770-2a63-404e-c20c-fd5d3e416a69"
      },
      "execution_count": 338,
      "outputs": [
        {
          "output_type": "execute_result",
          "data": {
            "text/html": [
              "\n",
              "  <div id=\"df-055bdcbe-efa7-4974-9ebf-b48c4e961bc4\">\n",
              "    <div class=\"colab-df-container\">\n",
              "      <div>\n",
              "<style scoped>\n",
              "    .dataframe tbody tr th:only-of-type {\n",
              "        vertical-align: middle;\n",
              "    }\n",
              "\n",
              "    .dataframe tbody tr th {\n",
              "        vertical-align: top;\n",
              "    }\n",
              "\n",
              "    .dataframe thead th {\n",
              "        text-align: right;\n",
              "    }\n",
              "</style>\n",
              "<table border=\"1\" class=\"dataframe\">\n",
              "  <thead>\n",
              "    <tr style=\"text-align: right;\">\n",
              "      <th></th>\n",
              "      <th>M</th>\n",
              "      <th>0.455</th>\n",
              "      <th>0.365</th>\n",
              "      <th>0.095</th>\n",
              "      <th>0.514</th>\n",
              "      <th>0.2245</th>\n",
              "      <th>0.101</th>\n",
              "      <th>0.15</th>\n",
              "      <th>15</th>\n",
              "    </tr>\n",
              "  </thead>\n",
              "  <tbody>\n",
              "    <tr>\n",
              "      <th>4172</th>\n",
              "      <td>M</td>\n",
              "      <td>0.590</td>\n",
              "      <td>0.440</td>\n",
              "      <td>0.135</td>\n",
              "      <td>0.9660</td>\n",
              "      <td>0.4390</td>\n",
              "      <td>0.2145</td>\n",
              "      <td>0.2605</td>\n",
              "      <td>10</td>\n",
              "    </tr>\n",
              "    <tr>\n",
              "      <th>4173</th>\n",
              "      <td>M</td>\n",
              "      <td>0.600</td>\n",
              "      <td>0.475</td>\n",
              "      <td>0.205</td>\n",
              "      <td>1.1760</td>\n",
              "      <td>0.5255</td>\n",
              "      <td>0.2875</td>\n",
              "      <td>0.3080</td>\n",
              "      <td>9</td>\n",
              "    </tr>\n",
              "    <tr>\n",
              "      <th>4174</th>\n",
              "      <td>F</td>\n",
              "      <td>0.625</td>\n",
              "      <td>0.485</td>\n",
              "      <td>0.150</td>\n",
              "      <td>1.0945</td>\n",
              "      <td>0.5310</td>\n",
              "      <td>0.2610</td>\n",
              "      <td>0.2960</td>\n",
              "      <td>10</td>\n",
              "    </tr>\n",
              "    <tr>\n",
              "      <th>4175</th>\n",
              "      <td>M</td>\n",
              "      <td>0.710</td>\n",
              "      <td>0.555</td>\n",
              "      <td>0.195</td>\n",
              "      <td>1.9485</td>\n",
              "      <td>0.9455</td>\n",
              "      <td>0.3765</td>\n",
              "      <td>0.4950</td>\n",
              "      <td>12</td>\n",
              "    </tr>\n",
              "    <tr>\n",
              "      <th>4176</th>\n",
              "      <td>M</td>\n",
              "      <td>0.455</td>\n",
              "      <td>0.365</td>\n",
              "      <td>0.095</td>\n",
              "      <td>0.5140</td>\n",
              "      <td>0.2245</td>\n",
              "      <td>0.1010</td>\n",
              "      <td>0.1500</td>\n",
              "      <td>15</td>\n",
              "    </tr>\n",
              "  </tbody>\n",
              "</table>\n",
              "</div>\n",
              "      <button class=\"colab-df-convert\" onclick=\"convertToInteractive('df-055bdcbe-efa7-4974-9ebf-b48c4e961bc4')\"\n",
              "              title=\"Convert this dataframe to an interactive table.\"\n",
              "              style=\"display:none;\">\n",
              "        \n",
              "  <svg xmlns=\"http://www.w3.org/2000/svg\" height=\"24px\"viewBox=\"0 0 24 24\"\n",
              "       width=\"24px\">\n",
              "    <path d=\"M0 0h24v24H0V0z\" fill=\"none\"/>\n",
              "    <path d=\"M18.56 5.44l.94 2.06.94-2.06 2.06-.94-2.06-.94-.94-2.06-.94 2.06-2.06.94zm-11 1L8.5 8.5l.94-2.06 2.06-.94-2.06-.94L8.5 2.5l-.94 2.06-2.06.94zm10 10l.94 2.06.94-2.06 2.06-.94-2.06-.94-.94-2.06-.94 2.06-2.06.94z\"/><path d=\"M17.41 7.96l-1.37-1.37c-.4-.4-.92-.59-1.43-.59-.52 0-1.04.2-1.43.59L10.3 9.45l-7.72 7.72c-.78.78-.78 2.05 0 2.83L4 21.41c.39.39.9.59 1.41.59.51 0 1.02-.2 1.41-.59l7.78-7.78 2.81-2.81c.8-.78.8-2.07 0-2.86zM5.41 20L4 18.59l7.72-7.72 1.47 1.35L5.41 20z\"/>\n",
              "  </svg>\n",
              "      </button>\n",
              "      \n",
              "  <style>\n",
              "    .colab-df-container {\n",
              "      display:flex;\n",
              "      flex-wrap:wrap;\n",
              "      gap: 12px;\n",
              "    }\n",
              "\n",
              "    .colab-df-convert {\n",
              "      background-color: #E8F0FE;\n",
              "      border: none;\n",
              "      border-radius: 50%;\n",
              "      cursor: pointer;\n",
              "      display: none;\n",
              "      fill: #1967D2;\n",
              "      height: 32px;\n",
              "      padding: 0 0 0 0;\n",
              "      width: 32px;\n",
              "    }\n",
              "\n",
              "    .colab-df-convert:hover {\n",
              "      background-color: #E2EBFA;\n",
              "      box-shadow: 0px 1px 2px rgba(60, 64, 67, 0.3), 0px 1px 3px 1px rgba(60, 64, 67, 0.15);\n",
              "      fill: #174EA6;\n",
              "    }\n",
              "\n",
              "    [theme=dark] .colab-df-convert {\n",
              "      background-color: #3B4455;\n",
              "      fill: #D2E3FC;\n",
              "    }\n",
              "\n",
              "    [theme=dark] .colab-df-convert:hover {\n",
              "      background-color: #434B5C;\n",
              "      box-shadow: 0px 1px 3px 1px rgba(0, 0, 0, 0.15);\n",
              "      filter: drop-shadow(0px 1px 2px rgba(0, 0, 0, 0.3));\n",
              "      fill: #FFFFFF;\n",
              "    }\n",
              "  </style>\n",
              "\n",
              "      <script>\n",
              "        const buttonEl =\n",
              "          document.querySelector('#df-055bdcbe-efa7-4974-9ebf-b48c4e961bc4 button.colab-df-convert');\n",
              "        buttonEl.style.display =\n",
              "          google.colab.kernel.accessAllowed ? 'block' : 'none';\n",
              "\n",
              "        async function convertToInteractive(key) {\n",
              "          const element = document.querySelector('#df-055bdcbe-efa7-4974-9ebf-b48c4e961bc4');\n",
              "          const dataTable =\n",
              "            await google.colab.kernel.invokeFunction('convertToInteractive',\n",
              "                                                     [key], {});\n",
              "          if (!dataTable) return;\n",
              "\n",
              "          const docLinkHtml = 'Like what you see? Visit the ' +\n",
              "            '<a target=\"_blank\" href=https://colab.research.google.com/notebooks/data_table.ipynb>data table notebook</a>'\n",
              "            + ' to learn more about interactive tables.';\n",
              "          element.innerHTML = '';\n",
              "          dataTable['output_type'] = 'display_data';\n",
              "          await google.colab.output.renderOutput(dataTable, element);\n",
              "          const docLink = document.createElement('div');\n",
              "          docLink.innerHTML = docLinkHtml;\n",
              "          element.appendChild(docLink);\n",
              "        }\n",
              "      </script>\n",
              "    </div>\n",
              "  </div>\n",
              "  "
            ],
            "text/plain": [
              "      M  0.455  0.365  0.095   0.514  0.2245   0.101    0.15  15\n",
              "4172  M  0.590  0.440  0.135  0.9660  0.4390  0.2145  0.2605  10\n",
              "4173  M  0.600  0.475  0.205  1.1760  0.5255  0.2875  0.3080   9\n",
              "4174  F  0.625  0.485  0.150  1.0945  0.5310  0.2610  0.2960  10\n",
              "4175  M  0.710  0.555  0.195  1.9485  0.9455  0.3765  0.4950  12\n",
              "4176  M  0.455  0.365  0.095  0.5140  0.2245  0.1010  0.1500  15"
            ]
          },
          "metadata": {},
          "execution_count": 338
        }
      ]
    },
    {
      "cell_type": "markdown",
      "source": [
        "Efectivamente, nuestra última fila ya se encuentra en la df\n",
        "\n",
        "![Sin título3.png](data:image/png;base64,iVBORw0KGgoAAAANSUhEUgAAAX0AAAAbCAIAAAAfwcj1AAAAAXNSR0IArs4c6QAAAARnQU1BAACxjwv8YQUAAAAJcEhZcwAADsMAAA7DAcdvqGQAAALHSURBVHhe7Z1dbhsxDITdoq++j4/lo/iuvkBnl6rAkvqhY4lu0PkeNhSXmqHWghDHgPPjdrtdCCEkkb/Onev1WiJCCFnN8/mU4Kf8IISQNHjuEEKy4blDCMmG5w4hJBueO4SQbHjuEEKyCX2O/ng8cL3f734occUk65QxqDeVPjNm6qgFazGQpM/EGVj7W4MMeMk63zfiCLRFs9L3EGygEulk6tLsBASbGfQAtDhoFkdqBnytASB5P/3VBoSpkaZ+jv5LfgzQQsAMfdMSII8ABNegKxFLEMTM9Y5e0NcE+zQMrP2tXrGeFaQnBfytXrGeNaUnUjEZ1JRIoZNTwR6Dif5WrxixBBWtM6UnKxjxZnGkZsC43ogLusZPHwv2mBr1mLzPMh00bYDkjR+GJvMR/BJMVz6zhLGm3N1kPWWtb/CRJizW6zcdTSe7n4Zn66Pw4pvs3jF6+e87QV10AMogAGSlHtcdz0hztnZQxq3MKkS2rkiGQIagjDdYjymui3yL1h+13a/gckr3K55GZO1bn09TvCxv6TZ7x2j0PguTjXTPCVdfebpvP0TG+Ab0UO76TBmsQNSqbBVPsK5AFuJlcLLWN6K2b3VNvF3N+Ft6mNxnDmkLjBvN32eBGkvwvahL+Kb9LwE7QCjjT5D2QkDfrNRkjj7++y3xWUbnzrlRD+pQgk1AH/tgrcvR/YnEuPqttmnzRWRz9v3uJUfU5FUAEktyB2jG6JvM0cSJxLiufRr/IGkLjBu9+zm6H4Jqr5MDUF93gAmCeEejoIfNYgleMhUG1hGjL1vn+77kCOpdjU42Z0XwE0W25oVmpkRvd+KnGEHjJYFJTmsG+HotOBWPZCJMjTT1c3R+DwYhJAl+DwYh5GPw3CGEZMNzhxCSDc8dQkg2PHcIIdnw3CGEZMNzhxCSDf9/FiEkG/6+QwjJhucOISSXy+U303bK46Nmok8AAAAASUVORK5CYII=)"
      ],
      "metadata": {
        "id": "z7mIXKk7oupr"
      }
    },
    {
      "cell_type": "code",
      "source": [
        "#vemos la info de la df de nuevo para ver si no se cambiaron los tipos de datos\n",
        "df.info()"
      ],
      "metadata": {
        "colab": {
          "base_uri": "https://localhost:8080/"
        },
        "id": "f0t3vxdom_ii",
        "outputId": "f8c0805d-a462-4bbd-dd46-4fc24aa8900f"
      },
      "execution_count": 339,
      "outputs": [
        {
          "output_type": "stream",
          "name": "stdout",
          "text": [
            "<class 'pandas.core.frame.DataFrame'>\n",
            "RangeIndex: 4177 entries, 0 to 4176\n",
            "Data columns (total 9 columns):\n",
            " #   Column  Non-Null Count  Dtype  \n",
            "---  ------  --------------  -----  \n",
            " 0   M       4177 non-null   object \n",
            " 1   0.455   4177 non-null   float64\n",
            " 2   0.365   4177 non-null   float64\n",
            " 3   0.095   4177 non-null   float64\n",
            " 4   0.514   4177 non-null   float64\n",
            " 5   0.2245  4177 non-null   float64\n",
            " 6   0.101   4177 non-null   float64\n",
            " 7   0.15    4177 non-null   float64\n",
            " 8   15      4177 non-null   int64  \n",
            "dtypes: float64(7), int64(1), object(1)\n",
            "memory usage: 293.8+ KB\n"
          ]
        }
      ]
    },
    {
      "cell_type": "markdown",
      "source": [
        "Todo está correcto con respecto a los valores."
      ],
      "metadata": {
        "id": "xYtjoIxEpnZz"
      }
    },
    {
      "cell_type": "markdown",
      "source": [
        "Ahora, se cambian los valores de las columnas con respecto a los datos que se presentan en el documento de información sobre el df\n",
        "\n",
        "![Sin título2.png](data:image/png;base64,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)"
      ],
      "metadata": {
        "id": "YrYYCZLupsvc"
      }
    },
    {
      "cell_type": "code",
      "source": [
        "#creamos una lista con los nombres de columnas nuevos y reeemplazamos \n",
        "df.columns = ['Sexo','Largo (mm)','Diámetro (mm)','Ancho (mm)','Peso total (grs)', 'Peso de carne (grs)','Peso vísceras (grs)','Peso caparazón (grs)','N° Anillos']"
      ],
      "metadata": {
        "id": "3hSzF7FqpJsX"
      },
      "execution_count": 340,
      "outputs": []
    },
    {
      "cell_type": "code",
      "source": [
        "df.head() #comprobamos los cambios"
      ],
      "metadata": {
        "colab": {
          "base_uri": "https://localhost:8080/",
          "height": 207
        },
        "id": "8Jnv6653rhhx",
        "outputId": "ee1168b7-95e7-4284-eb00-6ec15b7a3fde"
      },
      "execution_count": 341,
      "outputs": [
        {
          "output_type": "execute_result",
          "data": {
            "text/html": [
              "\n",
              "  <div id=\"df-96bd622b-41e6-45b8-9369-f5b2ed1f373b\">\n",
              "    <div class=\"colab-df-container\">\n",
              "      <div>\n",
              "<style scoped>\n",
              "    .dataframe tbody tr th:only-of-type {\n",
              "        vertical-align: middle;\n",
              "    }\n",
              "\n",
              "    .dataframe tbody tr th {\n",
              "        vertical-align: top;\n",
              "    }\n",
              "\n",
              "    .dataframe thead th {\n",
              "        text-align: right;\n",
              "    }\n",
              "</style>\n",
              "<table border=\"1\" class=\"dataframe\">\n",
              "  <thead>\n",
              "    <tr style=\"text-align: right;\">\n",
              "      <th></th>\n",
              "      <th>Sexo</th>\n",
              "      <th>Largo (mm)</th>\n",
              "      <th>Diámetro (mm)</th>\n",
              "      <th>Ancho (mm)</th>\n",
              "      <th>Peso total (grs)</th>\n",
              "      <th>Peso de carne (grs)</th>\n",
              "      <th>Peso vísceras (grs)</th>\n",
              "      <th>Peso caparazón (grs)</th>\n",
              "      <th>N° Anillos</th>\n",
              "    </tr>\n",
              "  </thead>\n",
              "  <tbody>\n",
              "    <tr>\n",
              "      <th>0</th>\n",
              "      <td>M</td>\n",
              "      <td>0.350</td>\n",
              "      <td>0.265</td>\n",
              "      <td>0.090</td>\n",
              "      <td>0.2255</td>\n",
              "      <td>0.0995</td>\n",
              "      <td>0.0485</td>\n",
              "      <td>0.070</td>\n",
              "      <td>7</td>\n",
              "    </tr>\n",
              "    <tr>\n",
              "      <th>1</th>\n",
              "      <td>F</td>\n",
              "      <td>0.530</td>\n",
              "      <td>0.420</td>\n",
              "      <td>0.135</td>\n",
              "      <td>0.6770</td>\n",
              "      <td>0.2565</td>\n",
              "      <td>0.1415</td>\n",
              "      <td>0.210</td>\n",
              "      <td>9</td>\n",
              "    </tr>\n",
              "    <tr>\n",
              "      <th>2</th>\n",
              "      <td>M</td>\n",
              "      <td>0.440</td>\n",
              "      <td>0.365</td>\n",
              "      <td>0.125</td>\n",
              "      <td>0.5160</td>\n",
              "      <td>0.2155</td>\n",
              "      <td>0.1140</td>\n",
              "      <td>0.155</td>\n",
              "      <td>10</td>\n",
              "    </tr>\n",
              "    <tr>\n",
              "      <th>3</th>\n",
              "      <td>I</td>\n",
              "      <td>0.330</td>\n",
              "      <td>0.255</td>\n",
              "      <td>0.080</td>\n",
              "      <td>0.2050</td>\n",
              "      <td>0.0895</td>\n",
              "      <td>0.0395</td>\n",
              "      <td>0.055</td>\n",
              "      <td>7</td>\n",
              "    </tr>\n",
              "    <tr>\n",
              "      <th>4</th>\n",
              "      <td>I</td>\n",
              "      <td>0.425</td>\n",
              "      <td>0.300</td>\n",
              "      <td>0.095</td>\n",
              "      <td>0.3515</td>\n",
              "      <td>0.1410</td>\n",
              "      <td>0.0775</td>\n",
              "      <td>0.120</td>\n",
              "      <td>8</td>\n",
              "    </tr>\n",
              "  </tbody>\n",
              "</table>\n",
              "</div>\n",
              "      <button class=\"colab-df-convert\" onclick=\"convertToInteractive('df-96bd622b-41e6-45b8-9369-f5b2ed1f373b')\"\n",
              "              title=\"Convert this dataframe to an interactive table.\"\n",
              "              style=\"display:none;\">\n",
              "        \n",
              "  <svg xmlns=\"http://www.w3.org/2000/svg\" height=\"24px\"viewBox=\"0 0 24 24\"\n",
              "       width=\"24px\">\n",
              "    <path d=\"M0 0h24v24H0V0z\" fill=\"none\"/>\n",
              "    <path d=\"M18.56 5.44l.94 2.06.94-2.06 2.06-.94-2.06-.94-.94-2.06-.94 2.06-2.06.94zm-11 1L8.5 8.5l.94-2.06 2.06-.94-2.06-.94L8.5 2.5l-.94 2.06-2.06.94zm10 10l.94 2.06.94-2.06 2.06-.94-2.06-.94-.94-2.06-.94 2.06-2.06.94z\"/><path d=\"M17.41 7.96l-1.37-1.37c-.4-.4-.92-.59-1.43-.59-.52 0-1.04.2-1.43.59L10.3 9.45l-7.72 7.72c-.78.78-.78 2.05 0 2.83L4 21.41c.39.39.9.59 1.41.59.51 0 1.02-.2 1.41-.59l7.78-7.78 2.81-2.81c.8-.78.8-2.07 0-2.86zM5.41 20L4 18.59l7.72-7.72 1.47 1.35L5.41 20z\"/>\n",
              "  </svg>\n",
              "      </button>\n",
              "      \n",
              "  <style>\n",
              "    .colab-df-container {\n",
              "      display:flex;\n",
              "      flex-wrap:wrap;\n",
              "      gap: 12px;\n",
              "    }\n",
              "\n",
              "    .colab-df-convert {\n",
              "      background-color: #E8F0FE;\n",
              "      border: none;\n",
              "      border-radius: 50%;\n",
              "      cursor: pointer;\n",
              "      display: none;\n",
              "      fill: #1967D2;\n",
              "      height: 32px;\n",
              "      padding: 0 0 0 0;\n",
              "      width: 32px;\n",
              "    }\n",
              "\n",
              "    .colab-df-convert:hover {\n",
              "      background-color: #E2EBFA;\n",
              "      box-shadow: 0px 1px 2px rgba(60, 64, 67, 0.3), 0px 1px 3px 1px rgba(60, 64, 67, 0.15);\n",
              "      fill: #174EA6;\n",
              "    }\n",
              "\n",
              "    [theme=dark] .colab-df-convert {\n",
              "      background-color: #3B4455;\n",
              "      fill: #D2E3FC;\n",
              "    }\n",
              "\n",
              "    [theme=dark] .colab-df-convert:hover {\n",
              "      background-color: #434B5C;\n",
              "      box-shadow: 0px 1px 3px 1px rgba(0, 0, 0, 0.15);\n",
              "      filter: drop-shadow(0px 1px 2px rgba(0, 0, 0, 0.3));\n",
              "      fill: #FFFFFF;\n",
              "    }\n",
              "  </style>\n",
              "\n",
              "      <script>\n",
              "        const buttonEl =\n",
              "          document.querySelector('#df-96bd622b-41e6-45b8-9369-f5b2ed1f373b button.colab-df-convert');\n",
              "        buttonEl.style.display =\n",
              "          google.colab.kernel.accessAllowed ? 'block' : 'none';\n",
              "\n",
              "        async function convertToInteractive(key) {\n",
              "          const element = document.querySelector('#df-96bd622b-41e6-45b8-9369-f5b2ed1f373b');\n",
              "          const dataTable =\n",
              "            await google.colab.kernel.invokeFunction('convertToInteractive',\n",
              "                                                     [key], {});\n",
              "          if (!dataTable) return;\n",
              "\n",
              "          const docLinkHtml = 'Like what you see? Visit the ' +\n",
              "            '<a target=\"_blank\" href=https://colab.research.google.com/notebooks/data_table.ipynb>data table notebook</a>'\n",
              "            + ' to learn more about interactive tables.';\n",
              "          element.innerHTML = '';\n",
              "          dataTable['output_type'] = 'display_data';\n",
              "          await google.colab.output.renderOutput(dataTable, element);\n",
              "          const docLink = document.createElement('div');\n",
              "          docLink.innerHTML = docLinkHtml;\n",
              "          element.appendChild(docLink);\n",
              "        }\n",
              "      </script>\n",
              "    </div>\n",
              "  </div>\n",
              "  "
            ],
            "text/plain": [
              "  Sexo  Largo (mm)  ...  Peso caparazón (grs)  N° Anillos\n",
              "0    M       0.350  ...                 0.070           7\n",
              "1    F       0.530  ...                 0.210           9\n",
              "2    M       0.440  ...                 0.155          10\n",
              "3    I       0.330  ...                 0.055           7\n",
              "4    I       0.425  ...                 0.120           8\n",
              "\n",
              "[5 rows x 9 columns]"
            ]
          },
          "metadata": {},
          "execution_count": 341
        }
      ]
    },
    {
      "cell_type": "markdown",
      "source": [
        "Listo!"
      ],
      "metadata": {
        "id": "LKrDy1pMr1cU"
      }
    },
    {
      "cell_type": "markdown",
      "source": [
        "# Tarea\n",
        "Realizar una regresión lineal y KNN para la tarea de regresión de usar el conjunto de datos de abulón para predecir la edad a partir de sus características. La diferencia es que debe realizar la tarea con y sin división entrenar probar."
      ],
      "metadata": {
        "id": "4sNbACtRsJK0"
      }
    },
    {
      "cell_type": "markdown",
      "source": [
        "## Tarea N° 1\n",
        "- KNN con división entrenar probar"
      ],
      "metadata": {
        "id": "RYHHG1ulsiNs"
      }
    },
    {
      "cell_type": "code",
      "source": [
        "#mostramos la df que usaremos\n",
        "df.head()"
      ],
      "metadata": {
        "colab": {
          "base_uri": "https://localhost:8080/",
          "height": 207
        },
        "id": "evYnloYZri5a",
        "outputId": "1468cca5-25e4-4353-88dd-88386b3ba415"
      },
      "execution_count": 342,
      "outputs": [
        {
          "output_type": "execute_result",
          "data": {
            "text/html": [
              "\n",
              "  <div id=\"df-f91bf747-58e6-4f7d-8353-17cf7531854a\">\n",
              "    <div class=\"colab-df-container\">\n",
              "      <div>\n",
              "<style scoped>\n",
              "    .dataframe tbody tr th:only-of-type {\n",
              "        vertical-align: middle;\n",
              "    }\n",
              "\n",
              "    .dataframe tbody tr th {\n",
              "        vertical-align: top;\n",
              "    }\n",
              "\n",
              "    .dataframe thead th {\n",
              "        text-align: right;\n",
              "    }\n",
              "</style>\n",
              "<table border=\"1\" class=\"dataframe\">\n",
              "  <thead>\n",
              "    <tr style=\"text-align: right;\">\n",
              "      <th></th>\n",
              "      <th>Sexo</th>\n",
              "      <th>Largo (mm)</th>\n",
              "      <th>Diámetro (mm)</th>\n",
              "      <th>Ancho (mm)</th>\n",
              "      <th>Peso total (grs)</th>\n",
              "      <th>Peso de carne (grs)</th>\n",
              "      <th>Peso vísceras (grs)</th>\n",
              "      <th>Peso caparazón (grs)</th>\n",
              "      <th>N° Anillos</th>\n",
              "    </tr>\n",
              "  </thead>\n",
              "  <tbody>\n",
              "    <tr>\n",
              "      <th>0</th>\n",
              "      <td>M</td>\n",
              "      <td>0.350</td>\n",
              "      <td>0.265</td>\n",
              "      <td>0.090</td>\n",
              "      <td>0.2255</td>\n",
              "      <td>0.0995</td>\n",
              "      <td>0.0485</td>\n",
              "      <td>0.070</td>\n",
              "      <td>7</td>\n",
              "    </tr>\n",
              "    <tr>\n",
              "      <th>1</th>\n",
              "      <td>F</td>\n",
              "      <td>0.530</td>\n",
              "      <td>0.420</td>\n",
              "      <td>0.135</td>\n",
              "      <td>0.6770</td>\n",
              "      <td>0.2565</td>\n",
              "      <td>0.1415</td>\n",
              "      <td>0.210</td>\n",
              "      <td>9</td>\n",
              "    </tr>\n",
              "    <tr>\n",
              "      <th>2</th>\n",
              "      <td>M</td>\n",
              "      <td>0.440</td>\n",
              "      <td>0.365</td>\n",
              "      <td>0.125</td>\n",
              "      <td>0.5160</td>\n",
              "      <td>0.2155</td>\n",
              "      <td>0.1140</td>\n",
              "      <td>0.155</td>\n",
              "      <td>10</td>\n",
              "    </tr>\n",
              "    <tr>\n",
              "      <th>3</th>\n",
              "      <td>I</td>\n",
              "      <td>0.330</td>\n",
              "      <td>0.255</td>\n",
              "      <td>0.080</td>\n",
              "      <td>0.2050</td>\n",
              "      <td>0.0895</td>\n",
              "      <td>0.0395</td>\n",
              "      <td>0.055</td>\n",
              "      <td>7</td>\n",
              "    </tr>\n",
              "    <tr>\n",
              "      <th>4</th>\n",
              "      <td>I</td>\n",
              "      <td>0.425</td>\n",
              "      <td>0.300</td>\n",
              "      <td>0.095</td>\n",
              "      <td>0.3515</td>\n",
              "      <td>0.1410</td>\n",
              "      <td>0.0775</td>\n",
              "      <td>0.120</td>\n",
              "      <td>8</td>\n",
              "    </tr>\n",
              "  </tbody>\n",
              "</table>\n",
              "</div>\n",
              "      <button class=\"colab-df-convert\" onclick=\"convertToInteractive('df-f91bf747-58e6-4f7d-8353-17cf7531854a')\"\n",
              "              title=\"Convert this dataframe to an interactive table.\"\n",
              "              style=\"display:none;\">\n",
              "        \n",
              "  <svg xmlns=\"http://www.w3.org/2000/svg\" height=\"24px\"viewBox=\"0 0 24 24\"\n",
              "       width=\"24px\">\n",
              "    <path d=\"M0 0h24v24H0V0z\" fill=\"none\"/>\n",
              "    <path d=\"M18.56 5.44l.94 2.06.94-2.06 2.06-.94-2.06-.94-.94-2.06-.94 2.06-2.06.94zm-11 1L8.5 8.5l.94-2.06 2.06-.94-2.06-.94L8.5 2.5l-.94 2.06-2.06.94zm10 10l.94 2.06.94-2.06 2.06-.94-2.06-.94-.94-2.06-.94 2.06-2.06.94z\"/><path d=\"M17.41 7.96l-1.37-1.37c-.4-.4-.92-.59-1.43-.59-.52 0-1.04.2-1.43.59L10.3 9.45l-7.72 7.72c-.78.78-.78 2.05 0 2.83L4 21.41c.39.39.9.59 1.41.59.51 0 1.02-.2 1.41-.59l7.78-7.78 2.81-2.81c.8-.78.8-2.07 0-2.86zM5.41 20L4 18.59l7.72-7.72 1.47 1.35L5.41 20z\"/>\n",
              "  </svg>\n",
              "      </button>\n",
              "      \n",
              "  <style>\n",
              "    .colab-df-container {\n",
              "      display:flex;\n",
              "      flex-wrap:wrap;\n",
              "      gap: 12px;\n",
              "    }\n",
              "\n",
              "    .colab-df-convert {\n",
              "      background-color: #E8F0FE;\n",
              "      border: none;\n",
              "      border-radius: 50%;\n",
              "      cursor: pointer;\n",
              "      display: none;\n",
              "      fill: #1967D2;\n",
              "      height: 32px;\n",
              "      padding: 0 0 0 0;\n",
              "      width: 32px;\n",
              "    }\n",
              "\n",
              "    .colab-df-convert:hover {\n",
              "      background-color: #E2EBFA;\n",
              "      box-shadow: 0px 1px 2px rgba(60, 64, 67, 0.3), 0px 1px 3px 1px rgba(60, 64, 67, 0.15);\n",
              "      fill: #174EA6;\n",
              "    }\n",
              "\n",
              "    [theme=dark] .colab-df-convert {\n",
              "      background-color: #3B4455;\n",
              "      fill: #D2E3FC;\n",
              "    }\n",
              "\n",
              "    [theme=dark] .colab-df-convert:hover {\n",
              "      background-color: #434B5C;\n",
              "      box-shadow: 0px 1px 3px 1px rgba(0, 0, 0, 0.15);\n",
              "      filter: drop-shadow(0px 1px 2px rgba(0, 0, 0, 0.3));\n",
              "      fill: #FFFFFF;\n",
              "    }\n",
              "  </style>\n",
              "\n",
              "      <script>\n",
              "        const buttonEl =\n",
              "          document.querySelector('#df-f91bf747-58e6-4f7d-8353-17cf7531854a button.colab-df-convert');\n",
              "        buttonEl.style.display =\n",
              "          google.colab.kernel.accessAllowed ? 'block' : 'none';\n",
              "\n",
              "        async function convertToInteractive(key) {\n",
              "          const element = document.querySelector('#df-f91bf747-58e6-4f7d-8353-17cf7531854a');\n",
              "          const dataTable =\n",
              "            await google.colab.kernel.invokeFunction('convertToInteractive',\n",
              "                                                     [key], {});\n",
              "          if (!dataTable) return;\n",
              "\n",
              "          const docLinkHtml = 'Like what you see? Visit the ' +\n",
              "            '<a target=\"_blank\" href=https://colab.research.google.com/notebooks/data_table.ipynb>data table notebook</a>'\n",
              "            + ' to learn more about interactive tables.';\n",
              "          element.innerHTML = '';\n",
              "          dataTable['output_type'] = 'display_data';\n",
              "          await google.colab.output.renderOutput(dataTable, element);\n",
              "          const docLink = document.createElement('div');\n",
              "          docLink.innerHTML = docLinkHtml;\n",
              "          element.appendChild(docLink);\n",
              "        }\n",
              "      </script>\n",
              "    </div>\n",
              "  </div>\n",
              "  "
            ],
            "text/plain": [
              "  Sexo  Largo (mm)  ...  Peso caparazón (grs)  N° Anillos\n",
              "0    M       0.350  ...                 0.070           7\n",
              "1    F       0.530  ...                 0.210           9\n",
              "2    M       0.440  ...                 0.155          10\n",
              "3    I       0.330  ...                 0.055           7\n",
              "4    I       0.425  ...                 0.120           8\n",
              "\n",
              "[5 rows x 9 columns]"
            ]
          },
          "metadata": {},
          "execution_count": 342
        }
      ]
    },
    {
      "cell_type": "code",
      "source": [
        "#importamos librerías que necesitaremos \n",
        "from sklearn.neighbors import KNeighborsRegressor\n",
        "from sklearn.model_selection import train_test_split\n",
        "from sklearn.metrics import mean_squared_error"
      ],
      "metadata": {
        "id": "dA_ir2owCtMm"
      },
      "execution_count": 343,
      "outputs": []
    },
    {
      "cell_type": "markdown",
      "source": [
        "Division de datos entre las variables independientes y la variable dependiente (vector obetivo)"
      ],
      "metadata": {
        "id": "JzQ30itM78zU"
      }
    },
    {
      "cell_type": "code",
      "source": [
        "X_knn_d = df.drop(['Sexo','N° Anillos'],axis =1) #variables dependientes\n",
        "X_knn_d.head()"
      ],
      "metadata": {
        "id": "2mo-gvRFyqaR",
        "colab": {
          "base_uri": "https://localhost:8080/",
          "height": 207
        },
        "outputId": "189e1307-10ca-4b74-aea3-386a5aa38edf"
      },
      "execution_count": 344,
      "outputs": [
        {
          "output_type": "execute_result",
          "data": {
            "text/html": [
              "\n",
              "  <div id=\"df-c6cae240-bb81-4f40-92fd-b54074f7b574\">\n",
              "    <div class=\"colab-df-container\">\n",
              "      <div>\n",
              "<style scoped>\n",
              "    .dataframe tbody tr th:only-of-type {\n",
              "        vertical-align: middle;\n",
              "    }\n",
              "\n",
              "    .dataframe tbody tr th {\n",
              "        vertical-align: top;\n",
              "    }\n",
              "\n",
              "    .dataframe thead th {\n",
              "        text-align: right;\n",
              "    }\n",
              "</style>\n",
              "<table border=\"1\" class=\"dataframe\">\n",
              "  <thead>\n",
              "    <tr style=\"text-align: right;\">\n",
              "      <th></th>\n",
              "      <th>Largo (mm)</th>\n",
              "      <th>Diámetro (mm)</th>\n",
              "      <th>Ancho (mm)</th>\n",
              "      <th>Peso total (grs)</th>\n",
              "      <th>Peso de carne (grs)</th>\n",
              "      <th>Peso vísceras (grs)</th>\n",
              "      <th>Peso caparazón (grs)</th>\n",
              "    </tr>\n",
              "  </thead>\n",
              "  <tbody>\n",
              "    <tr>\n",
              "      <th>0</th>\n",
              "      <td>0.350</td>\n",
              "      <td>0.265</td>\n",
              "      <td>0.090</td>\n",
              "      <td>0.2255</td>\n",
              "      <td>0.0995</td>\n",
              "      <td>0.0485</td>\n",
              "      <td>0.070</td>\n",
              "    </tr>\n",
              "    <tr>\n",
              "      <th>1</th>\n",
              "      <td>0.530</td>\n",
              "      <td>0.420</td>\n",
              "      <td>0.135</td>\n",
              "      <td>0.6770</td>\n",
              "      <td>0.2565</td>\n",
              "      <td>0.1415</td>\n",
              "      <td>0.210</td>\n",
              "    </tr>\n",
              "    <tr>\n",
              "      <th>2</th>\n",
              "      <td>0.440</td>\n",
              "      <td>0.365</td>\n",
              "      <td>0.125</td>\n",
              "      <td>0.5160</td>\n",
              "      <td>0.2155</td>\n",
              "      <td>0.1140</td>\n",
              "      <td>0.155</td>\n",
              "    </tr>\n",
              "    <tr>\n",
              "      <th>3</th>\n",
              "      <td>0.330</td>\n",
              "      <td>0.255</td>\n",
              "      <td>0.080</td>\n",
              "      <td>0.2050</td>\n",
              "      <td>0.0895</td>\n",
              "      <td>0.0395</td>\n",
              "      <td>0.055</td>\n",
              "    </tr>\n",
              "    <tr>\n",
              "      <th>4</th>\n",
              "      <td>0.425</td>\n",
              "      <td>0.300</td>\n",
              "      <td>0.095</td>\n",
              "      <td>0.3515</td>\n",
              "      <td>0.1410</td>\n",
              "      <td>0.0775</td>\n",
              "      <td>0.120</td>\n",
              "    </tr>\n",
              "  </tbody>\n",
              "</table>\n",
              "</div>\n",
              "      <button class=\"colab-df-convert\" onclick=\"convertToInteractive('df-c6cae240-bb81-4f40-92fd-b54074f7b574')\"\n",
              "              title=\"Convert this dataframe to an interactive table.\"\n",
              "              style=\"display:none;\">\n",
              "        \n",
              "  <svg xmlns=\"http://www.w3.org/2000/svg\" height=\"24px\"viewBox=\"0 0 24 24\"\n",
              "       width=\"24px\">\n",
              "    <path d=\"M0 0h24v24H0V0z\" fill=\"none\"/>\n",
              "    <path d=\"M18.56 5.44l.94 2.06.94-2.06 2.06-.94-2.06-.94-.94-2.06-.94 2.06-2.06.94zm-11 1L8.5 8.5l.94-2.06 2.06-.94-2.06-.94L8.5 2.5l-.94 2.06-2.06.94zm10 10l.94 2.06.94-2.06 2.06-.94-2.06-.94-.94-2.06-.94 2.06-2.06.94z\"/><path d=\"M17.41 7.96l-1.37-1.37c-.4-.4-.92-.59-1.43-.59-.52 0-1.04.2-1.43.59L10.3 9.45l-7.72 7.72c-.78.78-.78 2.05 0 2.83L4 21.41c.39.39.9.59 1.41.59.51 0 1.02-.2 1.41-.59l7.78-7.78 2.81-2.81c.8-.78.8-2.07 0-2.86zM5.41 20L4 18.59l7.72-7.72 1.47 1.35L5.41 20z\"/>\n",
              "  </svg>\n",
              "      </button>\n",
              "      \n",
              "  <style>\n",
              "    .colab-df-container {\n",
              "      display:flex;\n",
              "      flex-wrap:wrap;\n",
              "      gap: 12px;\n",
              "    }\n",
              "\n",
              "    .colab-df-convert {\n",
              "      background-color: #E8F0FE;\n",
              "      border: none;\n",
              "      border-radius: 50%;\n",
              "      cursor: pointer;\n",
              "      display: none;\n",
              "      fill: #1967D2;\n",
              "      height: 32px;\n",
              "      padding: 0 0 0 0;\n",
              "      width: 32px;\n",
              "    }\n",
              "\n",
              "    .colab-df-convert:hover {\n",
              "      background-color: #E2EBFA;\n",
              "      box-shadow: 0px 1px 2px rgba(60, 64, 67, 0.3), 0px 1px 3px 1px rgba(60, 64, 67, 0.15);\n",
              "      fill: #174EA6;\n",
              "    }\n",
              "\n",
              "    [theme=dark] .colab-df-convert {\n",
              "      background-color: #3B4455;\n",
              "      fill: #D2E3FC;\n",
              "    }\n",
              "\n",
              "    [theme=dark] .colab-df-convert:hover {\n",
              "      background-color: #434B5C;\n",
              "      box-shadow: 0px 1px 3px 1px rgba(0, 0, 0, 0.15);\n",
              "      filter: drop-shadow(0px 1px 2px rgba(0, 0, 0, 0.3));\n",
              "      fill: #FFFFFF;\n",
              "    }\n",
              "  </style>\n",
              "\n",
              "      <script>\n",
              "        const buttonEl =\n",
              "          document.querySelector('#df-c6cae240-bb81-4f40-92fd-b54074f7b574 button.colab-df-convert');\n",
              "        buttonEl.style.display =\n",
              "          google.colab.kernel.accessAllowed ? 'block' : 'none';\n",
              "\n",
              "        async function convertToInteractive(key) {\n",
              "          const element = document.querySelector('#df-c6cae240-bb81-4f40-92fd-b54074f7b574');\n",
              "          const dataTable =\n",
              "            await google.colab.kernel.invokeFunction('convertToInteractive',\n",
              "                                                     [key], {});\n",
              "          if (!dataTable) return;\n",
              "\n",
              "          const docLinkHtml = 'Like what you see? Visit the ' +\n",
              "            '<a target=\"_blank\" href=https://colab.research.google.com/notebooks/data_table.ipynb>data table notebook</a>'\n",
              "            + ' to learn more about interactive tables.';\n",
              "          element.innerHTML = '';\n",
              "          dataTable['output_type'] = 'display_data';\n",
              "          await google.colab.output.renderOutput(dataTable, element);\n",
              "          const docLink = document.createElement('div');\n",
              "          docLink.innerHTML = docLinkHtml;\n",
              "          element.appendChild(docLink);\n",
              "        }\n",
              "      </script>\n",
              "    </div>\n",
              "  </div>\n",
              "  "
            ],
            "text/plain": [
              "   Largo (mm)  Diámetro (mm)  ...  Peso vísceras (grs)  Peso caparazón (grs)\n",
              "0       0.350          0.265  ...               0.0485                 0.070\n",
              "1       0.530          0.420  ...               0.1415                 0.210\n",
              "2       0.440          0.365  ...               0.1140                 0.155\n",
              "3       0.330          0.255  ...               0.0395                 0.055\n",
              "4       0.425          0.300  ...               0.0775                 0.120\n",
              "\n",
              "[5 rows x 7 columns]"
            ]
          },
          "metadata": {},
          "execution_count": 344
        }
      ]
    },
    {
      "cell_type": "code",
      "source": [
        "y_knn_d = df['N° Anillos'] #variables independientes\n",
        "y_knn_d.shape"
      ],
      "metadata": {
        "colab": {
          "base_uri": "https://localhost:8080/"
        },
        "id": "Wc5pm6HF5V4o",
        "outputId": "172a77f9-2457-4af3-deca-7d7fd741416d"
      },
      "execution_count": 345,
      "outputs": [
        {
          "output_type": "execute_result",
          "data": {
            "text/plain": [
              "(4177,)"
            ]
          },
          "metadata": {},
          "execution_count": 345
        }
      ]
    },
    {
      "cell_type": "markdown",
      "source": [
        "Implementación algoritmo KKNN con division entrenar probar"
      ],
      "metadata": {
        "id": "mwo8uzIGB2Za"
      }
    },
    {
      "cell_type": "code",
      "source": [
        "#importamos librerías para la estandarización de datos\n",
        "from sklearn.preprocessing import StandardScaler"
      ],
      "metadata": {
        "id": "goG5enQT54o4"
      },
      "execution_count": 346,
      "outputs": []
    },
    {
      "cell_type": "markdown",
      "source": [
        "Aplicamos una estandarización de los datos"
      ],
      "metadata": {
        "id": "IcURqLMr68VB"
      }
    },
    {
      "cell_type": "code",
      "source": [
        "X_ent, X_test, y_ent, y_test = train_test_split(X_knn_d,y_knn_d,test_size=0.20,random_state=0)"
      ],
      "metadata": {
        "id": "ZZ6GIgBgyu0X"
      },
      "execution_count": 347,
      "outputs": []
    },
    {
      "cell_type": "code",
      "source": [
        "scaler = StandardScaler()\n",
        "scaler.fit(X_ent)\n",
        "\n",
        "X_ent = scaler.transform(X_ent)\n",
        "X_test = scaler.transform(X_test)"
      ],
      "metadata": {
        "id": "zncg1jvu6KI6"
      },
      "execution_count": 348,
      "outputs": []
    },
    {
      "cell_type": "code",
      "source": [
        "X_ent"
      ],
      "metadata": {
        "colab": {
          "base_uri": "https://localhost:8080/"
        },
        "id": "mhBNRD616dDU",
        "outputId": "17574f40-0db6-459f-d4a4-450df97eaf0e"
      },
      "execution_count": 349,
      "outputs": [
        {
          "output_type": "execute_result",
          "data": {
            "text/plain": [
              "array([[-2.56503065, -2.44840291, -1.98531482, ..., -1.49397996,\n",
              "        -1.53238419, -1.57948802],\n",
              "       [-2.35801544, -2.24741483, -1.86814789, ..., -1.48063676,\n",
              "        -1.64128048, -1.56882947],\n",
              "       [ 1.11984016,  1.1191354 ,  1.17819217, ...,  1.74619561,\n",
              "         1.05844006,  1.13133839],\n",
              "       ...,\n",
              "       [ 0.5816006 ,  0.51617118,  0.24085676, ...,  0.06495145,\n",
              "         0.10106017, -0.04110292],\n",
              "       [ 0.83001886,  0.81765329,  0.82669139, ...,  0.38296457,\n",
              "         0.31885275,  0.84355734],\n",
              "       [-0.90890894, -0.74000428, -0.93081249, ..., -0.8601776 ,\n",
              "        -1.03781354, -0.96484455]])"
            ]
          },
          "metadata": {},
          "execution_count": 349
        }
      ]
    },
    {
      "cell_type": "markdown",
      "source": [
        "Dividimos los datos en conjuntos de prueba y entrenamiento"
      ],
      "metadata": {
        "id": "p0sG0rZD_jCD"
      }
    },
    {
      "cell_type": "markdown",
      "source": [
        "Ajustamos los parámetros knn"
      ],
      "metadata": {
        "id": "jbxBnHEsV0W_"
      }
    },
    {
      "cell_type": "code",
      "source": [
        "knn_d = KNeighborsRegressor(n_neighbors=5 , weights = 'distance' , p = 1)"
      ],
      "metadata": {
        "id": "GCShTMeBIDUJ"
      },
      "execution_count": 350,
      "outputs": []
    },
    {
      "cell_type": "markdown",
      "source": [
        "Entrenamos el modelo"
      ],
      "metadata": {
        "id": "hcA6K0e6V6wZ"
      }
    },
    {
      "cell_type": "code",
      "source": [
        "knn_d.fit(X_ent,y_ent)"
      ],
      "metadata": {
        "colab": {
          "base_uri": "https://localhost:8080/"
        },
        "id": "uIJ41mB-KeCJ",
        "outputId": "84371e97-69b9-4658-951f-3d8e8ffbdfde"
      },
      "execution_count": 351,
      "outputs": [
        {
          "output_type": "execute_result",
          "data": {
            "text/plain": [
              "KNeighborsRegressor(p=1, weights='distance')"
            ]
          },
          "metadata": {},
          "execution_count": 351
        }
      ]
    },
    {
      "cell_type": "markdown",
      "source": [
        "Calificamos nuestro modelo"
      ],
      "metadata": {
        "id": "k5lPf_PFV-8d"
      }
    },
    {
      "cell_type": "code",
      "source": [
        "knn_d.score(X_test,y_test)"
      ],
      "metadata": {
        "colab": {
          "base_uri": "https://localhost:8080/"
        },
        "id": "EzbwDvu_KWl8",
        "outputId": "4c3ce651-9991-42e8-d322-daf899323f9a"
      },
      "execution_count": 352,
      "outputs": [
        {
          "output_type": "execute_result",
          "data": {
            "text/plain": [
              "0.4686085976978682"
            ]
          },
          "metadata": {},
          "execution_count": 352
        }
      ]
    },
    {
      "cell_type": "markdown",
      "source": [
        "# KNN sin division "
      ],
      "metadata": {
        "id": "6qrgsDwnfUtt"
      }
    },
    {
      "cell_type": "code",
      "source": [
        "#datos en 'x' y en 'y'\n",
        "X_knn_nd = df.drop(['Sexo','N° Anillos'],axis =1) #variables dependientes\n",
        "X_knn_nd.head()"
      ],
      "metadata": {
        "colab": {
          "base_uri": "https://localhost:8080/",
          "height": 207
        },
        "id": "IRFUHU9LfZp2",
        "outputId": "d69d7535-ab7b-429e-b2d7-c39399bc9df9"
      },
      "execution_count": 353,
      "outputs": [
        {
          "output_type": "execute_result",
          "data": {
            "text/html": [
              "\n",
              "  <div id=\"df-b06c8d1f-8d40-41e1-9693-8a3ed3285f55\">\n",
              "    <div class=\"colab-df-container\">\n",
              "      <div>\n",
              "<style scoped>\n",
              "    .dataframe tbody tr th:only-of-type {\n",
              "        vertical-align: middle;\n",
              "    }\n",
              "\n",
              "    .dataframe tbody tr th {\n",
              "        vertical-align: top;\n",
              "    }\n",
              "\n",
              "    .dataframe thead th {\n",
              "        text-align: right;\n",
              "    }\n",
              "</style>\n",
              "<table border=\"1\" class=\"dataframe\">\n",
              "  <thead>\n",
              "    <tr style=\"text-align: right;\">\n",
              "      <th></th>\n",
              "      <th>Largo (mm)</th>\n",
              "      <th>Diámetro (mm)</th>\n",
              "      <th>Ancho (mm)</th>\n",
              "      <th>Peso total (grs)</th>\n",
              "      <th>Peso de carne (grs)</th>\n",
              "      <th>Peso vísceras (grs)</th>\n",
              "      <th>Peso caparazón (grs)</th>\n",
              "    </tr>\n",
              "  </thead>\n",
              "  <tbody>\n",
              "    <tr>\n",
              "      <th>0</th>\n",
              "      <td>0.350</td>\n",
              "      <td>0.265</td>\n",
              "      <td>0.090</td>\n",
              "      <td>0.2255</td>\n",
              "      <td>0.0995</td>\n",
              "      <td>0.0485</td>\n",
              "      <td>0.070</td>\n",
              "    </tr>\n",
              "    <tr>\n",
              "      <th>1</th>\n",
              "      <td>0.530</td>\n",
              "      <td>0.420</td>\n",
              "      <td>0.135</td>\n",
              "      <td>0.6770</td>\n",
              "      <td>0.2565</td>\n",
              "      <td>0.1415</td>\n",
              "      <td>0.210</td>\n",
              "    </tr>\n",
              "    <tr>\n",
              "      <th>2</th>\n",
              "      <td>0.440</td>\n",
              "      <td>0.365</td>\n",
              "      <td>0.125</td>\n",
              "      <td>0.5160</td>\n",
              "      <td>0.2155</td>\n",
              "      <td>0.1140</td>\n",
              "      <td>0.155</td>\n",
              "    </tr>\n",
              "    <tr>\n",
              "      <th>3</th>\n",
              "      <td>0.330</td>\n",
              "      <td>0.255</td>\n",
              "      <td>0.080</td>\n",
              "      <td>0.2050</td>\n",
              "      <td>0.0895</td>\n",
              "      <td>0.0395</td>\n",
              "      <td>0.055</td>\n",
              "    </tr>\n",
              "    <tr>\n",
              "      <th>4</th>\n",
              "      <td>0.425</td>\n",
              "      <td>0.300</td>\n",
              "      <td>0.095</td>\n",
              "      <td>0.3515</td>\n",
              "      <td>0.1410</td>\n",
              "      <td>0.0775</td>\n",
              "      <td>0.120</td>\n",
              "    </tr>\n",
              "  </tbody>\n",
              "</table>\n",
              "</div>\n",
              "      <button class=\"colab-df-convert\" onclick=\"convertToInteractive('df-b06c8d1f-8d40-41e1-9693-8a3ed3285f55')\"\n",
              "              title=\"Convert this dataframe to an interactive table.\"\n",
              "              style=\"display:none;\">\n",
              "        \n",
              "  <svg xmlns=\"http://www.w3.org/2000/svg\" height=\"24px\"viewBox=\"0 0 24 24\"\n",
              "       width=\"24px\">\n",
              "    <path d=\"M0 0h24v24H0V0z\" fill=\"none\"/>\n",
              "    <path d=\"M18.56 5.44l.94 2.06.94-2.06 2.06-.94-2.06-.94-.94-2.06-.94 2.06-2.06.94zm-11 1L8.5 8.5l.94-2.06 2.06-.94-2.06-.94L8.5 2.5l-.94 2.06-2.06.94zm10 10l.94 2.06.94-2.06 2.06-.94-2.06-.94-.94-2.06-.94 2.06-2.06.94z\"/><path d=\"M17.41 7.96l-1.37-1.37c-.4-.4-.92-.59-1.43-.59-.52 0-1.04.2-1.43.59L10.3 9.45l-7.72 7.72c-.78.78-.78 2.05 0 2.83L4 21.41c.39.39.9.59 1.41.59.51 0 1.02-.2 1.41-.59l7.78-7.78 2.81-2.81c.8-.78.8-2.07 0-2.86zM5.41 20L4 18.59l7.72-7.72 1.47 1.35L5.41 20z\"/>\n",
              "  </svg>\n",
              "      </button>\n",
              "      \n",
              "  <style>\n",
              "    .colab-df-container {\n",
              "      display:flex;\n",
              "      flex-wrap:wrap;\n",
              "      gap: 12px;\n",
              "    }\n",
              "\n",
              "    .colab-df-convert {\n",
              "      background-color: #E8F0FE;\n",
              "      border: none;\n",
              "      border-radius: 50%;\n",
              "      cursor: pointer;\n",
              "      display: none;\n",
              "      fill: #1967D2;\n",
              "      height: 32px;\n",
              "      padding: 0 0 0 0;\n",
              "      width: 32px;\n",
              "    }\n",
              "\n",
              "    .colab-df-convert:hover {\n",
              "      background-color: #E2EBFA;\n",
              "      box-shadow: 0px 1px 2px rgba(60, 64, 67, 0.3), 0px 1px 3px 1px rgba(60, 64, 67, 0.15);\n",
              "      fill: #174EA6;\n",
              "    }\n",
              "\n",
              "    [theme=dark] .colab-df-convert {\n",
              "      background-color: #3B4455;\n",
              "      fill: #D2E3FC;\n",
              "    }\n",
              "\n",
              "    [theme=dark] .colab-df-convert:hover {\n",
              "      background-color: #434B5C;\n",
              "      box-shadow: 0px 1px 3px 1px rgba(0, 0, 0, 0.15);\n",
              "      filter: drop-shadow(0px 1px 2px rgba(0, 0, 0, 0.3));\n",
              "      fill: #FFFFFF;\n",
              "    }\n",
              "  </style>\n",
              "\n",
              "      <script>\n",
              "        const buttonEl =\n",
              "          document.querySelector('#df-b06c8d1f-8d40-41e1-9693-8a3ed3285f55 button.colab-df-convert');\n",
              "        buttonEl.style.display =\n",
              "          google.colab.kernel.accessAllowed ? 'block' : 'none';\n",
              "\n",
              "        async function convertToInteractive(key) {\n",
              "          const element = document.querySelector('#df-b06c8d1f-8d40-41e1-9693-8a3ed3285f55');\n",
              "          const dataTable =\n",
              "            await google.colab.kernel.invokeFunction('convertToInteractive',\n",
              "                                                     [key], {});\n",
              "          if (!dataTable) return;\n",
              "\n",
              "          const docLinkHtml = 'Like what you see? Visit the ' +\n",
              "            '<a target=\"_blank\" href=https://colab.research.google.com/notebooks/data_table.ipynb>data table notebook</a>'\n",
              "            + ' to learn more about interactive tables.';\n",
              "          element.innerHTML = '';\n",
              "          dataTable['output_type'] = 'display_data';\n",
              "          await google.colab.output.renderOutput(dataTable, element);\n",
              "          const docLink = document.createElement('div');\n",
              "          docLink.innerHTML = docLinkHtml;\n",
              "          element.appendChild(docLink);\n",
              "        }\n",
              "      </script>\n",
              "    </div>\n",
              "  </div>\n",
              "  "
            ],
            "text/plain": [
              "   Largo (mm)  Diámetro (mm)  ...  Peso vísceras (grs)  Peso caparazón (grs)\n",
              "0       0.350          0.265  ...               0.0485                 0.070\n",
              "1       0.530          0.420  ...               0.1415                 0.210\n",
              "2       0.440          0.365  ...               0.1140                 0.155\n",
              "3       0.330          0.255  ...               0.0395                 0.055\n",
              "4       0.425          0.300  ...               0.0775                 0.120\n",
              "\n",
              "[5 rows x 7 columns]"
            ]
          },
          "metadata": {},
          "execution_count": 353
        }
      ]
    },
    {
      "cell_type": "code",
      "source": [
        "y_knn_nd = df['N° Anillos'] #variables independientes\n",
        "y_knn_nd.shape"
      ],
      "metadata": {
        "colab": {
          "base_uri": "https://localhost:8080/"
        },
        "id": "veBGIk33gK59",
        "outputId": "5d0637e8-39b5-4151-9717-d0103a561990"
      },
      "execution_count": 354,
      "outputs": [
        {
          "output_type": "execute_result",
          "data": {
            "text/plain": [
              "(4177,)"
            ]
          },
          "metadata": {},
          "execution_count": 354
        }
      ]
    },
    {
      "cell_type": "code",
      "source": [
        "scaler = StandardScaler()\n",
        "scaler.fit(X_knn_nd)\n",
        "X_knn_nd = scaler.transform(X_knn_nd)"
      ],
      "metadata": {
        "id": "bAwK4rOP3m23"
      },
      "execution_count": 355,
      "outputs": []
    },
    {
      "cell_type": "code",
      "source": [
        "# procedemos a crear otro modelo \n",
        "\n",
        "knn_nd = KNeighborsRegressor() #instanciamos "
      ],
      "metadata": {
        "id": "BHLWwjcXgRjH"
      },
      "execution_count": 356,
      "outputs": []
    },
    {
      "cell_type": "code",
      "source": [
        "knn_nd.fit(X_knn_nd,y_knn_nd) #entrenamos el modelo"
      ],
      "metadata": {
        "colab": {
          "base_uri": "https://localhost:8080/"
        },
        "id": "mSWHuYQrgfG7",
        "outputId": "a4a0df64-a6a1-43d3-fae5-72df6dbf0694"
      },
      "execution_count": 357,
      "outputs": [
        {
          "output_type": "execute_result",
          "data": {
            "text/plain": [
              "KNeighborsRegressor()"
            ]
          },
          "metadata": {},
          "execution_count": 357
        }
      ]
    },
    {
      "cell_type": "code",
      "source": [
        "#verificamos que puntaje tiene el modelo \n",
        "knn_nd.score(X_knn_nd,y_knn_nd)"
      ],
      "metadata": {
        "colab": {
          "base_uri": "https://localhost:8080/"
        },
        "id": "K7EYJziigozI",
        "outputId": "419ebe40-ed42-46a9-8558-eeb1bc753dec"
      },
      "execution_count": 358,
      "outputs": [
        {
          "output_type": "execute_result",
          "data": {
            "text/plain": [
              "0.6576046052340013"
            ]
          },
          "metadata": {},
          "execution_count": 358
        }
      ]
    },
    {
      "cell_type": "markdown",
      "source": [
        "#Regresion lineal"
      ],
      "metadata": {
        "id": "_SpyeemLiXd8"
      }
    },
    {
      "cell_type": "code",
      "source": [
        "#importamos librerías \n",
        "from sklearn.linear_model import LinearRegression"
      ],
      "metadata": {
        "id": "VU2mJcrgiZ6m"
      },
      "execution_count": 373,
      "outputs": []
    },
    {
      "cell_type": "code",
      "source": [
        "#datos en 'x' y en 'y'\n",
        "X_lr_nd = df.drop(['Sexo','N° Anillos'],axis =1) #variables dependientes\n",
        "X_lr_nd.head()"
      ],
      "metadata": {
        "colab": {
          "base_uri": "https://localhost:8080/",
          "height": 207
        },
        "id": "o5FdOhKJX-4Q",
        "outputId": "a0618803-8876-46f2-a036-deb9beb00831"
      },
      "execution_count": 374,
      "outputs": [
        {
          "output_type": "execute_result",
          "data": {
            "text/html": [
              "\n",
              "  <div id=\"df-1fb242c1-d9af-418b-b55e-8e23120c3095\">\n",
              "    <div class=\"colab-df-container\">\n",
              "      <div>\n",
              "<style scoped>\n",
              "    .dataframe tbody tr th:only-of-type {\n",
              "        vertical-align: middle;\n",
              "    }\n",
              "\n",
              "    .dataframe tbody tr th {\n",
              "        vertical-align: top;\n",
              "    }\n",
              "\n",
              "    .dataframe thead th {\n",
              "        text-align: right;\n",
              "    }\n",
              "</style>\n",
              "<table border=\"1\" class=\"dataframe\">\n",
              "  <thead>\n",
              "    <tr style=\"text-align: right;\">\n",
              "      <th></th>\n",
              "      <th>Largo (mm)</th>\n",
              "      <th>Diámetro (mm)</th>\n",
              "      <th>Ancho (mm)</th>\n",
              "      <th>Peso total (grs)</th>\n",
              "      <th>Peso de carne (grs)</th>\n",
              "      <th>Peso vísceras (grs)</th>\n",
              "      <th>Peso caparazón (grs)</th>\n",
              "    </tr>\n",
              "  </thead>\n",
              "  <tbody>\n",
              "    <tr>\n",
              "      <th>0</th>\n",
              "      <td>0.350</td>\n",
              "      <td>0.265</td>\n",
              "      <td>0.090</td>\n",
              "      <td>0.2255</td>\n",
              "      <td>0.0995</td>\n",
              "      <td>0.0485</td>\n",
              "      <td>0.070</td>\n",
              "    </tr>\n",
              "    <tr>\n",
              "      <th>1</th>\n",
              "      <td>0.530</td>\n",
              "      <td>0.420</td>\n",
              "      <td>0.135</td>\n",
              "      <td>0.6770</td>\n",
              "      <td>0.2565</td>\n",
              "      <td>0.1415</td>\n",
              "      <td>0.210</td>\n",
              "    </tr>\n",
              "    <tr>\n",
              "      <th>2</th>\n",
              "      <td>0.440</td>\n",
              "      <td>0.365</td>\n",
              "      <td>0.125</td>\n",
              "      <td>0.5160</td>\n",
              "      <td>0.2155</td>\n",
              "      <td>0.1140</td>\n",
              "      <td>0.155</td>\n",
              "    </tr>\n",
              "    <tr>\n",
              "      <th>3</th>\n",
              "      <td>0.330</td>\n",
              "      <td>0.255</td>\n",
              "      <td>0.080</td>\n",
              "      <td>0.2050</td>\n",
              "      <td>0.0895</td>\n",
              "      <td>0.0395</td>\n",
              "      <td>0.055</td>\n",
              "    </tr>\n",
              "    <tr>\n",
              "      <th>4</th>\n",
              "      <td>0.425</td>\n",
              "      <td>0.300</td>\n",
              "      <td>0.095</td>\n",
              "      <td>0.3515</td>\n",
              "      <td>0.1410</td>\n",
              "      <td>0.0775</td>\n",
              "      <td>0.120</td>\n",
              "    </tr>\n",
              "  </tbody>\n",
              "</table>\n",
              "</div>\n",
              "      <button class=\"colab-df-convert\" onclick=\"convertToInteractive('df-1fb242c1-d9af-418b-b55e-8e23120c3095')\"\n",
              "              title=\"Convert this dataframe to an interactive table.\"\n",
              "              style=\"display:none;\">\n",
              "        \n",
              "  <svg xmlns=\"http://www.w3.org/2000/svg\" height=\"24px\"viewBox=\"0 0 24 24\"\n",
              "       width=\"24px\">\n",
              "    <path d=\"M0 0h24v24H0V0z\" fill=\"none\"/>\n",
              "    <path d=\"M18.56 5.44l.94 2.06.94-2.06 2.06-.94-2.06-.94-.94-2.06-.94 2.06-2.06.94zm-11 1L8.5 8.5l.94-2.06 2.06-.94-2.06-.94L8.5 2.5l-.94 2.06-2.06.94zm10 10l.94 2.06.94-2.06 2.06-.94-2.06-.94-.94-2.06-.94 2.06-2.06.94z\"/><path d=\"M17.41 7.96l-1.37-1.37c-.4-.4-.92-.59-1.43-.59-.52 0-1.04.2-1.43.59L10.3 9.45l-7.72 7.72c-.78.78-.78 2.05 0 2.83L4 21.41c.39.39.9.59 1.41.59.51 0 1.02-.2 1.41-.59l7.78-7.78 2.81-2.81c.8-.78.8-2.07 0-2.86zM5.41 20L4 18.59l7.72-7.72 1.47 1.35L5.41 20z\"/>\n",
              "  </svg>\n",
              "      </button>\n",
              "      \n",
              "  <style>\n",
              "    .colab-df-container {\n",
              "      display:flex;\n",
              "      flex-wrap:wrap;\n",
              "      gap: 12px;\n",
              "    }\n",
              "\n",
              "    .colab-df-convert {\n",
              "      background-color: #E8F0FE;\n",
              "      border: none;\n",
              "      border-radius: 50%;\n",
              "      cursor: pointer;\n",
              "      display: none;\n",
              "      fill: #1967D2;\n",
              "      height: 32px;\n",
              "      padding: 0 0 0 0;\n",
              "      width: 32px;\n",
              "    }\n",
              "\n",
              "    .colab-df-convert:hover {\n",
              "      background-color: #E2EBFA;\n",
              "      box-shadow: 0px 1px 2px rgba(60, 64, 67, 0.3), 0px 1px 3px 1px rgba(60, 64, 67, 0.15);\n",
              "      fill: #174EA6;\n",
              "    }\n",
              "\n",
              "    [theme=dark] .colab-df-convert {\n",
              "      background-color: #3B4455;\n",
              "      fill: #D2E3FC;\n",
              "    }\n",
              "\n",
              "    [theme=dark] .colab-df-convert:hover {\n",
              "      background-color: #434B5C;\n",
              "      box-shadow: 0px 1px 3px 1px rgba(0, 0, 0, 0.15);\n",
              "      filter: drop-shadow(0px 1px 2px rgba(0, 0, 0, 0.3));\n",
              "      fill: #FFFFFF;\n",
              "    }\n",
              "  </style>\n",
              "\n",
              "      <script>\n",
              "        const buttonEl =\n",
              "          document.querySelector('#df-1fb242c1-d9af-418b-b55e-8e23120c3095 button.colab-df-convert');\n",
              "        buttonEl.style.display =\n",
              "          google.colab.kernel.accessAllowed ? 'block' : 'none';\n",
              "\n",
              "        async function convertToInteractive(key) {\n",
              "          const element = document.querySelector('#df-1fb242c1-d9af-418b-b55e-8e23120c3095');\n",
              "          const dataTable =\n",
              "            await google.colab.kernel.invokeFunction('convertToInteractive',\n",
              "                                                     [key], {});\n",
              "          if (!dataTable) return;\n",
              "\n",
              "          const docLinkHtml = 'Like what you see? Visit the ' +\n",
              "            '<a target=\"_blank\" href=https://colab.research.google.com/notebooks/data_table.ipynb>data table notebook</a>'\n",
              "            + ' to learn more about interactive tables.';\n",
              "          element.innerHTML = '';\n",
              "          dataTable['output_type'] = 'display_data';\n",
              "          await google.colab.output.renderOutput(dataTable, element);\n",
              "          const docLink = document.createElement('div');\n",
              "          docLink.innerHTML = docLinkHtml;\n",
              "          element.appendChild(docLink);\n",
              "        }\n",
              "      </script>\n",
              "    </div>\n",
              "  </div>\n",
              "  "
            ],
            "text/plain": [
              "   Largo (mm)  Diámetro (mm)  ...  Peso vísceras (grs)  Peso caparazón (grs)\n",
              "0       0.350          0.265  ...               0.0485                 0.070\n",
              "1       0.530          0.420  ...               0.1415                 0.210\n",
              "2       0.440          0.365  ...               0.1140                 0.155\n",
              "3       0.330          0.255  ...               0.0395                 0.055\n",
              "4       0.425          0.300  ...               0.0775                 0.120\n",
              "\n",
              "[5 rows x 7 columns]"
            ]
          },
          "metadata": {},
          "execution_count": 374
        }
      ]
    },
    {
      "cell_type": "code",
      "source": [
        "y_lr_nd = df['N° Anillos'] #variables independientes\n",
        "y_lr_nd.shape"
      ],
      "metadata": {
        "colab": {
          "base_uri": "https://localhost:8080/"
        },
        "id": "0wVky7rXiUOW",
        "outputId": "a5ebf12f-a709-4f9f-f9ea-57d1998b0b57"
      },
      "execution_count": 375,
      "outputs": [
        {
          "output_type": "execute_result",
          "data": {
            "text/plain": [
              "(4177,)"
            ]
          },
          "metadata": {},
          "execution_count": 375
        }
      ]
    },
    {
      "cell_type": "markdown",
      "source": [
        "Observamos que datos hay en la variable sexo"
      ],
      "metadata": {
        "id": "uZYZT-0mYVVL"
      }
    },
    {
      "cell_type": "code",
      "source": [
        "scaler = StandardScaler()\n",
        "scaler.fit(X_lr_nd)\n",
        "X_lr_nd = scaler.transform(X_lr_nd)"
      ],
      "metadata": {
        "id": "0RU7QB8W4Q5h"
      },
      "execution_count": 376,
      "outputs": []
    },
    {
      "cell_type": "code",
      "source": [
        "#Instanciamos\n",
        "lr_nd_reg = LinearRegression()"
      ],
      "metadata": {
        "id": "UBFl4HFWePD2"
      },
      "execution_count": 377,
      "outputs": []
    },
    {
      "cell_type": "code",
      "source": [
        "lr_nd_reg.fit(X_lr_nd,y_lr_nd) #entrenamos el modelo"
      ],
      "metadata": {
        "colab": {
          "base_uri": "https://localhost:8080/"
        },
        "id": "yArxqTU0i_Wv",
        "outputId": "35ce28bb-a7a6-4826-8249-6a8c6ca8b402"
      },
      "execution_count": 378,
      "outputs": [
        {
          "output_type": "execute_result",
          "data": {
            "text/plain": [
              "LinearRegression()"
            ]
          },
          "metadata": {},
          "execution_count": 378
        }
      ]
    },
    {
      "cell_type": "code",
      "source": [
        "lr_nd_reg.score(X_lr_nd,y_lr_nd) #puntuamos el modelo"
      ],
      "metadata": {
        "colab": {
          "base_uri": "https://localhost:8080/"
        },
        "id": "Qxyd6b61jHnH",
        "outputId": "d7204fdd-a05c-4c65-f342-d8c74ebefce1"
      },
      "execution_count": 379,
      "outputs": [
        {
          "output_type": "execute_result",
          "data": {
            "text/plain": [
              "0.5276299399919837"
            ]
          },
          "metadata": {},
          "execution_count": 379
        }
      ]
    },
    {
      "cell_type": "markdown",
      "source": [
        "#Regresión lineal con división entrenar probar "
      ],
      "metadata": {
        "id": "Fe_eGgJzjO4b"
      }
    },
    {
      "cell_type": "code",
      "source": [
        "#datos en 'x' y en 'y'\n",
        "X_lr_d = df.drop(['Sexo','N° Anillos'],axis =1) #variables dependientes\n",
        "X_lr_d.head()"
      ],
      "metadata": {
        "colab": {
          "base_uri": "https://localhost:8080/",
          "height": 207
        },
        "id": "VMwX3nyXjSfX",
        "outputId": "5a73de94-b102-4c61-b70b-8706a69cffeb"
      },
      "execution_count": 380,
      "outputs": [
        {
          "output_type": "execute_result",
          "data": {
            "text/html": [
              "\n",
              "  <div id=\"df-a9ee14ef-71da-4dea-9913-8af1b09704e6\">\n",
              "    <div class=\"colab-df-container\">\n",
              "      <div>\n",
              "<style scoped>\n",
              "    .dataframe tbody tr th:only-of-type {\n",
              "        vertical-align: middle;\n",
              "    }\n",
              "\n",
              "    .dataframe tbody tr th {\n",
              "        vertical-align: top;\n",
              "    }\n",
              "\n",
              "    .dataframe thead th {\n",
              "        text-align: right;\n",
              "    }\n",
              "</style>\n",
              "<table border=\"1\" class=\"dataframe\">\n",
              "  <thead>\n",
              "    <tr style=\"text-align: right;\">\n",
              "      <th></th>\n",
              "      <th>Largo (mm)</th>\n",
              "      <th>Diámetro (mm)</th>\n",
              "      <th>Ancho (mm)</th>\n",
              "      <th>Peso total (grs)</th>\n",
              "      <th>Peso de carne (grs)</th>\n",
              "      <th>Peso vísceras (grs)</th>\n",
              "      <th>Peso caparazón (grs)</th>\n",
              "    </tr>\n",
              "  </thead>\n",
              "  <tbody>\n",
              "    <tr>\n",
              "      <th>0</th>\n",
              "      <td>0.350</td>\n",
              "      <td>0.265</td>\n",
              "      <td>0.090</td>\n",
              "      <td>0.2255</td>\n",
              "      <td>0.0995</td>\n",
              "      <td>0.0485</td>\n",
              "      <td>0.070</td>\n",
              "    </tr>\n",
              "    <tr>\n",
              "      <th>1</th>\n",
              "      <td>0.530</td>\n",
              "      <td>0.420</td>\n",
              "      <td>0.135</td>\n",
              "      <td>0.6770</td>\n",
              "      <td>0.2565</td>\n",
              "      <td>0.1415</td>\n",
              "      <td>0.210</td>\n",
              "    </tr>\n",
              "    <tr>\n",
              "      <th>2</th>\n",
              "      <td>0.440</td>\n",
              "      <td>0.365</td>\n",
              "      <td>0.125</td>\n",
              "      <td>0.5160</td>\n",
              "      <td>0.2155</td>\n",
              "      <td>0.1140</td>\n",
              "      <td>0.155</td>\n",
              "    </tr>\n",
              "    <tr>\n",
              "      <th>3</th>\n",
              "      <td>0.330</td>\n",
              "      <td>0.255</td>\n",
              "      <td>0.080</td>\n",
              "      <td>0.2050</td>\n",
              "      <td>0.0895</td>\n",
              "      <td>0.0395</td>\n",
              "      <td>0.055</td>\n",
              "    </tr>\n",
              "    <tr>\n",
              "      <th>4</th>\n",
              "      <td>0.425</td>\n",
              "      <td>0.300</td>\n",
              "      <td>0.095</td>\n",
              "      <td>0.3515</td>\n",
              "      <td>0.1410</td>\n",
              "      <td>0.0775</td>\n",
              "      <td>0.120</td>\n",
              "    </tr>\n",
              "  </tbody>\n",
              "</table>\n",
              "</div>\n",
              "      <button class=\"colab-df-convert\" onclick=\"convertToInteractive('df-a9ee14ef-71da-4dea-9913-8af1b09704e6')\"\n",
              "              title=\"Convert this dataframe to an interactive table.\"\n",
              "              style=\"display:none;\">\n",
              "        \n",
              "  <svg xmlns=\"http://www.w3.org/2000/svg\" height=\"24px\"viewBox=\"0 0 24 24\"\n",
              "       width=\"24px\">\n",
              "    <path d=\"M0 0h24v24H0V0z\" fill=\"none\"/>\n",
              "    <path d=\"M18.56 5.44l.94 2.06.94-2.06 2.06-.94-2.06-.94-.94-2.06-.94 2.06-2.06.94zm-11 1L8.5 8.5l.94-2.06 2.06-.94-2.06-.94L8.5 2.5l-.94 2.06-2.06.94zm10 10l.94 2.06.94-2.06 2.06-.94-2.06-.94-.94-2.06-.94 2.06-2.06.94z\"/><path d=\"M17.41 7.96l-1.37-1.37c-.4-.4-.92-.59-1.43-.59-.52 0-1.04.2-1.43.59L10.3 9.45l-7.72 7.72c-.78.78-.78 2.05 0 2.83L4 21.41c.39.39.9.59 1.41.59.51 0 1.02-.2 1.41-.59l7.78-7.78 2.81-2.81c.8-.78.8-2.07 0-2.86zM5.41 20L4 18.59l7.72-7.72 1.47 1.35L5.41 20z\"/>\n",
              "  </svg>\n",
              "      </button>\n",
              "      \n",
              "  <style>\n",
              "    .colab-df-container {\n",
              "      display:flex;\n",
              "      flex-wrap:wrap;\n",
              "      gap: 12px;\n",
              "    }\n",
              "\n",
              "    .colab-df-convert {\n",
              "      background-color: #E8F0FE;\n",
              "      border: none;\n",
              "      border-radius: 50%;\n",
              "      cursor: pointer;\n",
              "      display: none;\n",
              "      fill: #1967D2;\n",
              "      height: 32px;\n",
              "      padding: 0 0 0 0;\n",
              "      width: 32px;\n",
              "    }\n",
              "\n",
              "    .colab-df-convert:hover {\n",
              "      background-color: #E2EBFA;\n",
              "      box-shadow: 0px 1px 2px rgba(60, 64, 67, 0.3), 0px 1px 3px 1px rgba(60, 64, 67, 0.15);\n",
              "      fill: #174EA6;\n",
              "    }\n",
              "\n",
              "    [theme=dark] .colab-df-convert {\n",
              "      background-color: #3B4455;\n",
              "      fill: #D2E3FC;\n",
              "    }\n",
              "\n",
              "    [theme=dark] .colab-df-convert:hover {\n",
              "      background-color: #434B5C;\n",
              "      box-shadow: 0px 1px 3px 1px rgba(0, 0, 0, 0.15);\n",
              "      filter: drop-shadow(0px 1px 2px rgba(0, 0, 0, 0.3));\n",
              "      fill: #FFFFFF;\n",
              "    }\n",
              "  </style>\n",
              "\n",
              "      <script>\n",
              "        const buttonEl =\n",
              "          document.querySelector('#df-a9ee14ef-71da-4dea-9913-8af1b09704e6 button.colab-df-convert');\n",
              "        buttonEl.style.display =\n",
              "          google.colab.kernel.accessAllowed ? 'block' : 'none';\n",
              "\n",
              "        async function convertToInteractive(key) {\n",
              "          const element = document.querySelector('#df-a9ee14ef-71da-4dea-9913-8af1b09704e6');\n",
              "          const dataTable =\n",
              "            await google.colab.kernel.invokeFunction('convertToInteractive',\n",
              "                                                     [key], {});\n",
              "          if (!dataTable) return;\n",
              "\n",
              "          const docLinkHtml = 'Like what you see? Visit the ' +\n",
              "            '<a target=\"_blank\" href=https://colab.research.google.com/notebooks/data_table.ipynb>data table notebook</a>'\n",
              "            + ' to learn more about interactive tables.';\n",
              "          element.innerHTML = '';\n",
              "          dataTable['output_type'] = 'display_data';\n",
              "          await google.colab.output.renderOutput(dataTable, element);\n",
              "          const docLink = document.createElement('div');\n",
              "          docLink.innerHTML = docLinkHtml;\n",
              "          element.appendChild(docLink);\n",
              "        }\n",
              "      </script>\n",
              "    </div>\n",
              "  </div>\n",
              "  "
            ],
            "text/plain": [
              "   Largo (mm)  Diámetro (mm)  ...  Peso vísceras (grs)  Peso caparazón (grs)\n",
              "0       0.350          0.265  ...               0.0485                 0.070\n",
              "1       0.530          0.420  ...               0.1415                 0.210\n",
              "2       0.440          0.365  ...               0.1140                 0.155\n",
              "3       0.330          0.255  ...               0.0395                 0.055\n",
              "4       0.425          0.300  ...               0.0775                 0.120\n",
              "\n",
              "[5 rows x 7 columns]"
            ]
          },
          "metadata": {},
          "execution_count": 380
        }
      ]
    },
    {
      "cell_type": "code",
      "source": [
        "y_lr_d = df['N° Anillos'] #variables independientes\n",
        "y_lr_d.shape"
      ],
      "metadata": {
        "colab": {
          "base_uri": "https://localhost:8080/"
        },
        "id": "GT2xLQlEjffZ",
        "outputId": "a6498f08-5bc9-4393-d97a-ce7dada64afe"
      },
      "execution_count": 381,
      "outputs": [
        {
          "output_type": "execute_result",
          "data": {
            "text/plain": [
              "(4177,)"
            ]
          },
          "metadata": {},
          "execution_count": 381
        }
      ]
    },
    {
      "cell_type": "code",
      "source": [
        "X_ent, X_test, y_ent, y_test = train_test_split(X_lr_d,y_lr_d,test_size=0.20,random_state=0)"
      ],
      "metadata": {
        "id": "CbV8EtTY5ZuC"
      },
      "execution_count": 382,
      "outputs": []
    },
    {
      "cell_type": "code",
      "source": [
        "scaler = StandardScaler()\n",
        "scaler.fit(X_ent)\n",
        "\n",
        "X_ent = scaler.transform(X_ent)\n",
        "X_test = scaler.transform(X_test)"
      ],
      "metadata": {
        "id": "B0-rfJzW5OZm"
      },
      "execution_count": 383,
      "outputs": []
    },
    {
      "cell_type": "code",
      "source": [
        "#instanciamos para crear otro modelo \n",
        "lr_reg2 = LinearRegression()"
      ],
      "metadata": {
        "id": "rP7Fg_fnj9XZ"
      },
      "execution_count": 384,
      "outputs": []
    },
    {
      "cell_type": "code",
      "source": [
        "lr_reg2.fit(X_ent,y_ent) #entrenamos el modelo "
      ],
      "metadata": {
        "colab": {
          "base_uri": "https://localhost:8080/"
        },
        "id": "96DOJ37uj3Fh",
        "outputId": "ef0915fd-b75f-4f23-ed55-13ce54b32612"
      },
      "execution_count": 385,
      "outputs": [
        {
          "output_type": "execute_result",
          "data": {
            "text/plain": [
              "LinearRegression()"
            ]
          },
          "metadata": {},
          "execution_count": 385
        }
      ]
    },
    {
      "cell_type": "code",
      "source": [
        "lr_reg2.score(X_test,y_test) #puntuamos el modelo"
      ],
      "metadata": {
        "colab": {
          "base_uri": "https://localhost:8080/"
        },
        "id": "TKL8cbcTk5D-",
        "outputId": "39ca0ab2-8b06-42cb-bbb8-a4f9ef3bab7e"
      },
      "execution_count": 386,
      "outputs": [
        {
          "output_type": "execute_result",
          "data": {
            "text/plain": [
              "0.5144602488333944"
            ]
          },
          "metadata": {},
          "execution_count": 386
        }
      ]
    },
    {
      "cell_type": "markdown",
      "source": [
        "#Preguntas para pensar y responder\n",
        "\n",
        "Una vez que hayas completado la tarea, responde las siguientes preguntas:\n",
        "\n",
        "1. ¿Cuál de KNN o regresión lineal pareció un mejor modelo cuando no usaste la división entrenar probar?\n",
        "  - El modelo de **KNN sin división** fue el mejor ya que nos dió un R2 de 0.65, el valor más alto de todos los modelos.\n",
        "2. ¿Cuál de KNN o regresión lineal pareció un mejor modelo cuando usaste la división entrenar probar?\n",
        "  -  **EL modelo de regresión lineal fue un mejor modelo considerando su R2** (lr con división =0.51 / knn con division 0.46), pero por la teoría, el modelo de regresión lineal va a funcionar mejor al querer predecir valores continuos; ya que el modelo de knn funciona mejor con valores categóricas\n",
        "3. ¿Hubo alguna ventaja en la regresión lineal en términos de la cantidad de código que tenías que escribir?\n",
        "  - **Ninguna**, ya que son los mismo pasos a seguir en cualquiera de los dos casos, comparándolo con los modelos de knn con división y knn sin división.\n",
        "4. ¿Hay alguna forma de mostrarle a alguien cuál de los dos modelos fue más efectivo?\n",
        "-  **Si, podríamos mostrarle la métrica de r2 de cada modelo**, por ejemplo: En el modelo de knn sin división nos mostró un r2 de 0.65, eso significa que si se presentan nuevos datos, el modelo va a predecir la edad del abulón un 65% de las veces; por el contrario, si eligieramos un modelo diferente, tomando como ejemplo el modelo de regresión lineal con división de prueba (0.51), el modelo  va acertar un 50% de las veces, lo mismo que tirar una moneda al aire.\n",
        "5. ¿Crees que podrías haber mejorado KNN para mejorar la eficacia del modelo?\n",
        "- **Si y no**; no ya que el modelo por sí mismo no es muy bueno al predecir valores continuos,además de no trabajar muy bien con muchas variables. Pero si, ya que se pueden 'jugar' con hiperparámetros que se pueden ajustar al modelo sabiendo características que se consiguen fuera de la base de datos (investigación)."
      ],
      "metadata": {
        "id": "8aPC42s661wR"
      }
    },
    {
      "cell_type": "markdown",
      "source": [
        "*Códigos inspirados de la plataforma Coding Dojo*"
      ],
      "metadata": {
        "id": "Dj6H4Xw_Bqr0"
      }
    }
  ]
}