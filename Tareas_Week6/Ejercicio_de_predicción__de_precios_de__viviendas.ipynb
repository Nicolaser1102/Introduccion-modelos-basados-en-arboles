{
  "nbformat": 4,
  "nbformat_minor": 0,
  "metadata": {
    "colab": {
      "name": "Ejercicio_de_predicción_ de_precios_de_ viviendas.ipynb",
      "provenance": [],
      "authorship_tag": "ABX9TyPiuw7uTd1hNdzt/RTUG3Ro",
      "include_colab_link": true
    },
    "kernelspec": {
      "name": "python3",
      "display_name": "Python 3"
    },
    "language_info": {
      "name": "python"
    }
  },
  "cells": [
    {
      "cell_type": "markdown",
      "metadata": {
        "id": "view-in-github",
        "colab_type": "text"
      },
      "source": [
        "<a href=\"https://colab.research.google.com/github/Nicolaser1102/Introduccion-modelos-basados-en-arboles/blob/main/Tareas_Week6/Ejercicio_de_predicci%C3%B3n__de_precios_de__viviendas.ipynb\" target=\"_parent\"><img src=\"https://colab.research.google.com/assets/colab-badge.svg\" alt=\"Open In Colab\"/></a>"
      ]
    },
    {
      "cell_type": "code",
      "execution_count": 5,
      "metadata": {
        "colab": {
          "base_uri": "https://localhost:8080/"
        },
        "id": "65v8I3IcmqZe",
        "outputId": "c97d109a-4857-458c-86a6-1f700cc30131"
      },
      "outputs": [
        {
          "output_type": "stream",
          "name": "stdout",
          "text": [
            "Drive already mounted at /content/drive; to attempt to forcibly remount, call drive.mount(\"/content/drive\", force_remount=True).\n"
          ]
        }
      ],
      "source": [
        "#Montamos el drive \n",
        "from google.colab import drive\n",
        "drive.mount('/content/drive')"
      ]
    },
    {
      "cell_type": "code",
      "source": [
        "import pandas as pd \n",
        "import numpy as np"
      ],
      "metadata": {
        "id": "fhJGlEaLnFla"
      },
      "execution_count": 126,
      "outputs": []
    },
    {
      "cell_type": "code",
      "source": [
        "nombrearchivo = '/content/drive/MyDrive/Coding Dojo/Códigos/Track 2 /Week 2- Track 2/Deberes /Ejercicio de predicción de precios de viviendas/kc_house_data.csv'\n",
        "\n",
        "df = pd.read_csv(nombrearchivo)\n",
        "df.head() #Mostramos df"
      ],
      "metadata": {
        "colab": {
          "base_uri": "https://localhost:8080/",
          "height": 270
        },
        "id": "kqibRjhAnPhP",
        "outputId": "c6d06f75-44c5-45d5-f71b-802799513c25"
      },
      "execution_count": 6,
      "outputs": [
        {
          "output_type": "execute_result",
          "data": {
            "text/html": [
              "\n",
              "  <div id=\"df-68087218-a96f-47a7-a193-61b4c26c0e63\">\n",
              "    <div class=\"colab-df-container\">\n",
              "      <div>\n",
              "<style scoped>\n",
              "    .dataframe tbody tr th:only-of-type {\n",
              "        vertical-align: middle;\n",
              "    }\n",
              "\n",
              "    .dataframe tbody tr th {\n",
              "        vertical-align: top;\n",
              "    }\n",
              "\n",
              "    .dataframe thead th {\n",
              "        text-align: right;\n",
              "    }\n",
              "</style>\n",
              "<table border=\"1\" class=\"dataframe\">\n",
              "  <thead>\n",
              "    <tr style=\"text-align: right;\">\n",
              "      <th></th>\n",
              "      <th>id</th>\n",
              "      <th>date</th>\n",
              "      <th>price</th>\n",
              "      <th>bedrooms</th>\n",
              "      <th>bathrooms</th>\n",
              "      <th>sqft_living</th>\n",
              "      <th>sqft_lot</th>\n",
              "      <th>floors</th>\n",
              "      <th>waterfront</th>\n",
              "      <th>view</th>\n",
              "      <th>condition</th>\n",
              "      <th>grade</th>\n",
              "      <th>sqft_above</th>\n",
              "      <th>sqft_basement</th>\n",
              "      <th>yr_built</th>\n",
              "      <th>yr_renovated</th>\n",
              "      <th>zipcode</th>\n",
              "      <th>lat</th>\n",
              "      <th>long</th>\n",
              "      <th>sqft_living15</th>\n",
              "      <th>sqft_lot15</th>\n",
              "    </tr>\n",
              "  </thead>\n",
              "  <tbody>\n",
              "    <tr>\n",
              "      <th>0</th>\n",
              "      <td>7129300520</td>\n",
              "      <td>20141013T000000</td>\n",
              "      <td>221900.0</td>\n",
              "      <td>3</td>\n",
              "      <td>1.00</td>\n",
              "      <td>1180</td>\n",
              "      <td>5650</td>\n",
              "      <td>1.0</td>\n",
              "      <td>0</td>\n",
              "      <td>0</td>\n",
              "      <td>3</td>\n",
              "      <td>7</td>\n",
              "      <td>1180</td>\n",
              "      <td>0</td>\n",
              "      <td>1955</td>\n",
              "      <td>0</td>\n",
              "      <td>98178</td>\n",
              "      <td>47.5112</td>\n",
              "      <td>-122.257</td>\n",
              "      <td>1340</td>\n",
              "      <td>5650</td>\n",
              "    </tr>\n",
              "    <tr>\n",
              "      <th>1</th>\n",
              "      <td>6414100192</td>\n",
              "      <td>20141209T000000</td>\n",
              "      <td>538000.0</td>\n",
              "      <td>3</td>\n",
              "      <td>2.25</td>\n",
              "      <td>2570</td>\n",
              "      <td>7242</td>\n",
              "      <td>2.0</td>\n",
              "      <td>0</td>\n",
              "      <td>0</td>\n",
              "      <td>3</td>\n",
              "      <td>7</td>\n",
              "      <td>2170</td>\n",
              "      <td>400</td>\n",
              "      <td>1951</td>\n",
              "      <td>1991</td>\n",
              "      <td>98125</td>\n",
              "      <td>47.7210</td>\n",
              "      <td>-122.319</td>\n",
              "      <td>1690</td>\n",
              "      <td>7639</td>\n",
              "    </tr>\n",
              "    <tr>\n",
              "      <th>2</th>\n",
              "      <td>5631500400</td>\n",
              "      <td>20150225T000000</td>\n",
              "      <td>180000.0</td>\n",
              "      <td>2</td>\n",
              "      <td>1.00</td>\n",
              "      <td>770</td>\n",
              "      <td>10000</td>\n",
              "      <td>1.0</td>\n",
              "      <td>0</td>\n",
              "      <td>0</td>\n",
              "      <td>3</td>\n",
              "      <td>6</td>\n",
              "      <td>770</td>\n",
              "      <td>0</td>\n",
              "      <td>1933</td>\n",
              "      <td>0</td>\n",
              "      <td>98028</td>\n",
              "      <td>47.7379</td>\n",
              "      <td>-122.233</td>\n",
              "      <td>2720</td>\n",
              "      <td>8062</td>\n",
              "    </tr>\n",
              "    <tr>\n",
              "      <th>3</th>\n",
              "      <td>2487200875</td>\n",
              "      <td>20141209T000000</td>\n",
              "      <td>604000.0</td>\n",
              "      <td>4</td>\n",
              "      <td>3.00</td>\n",
              "      <td>1960</td>\n",
              "      <td>5000</td>\n",
              "      <td>1.0</td>\n",
              "      <td>0</td>\n",
              "      <td>0</td>\n",
              "      <td>5</td>\n",
              "      <td>7</td>\n",
              "      <td>1050</td>\n",
              "      <td>910</td>\n",
              "      <td>1965</td>\n",
              "      <td>0</td>\n",
              "      <td>98136</td>\n",
              "      <td>47.5208</td>\n",
              "      <td>-122.393</td>\n",
              "      <td>1360</td>\n",
              "      <td>5000</td>\n",
              "    </tr>\n",
              "    <tr>\n",
              "      <th>4</th>\n",
              "      <td>1954400510</td>\n",
              "      <td>20150218T000000</td>\n",
              "      <td>510000.0</td>\n",
              "      <td>3</td>\n",
              "      <td>2.00</td>\n",
              "      <td>1680</td>\n",
              "      <td>8080</td>\n",
              "      <td>1.0</td>\n",
              "      <td>0</td>\n",
              "      <td>0</td>\n",
              "      <td>3</td>\n",
              "      <td>8</td>\n",
              "      <td>1680</td>\n",
              "      <td>0</td>\n",
              "      <td>1987</td>\n",
              "      <td>0</td>\n",
              "      <td>98074</td>\n",
              "      <td>47.6168</td>\n",
              "      <td>-122.045</td>\n",
              "      <td>1800</td>\n",
              "      <td>7503</td>\n",
              "    </tr>\n",
              "  </tbody>\n",
              "</table>\n",
              "</div>\n",
              "      <button class=\"colab-df-convert\" onclick=\"convertToInteractive('df-68087218-a96f-47a7-a193-61b4c26c0e63')\"\n",
              "              title=\"Convert this dataframe to an interactive table.\"\n",
              "              style=\"display:none;\">\n",
              "        \n",
              "  <svg xmlns=\"http://www.w3.org/2000/svg\" height=\"24px\"viewBox=\"0 0 24 24\"\n",
              "       width=\"24px\">\n",
              "    <path d=\"M0 0h24v24H0V0z\" fill=\"none\"/>\n",
              "    <path d=\"M18.56 5.44l.94 2.06.94-2.06 2.06-.94-2.06-.94-.94-2.06-.94 2.06-2.06.94zm-11 1L8.5 8.5l.94-2.06 2.06-.94-2.06-.94L8.5 2.5l-.94 2.06-2.06.94zm10 10l.94 2.06.94-2.06 2.06-.94-2.06-.94-.94-2.06-.94 2.06-2.06.94z\"/><path d=\"M17.41 7.96l-1.37-1.37c-.4-.4-.92-.59-1.43-.59-.52 0-1.04.2-1.43.59L10.3 9.45l-7.72 7.72c-.78.78-.78 2.05 0 2.83L4 21.41c.39.39.9.59 1.41.59.51 0 1.02-.2 1.41-.59l7.78-7.78 2.81-2.81c.8-.78.8-2.07 0-2.86zM5.41 20L4 18.59l7.72-7.72 1.47 1.35L5.41 20z\"/>\n",
              "  </svg>\n",
              "      </button>\n",
              "      \n",
              "  <style>\n",
              "    .colab-df-container {\n",
              "      display:flex;\n",
              "      flex-wrap:wrap;\n",
              "      gap: 12px;\n",
              "    }\n",
              "\n",
              "    .colab-df-convert {\n",
              "      background-color: #E8F0FE;\n",
              "      border: none;\n",
              "      border-radius: 50%;\n",
              "      cursor: pointer;\n",
              "      display: none;\n",
              "      fill: #1967D2;\n",
              "      height: 32px;\n",
              "      padding: 0 0 0 0;\n",
              "      width: 32px;\n",
              "    }\n",
              "\n",
              "    .colab-df-convert:hover {\n",
              "      background-color: #E2EBFA;\n",
              "      box-shadow: 0px 1px 2px rgba(60, 64, 67, 0.3), 0px 1px 3px 1px rgba(60, 64, 67, 0.15);\n",
              "      fill: #174EA6;\n",
              "    }\n",
              "\n",
              "    [theme=dark] .colab-df-convert {\n",
              "      background-color: #3B4455;\n",
              "      fill: #D2E3FC;\n",
              "    }\n",
              "\n",
              "    [theme=dark] .colab-df-convert:hover {\n",
              "      background-color: #434B5C;\n",
              "      box-shadow: 0px 1px 3px 1px rgba(0, 0, 0, 0.15);\n",
              "      filter: drop-shadow(0px 1px 2px rgba(0, 0, 0, 0.3));\n",
              "      fill: #FFFFFF;\n",
              "    }\n",
              "  </style>\n",
              "\n",
              "      <script>\n",
              "        const buttonEl =\n",
              "          document.querySelector('#df-68087218-a96f-47a7-a193-61b4c26c0e63 button.colab-df-convert');\n",
              "        buttonEl.style.display =\n",
              "          google.colab.kernel.accessAllowed ? 'block' : 'none';\n",
              "\n",
              "        async function convertToInteractive(key) {\n",
              "          const element = document.querySelector('#df-68087218-a96f-47a7-a193-61b4c26c0e63');\n",
              "          const dataTable =\n",
              "            await google.colab.kernel.invokeFunction('convertToInteractive',\n",
              "                                                     [key], {});\n",
              "          if (!dataTable) return;\n",
              "\n",
              "          const docLinkHtml = 'Like what you see? Visit the ' +\n",
              "            '<a target=\"_blank\" href=https://colab.research.google.com/notebooks/data_table.ipynb>data table notebook</a>'\n",
              "            + ' to learn more about interactive tables.';\n",
              "          element.innerHTML = '';\n",
              "          dataTable['output_type'] = 'display_data';\n",
              "          await google.colab.output.renderOutput(dataTable, element);\n",
              "          const docLink = document.createElement('div');\n",
              "          docLink.innerHTML = docLinkHtml;\n",
              "          element.appendChild(docLink);\n",
              "        }\n",
              "      </script>\n",
              "    </div>\n",
              "  </div>\n",
              "  "
            ],
            "text/plain": [
              "           id             date     price  ...     long  sqft_living15  sqft_lot15\n",
              "0  7129300520  20141013T000000  221900.0  ... -122.257           1340        5650\n",
              "1  6414100192  20141209T000000  538000.0  ... -122.319           1690        7639\n",
              "2  5631500400  20150225T000000  180000.0  ... -122.233           2720        8062\n",
              "3  2487200875  20141209T000000  604000.0  ... -122.393           1360        5000\n",
              "4  1954400510  20150218T000000  510000.0  ... -122.045           1800        7503\n",
              "\n",
              "[5 rows x 21 columns]"
            ]
          },
          "metadata": {},
          "execution_count": 6
        }
      ]
    },
    {
      "cell_type": "markdown",
      "source": [
        "Base de datos tomada de: \n",
        "https://www.kaggle.com/harlfoxem/housesalesprediction"
      ],
      "metadata": {
        "id": "P-Sq5rbAVgdm"
      }
    },
    {
      "cell_type": "code",
      "source": [
        "df.shape"
      ],
      "metadata": {
        "colab": {
          "base_uri": "https://localhost:8080/"
        },
        "id": "uULjtzdLngpH",
        "outputId": "bbd90c91-25d7-4daf-fc57-5e351ac6b904"
      },
      "execution_count": 7,
      "outputs": [
        {
          "output_type": "execute_result",
          "data": {
            "text/plain": [
              "(21613, 21)"
            ]
          },
          "metadata": {},
          "execution_count": 7
        }
      ]
    },
    {
      "cell_type": "markdown",
      "source": [
        "#Limpieza de datos"
      ],
      "metadata": {
        "id": "Z7vZx1E6oYmJ"
      }
    },
    {
      "cell_type": "code",
      "source": [
        "#vemos si hay datos faltantes\n",
        "df.isna().sum()"
      ],
      "metadata": {
        "colab": {
          "base_uri": "https://localhost:8080/"
        },
        "id": "-b55jQRkoX8g",
        "outputId": "b044741e-cd50-4695-8f83-c3f25c2a2636"
      },
      "execution_count": 9,
      "outputs": [
        {
          "output_type": "execute_result",
          "data": {
            "text/plain": [
              "id               0\n",
              "date             0\n",
              "price            0\n",
              "bedrooms         0\n",
              "bathrooms        0\n",
              "sqft_living      0\n",
              "sqft_lot         0\n",
              "floors           0\n",
              "waterfront       0\n",
              "view             0\n",
              "condition        0\n",
              "grade            0\n",
              "sqft_above       0\n",
              "sqft_basement    0\n",
              "yr_built         0\n",
              "yr_renovated     0\n",
              "zipcode          0\n",
              "lat              0\n",
              "long             0\n",
              "sqft_living15    0\n",
              "sqft_lot15       0\n",
              "dtype: int64"
            ]
          },
          "metadata": {},
          "execution_count": 9
        }
      ]
    },
    {
      "cell_type": "code",
      "source": [
        "#vemos otra información en relación por las columnas\n",
        "df.info()"
      ],
      "metadata": {
        "colab": {
          "base_uri": "https://localhost:8080/"
        },
        "id": "NdoKIFW4oVa1",
        "outputId": "f7492935-23dc-491d-ef1b-446745fc6490"
      },
      "execution_count": 11,
      "outputs": [
        {
          "output_type": "stream",
          "name": "stdout",
          "text": [
            "<class 'pandas.core.frame.DataFrame'>\n",
            "RangeIndex: 21613 entries, 0 to 21612\n",
            "Data columns (total 21 columns):\n",
            " #   Column         Non-Null Count  Dtype  \n",
            "---  ------         --------------  -----  \n",
            " 0   id             21613 non-null  int64  \n",
            " 1   date           21613 non-null  object \n",
            " 2   price          21613 non-null  float64\n",
            " 3   bedrooms       21613 non-null  int64  \n",
            " 4   bathrooms      21613 non-null  float64\n",
            " 5   sqft_living    21613 non-null  int64  \n",
            " 6   sqft_lot       21613 non-null  int64  \n",
            " 7   floors         21613 non-null  float64\n",
            " 8   waterfront     21613 non-null  int64  \n",
            " 9   view           21613 non-null  int64  \n",
            " 10  condition      21613 non-null  int64  \n",
            " 11  grade          21613 non-null  int64  \n",
            " 12  sqft_above     21613 non-null  int64  \n",
            " 13  sqft_basement  21613 non-null  int64  \n",
            " 14  yr_built       21613 non-null  int64  \n",
            " 15  yr_renovated   21613 non-null  int64  \n",
            " 16  zipcode        21613 non-null  int64  \n",
            " 17  lat            21613 non-null  float64\n",
            " 18  long           21613 non-null  float64\n",
            " 19  sqft_living15  21613 non-null  int64  \n",
            " 20  sqft_lot15     21613 non-null  int64  \n",
            "dtypes: float64(5), int64(15), object(1)\n",
            "memory usage: 3.5+ MB\n"
          ]
        }
      ]
    },
    {
      "cell_type": "markdown",
      "source": [
        "Observamos que todos los tipos de datos están correctos de acuerdo a su formato"
      ],
      "metadata": {
        "id": "3B39ViTXo719"
      }
    },
    {
      "cell_type": "code",
      "source": [
        "df.describe()"
      ],
      "metadata": {
        "colab": {
          "base_uri": "https://localhost:8080/",
          "height": 364
        },
        "id": "YAf5vJXCo59K",
        "outputId": "0eb5304c-f566-4d9e-a103-ac5b8715fc02"
      },
      "execution_count": 14,
      "outputs": [
        {
          "output_type": "execute_result",
          "data": {
            "text/html": [
              "\n",
              "  <div id=\"df-0671b37b-a83e-4f60-bd54-e01d16180768\">\n",
              "    <div class=\"colab-df-container\">\n",
              "      <div>\n",
              "<style scoped>\n",
              "    .dataframe tbody tr th:only-of-type {\n",
              "        vertical-align: middle;\n",
              "    }\n",
              "\n",
              "    .dataframe tbody tr th {\n",
              "        vertical-align: top;\n",
              "    }\n",
              "\n",
              "    .dataframe thead th {\n",
              "        text-align: right;\n",
              "    }\n",
              "</style>\n",
              "<table border=\"1\" class=\"dataframe\">\n",
              "  <thead>\n",
              "    <tr style=\"text-align: right;\">\n",
              "      <th></th>\n",
              "      <th>id</th>\n",
              "      <th>price</th>\n",
              "      <th>bedrooms</th>\n",
              "      <th>bathrooms</th>\n",
              "      <th>sqft_living</th>\n",
              "      <th>sqft_lot</th>\n",
              "      <th>floors</th>\n",
              "      <th>waterfront</th>\n",
              "      <th>view</th>\n",
              "      <th>condition</th>\n",
              "      <th>grade</th>\n",
              "      <th>sqft_above</th>\n",
              "      <th>sqft_basement</th>\n",
              "      <th>yr_built</th>\n",
              "      <th>yr_renovated</th>\n",
              "      <th>zipcode</th>\n",
              "      <th>lat</th>\n",
              "      <th>long</th>\n",
              "      <th>sqft_living15</th>\n",
              "      <th>sqft_lot15</th>\n",
              "    </tr>\n",
              "  </thead>\n",
              "  <tbody>\n",
              "    <tr>\n",
              "      <th>count</th>\n",
              "      <td>2.161300e+04</td>\n",
              "      <td>2.161300e+04</td>\n",
              "      <td>21613.000000</td>\n",
              "      <td>21613.000000</td>\n",
              "      <td>21613.000000</td>\n",
              "      <td>2.161300e+04</td>\n",
              "      <td>21613.000000</td>\n",
              "      <td>21613.000000</td>\n",
              "      <td>21613.000000</td>\n",
              "      <td>21613.000000</td>\n",
              "      <td>21613.000000</td>\n",
              "      <td>21613.000000</td>\n",
              "      <td>21613.000000</td>\n",
              "      <td>21613.000000</td>\n",
              "      <td>21613.000000</td>\n",
              "      <td>21613.000000</td>\n",
              "      <td>21613.000000</td>\n",
              "      <td>21613.000000</td>\n",
              "      <td>21613.000000</td>\n",
              "      <td>21613.000000</td>\n",
              "    </tr>\n",
              "    <tr>\n",
              "      <th>mean</th>\n",
              "      <td>4.580302e+09</td>\n",
              "      <td>5.400881e+05</td>\n",
              "      <td>3.370842</td>\n",
              "      <td>2.114757</td>\n",
              "      <td>2079.899736</td>\n",
              "      <td>1.510697e+04</td>\n",
              "      <td>1.494309</td>\n",
              "      <td>0.007542</td>\n",
              "      <td>0.234303</td>\n",
              "      <td>3.409430</td>\n",
              "      <td>7.656873</td>\n",
              "      <td>1788.390691</td>\n",
              "      <td>291.509045</td>\n",
              "      <td>1971.005136</td>\n",
              "      <td>84.402258</td>\n",
              "      <td>98077.939805</td>\n",
              "      <td>47.560053</td>\n",
              "      <td>-122.213896</td>\n",
              "      <td>1986.552492</td>\n",
              "      <td>12768.455652</td>\n",
              "    </tr>\n",
              "    <tr>\n",
              "      <th>std</th>\n",
              "      <td>2.876566e+09</td>\n",
              "      <td>3.671272e+05</td>\n",
              "      <td>0.930062</td>\n",
              "      <td>0.770163</td>\n",
              "      <td>918.440897</td>\n",
              "      <td>4.142051e+04</td>\n",
              "      <td>0.539989</td>\n",
              "      <td>0.086517</td>\n",
              "      <td>0.766318</td>\n",
              "      <td>0.650743</td>\n",
              "      <td>1.175459</td>\n",
              "      <td>828.090978</td>\n",
              "      <td>442.575043</td>\n",
              "      <td>29.373411</td>\n",
              "      <td>401.679240</td>\n",
              "      <td>53.505026</td>\n",
              "      <td>0.138564</td>\n",
              "      <td>0.140828</td>\n",
              "      <td>685.391304</td>\n",
              "      <td>27304.179631</td>\n",
              "    </tr>\n",
              "    <tr>\n",
              "      <th>min</th>\n",
              "      <td>1.000102e+06</td>\n",
              "      <td>7.500000e+04</td>\n",
              "      <td>0.000000</td>\n",
              "      <td>0.000000</td>\n",
              "      <td>290.000000</td>\n",
              "      <td>5.200000e+02</td>\n",
              "      <td>1.000000</td>\n",
              "      <td>0.000000</td>\n",
              "      <td>0.000000</td>\n",
              "      <td>1.000000</td>\n",
              "      <td>1.000000</td>\n",
              "      <td>290.000000</td>\n",
              "      <td>0.000000</td>\n",
              "      <td>1900.000000</td>\n",
              "      <td>0.000000</td>\n",
              "      <td>98001.000000</td>\n",
              "      <td>47.155900</td>\n",
              "      <td>-122.519000</td>\n",
              "      <td>399.000000</td>\n",
              "      <td>651.000000</td>\n",
              "    </tr>\n",
              "    <tr>\n",
              "      <th>25%</th>\n",
              "      <td>2.123049e+09</td>\n",
              "      <td>3.219500e+05</td>\n",
              "      <td>3.000000</td>\n",
              "      <td>1.750000</td>\n",
              "      <td>1427.000000</td>\n",
              "      <td>5.040000e+03</td>\n",
              "      <td>1.000000</td>\n",
              "      <td>0.000000</td>\n",
              "      <td>0.000000</td>\n",
              "      <td>3.000000</td>\n",
              "      <td>7.000000</td>\n",
              "      <td>1190.000000</td>\n",
              "      <td>0.000000</td>\n",
              "      <td>1951.000000</td>\n",
              "      <td>0.000000</td>\n",
              "      <td>98033.000000</td>\n",
              "      <td>47.471000</td>\n",
              "      <td>-122.328000</td>\n",
              "      <td>1490.000000</td>\n",
              "      <td>5100.000000</td>\n",
              "    </tr>\n",
              "    <tr>\n",
              "      <th>50%</th>\n",
              "      <td>3.904930e+09</td>\n",
              "      <td>4.500000e+05</td>\n",
              "      <td>3.000000</td>\n",
              "      <td>2.250000</td>\n",
              "      <td>1910.000000</td>\n",
              "      <td>7.618000e+03</td>\n",
              "      <td>1.500000</td>\n",
              "      <td>0.000000</td>\n",
              "      <td>0.000000</td>\n",
              "      <td>3.000000</td>\n",
              "      <td>7.000000</td>\n",
              "      <td>1560.000000</td>\n",
              "      <td>0.000000</td>\n",
              "      <td>1975.000000</td>\n",
              "      <td>0.000000</td>\n",
              "      <td>98065.000000</td>\n",
              "      <td>47.571800</td>\n",
              "      <td>-122.230000</td>\n",
              "      <td>1840.000000</td>\n",
              "      <td>7620.000000</td>\n",
              "    </tr>\n",
              "    <tr>\n",
              "      <th>75%</th>\n",
              "      <td>7.308900e+09</td>\n",
              "      <td>6.450000e+05</td>\n",
              "      <td>4.000000</td>\n",
              "      <td>2.500000</td>\n",
              "      <td>2550.000000</td>\n",
              "      <td>1.068800e+04</td>\n",
              "      <td>2.000000</td>\n",
              "      <td>0.000000</td>\n",
              "      <td>0.000000</td>\n",
              "      <td>4.000000</td>\n",
              "      <td>8.000000</td>\n",
              "      <td>2210.000000</td>\n",
              "      <td>560.000000</td>\n",
              "      <td>1997.000000</td>\n",
              "      <td>0.000000</td>\n",
              "      <td>98118.000000</td>\n",
              "      <td>47.678000</td>\n",
              "      <td>-122.125000</td>\n",
              "      <td>2360.000000</td>\n",
              "      <td>10083.000000</td>\n",
              "    </tr>\n",
              "    <tr>\n",
              "      <th>max</th>\n",
              "      <td>9.900000e+09</td>\n",
              "      <td>7.700000e+06</td>\n",
              "      <td>33.000000</td>\n",
              "      <td>8.000000</td>\n",
              "      <td>13540.000000</td>\n",
              "      <td>1.651359e+06</td>\n",
              "      <td>3.500000</td>\n",
              "      <td>1.000000</td>\n",
              "      <td>4.000000</td>\n",
              "      <td>5.000000</td>\n",
              "      <td>13.000000</td>\n",
              "      <td>9410.000000</td>\n",
              "      <td>4820.000000</td>\n",
              "      <td>2015.000000</td>\n",
              "      <td>2015.000000</td>\n",
              "      <td>98199.000000</td>\n",
              "      <td>47.777600</td>\n",
              "      <td>-121.315000</td>\n",
              "      <td>6210.000000</td>\n",
              "      <td>871200.000000</td>\n",
              "    </tr>\n",
              "  </tbody>\n",
              "</table>\n",
              "</div>\n",
              "      <button class=\"colab-df-convert\" onclick=\"convertToInteractive('df-0671b37b-a83e-4f60-bd54-e01d16180768')\"\n",
              "              title=\"Convert this dataframe to an interactive table.\"\n",
              "              style=\"display:none;\">\n",
              "        \n",
              "  <svg xmlns=\"http://www.w3.org/2000/svg\" height=\"24px\"viewBox=\"0 0 24 24\"\n",
              "       width=\"24px\">\n",
              "    <path d=\"M0 0h24v24H0V0z\" fill=\"none\"/>\n",
              "    <path d=\"M18.56 5.44l.94 2.06.94-2.06 2.06-.94-2.06-.94-.94-2.06-.94 2.06-2.06.94zm-11 1L8.5 8.5l.94-2.06 2.06-.94-2.06-.94L8.5 2.5l-.94 2.06-2.06.94zm10 10l.94 2.06.94-2.06 2.06-.94-2.06-.94-.94-2.06-.94 2.06-2.06.94z\"/><path d=\"M17.41 7.96l-1.37-1.37c-.4-.4-.92-.59-1.43-.59-.52 0-1.04.2-1.43.59L10.3 9.45l-7.72 7.72c-.78.78-.78 2.05 0 2.83L4 21.41c.39.39.9.59 1.41.59.51 0 1.02-.2 1.41-.59l7.78-7.78 2.81-2.81c.8-.78.8-2.07 0-2.86zM5.41 20L4 18.59l7.72-7.72 1.47 1.35L5.41 20z\"/>\n",
              "  </svg>\n",
              "      </button>\n",
              "      \n",
              "  <style>\n",
              "    .colab-df-container {\n",
              "      display:flex;\n",
              "      flex-wrap:wrap;\n",
              "      gap: 12px;\n",
              "    }\n",
              "\n",
              "    .colab-df-convert {\n",
              "      background-color: #E8F0FE;\n",
              "      border: none;\n",
              "      border-radius: 50%;\n",
              "      cursor: pointer;\n",
              "      display: none;\n",
              "      fill: #1967D2;\n",
              "      height: 32px;\n",
              "      padding: 0 0 0 0;\n",
              "      width: 32px;\n",
              "    }\n",
              "\n",
              "    .colab-df-convert:hover {\n",
              "      background-color: #E2EBFA;\n",
              "      box-shadow: 0px 1px 2px rgba(60, 64, 67, 0.3), 0px 1px 3px 1px rgba(60, 64, 67, 0.15);\n",
              "      fill: #174EA6;\n",
              "    }\n",
              "\n",
              "    [theme=dark] .colab-df-convert {\n",
              "      background-color: #3B4455;\n",
              "      fill: #D2E3FC;\n",
              "    }\n",
              "\n",
              "    [theme=dark] .colab-df-convert:hover {\n",
              "      background-color: #434B5C;\n",
              "      box-shadow: 0px 1px 3px 1px rgba(0, 0, 0, 0.15);\n",
              "      filter: drop-shadow(0px 1px 2px rgba(0, 0, 0, 0.3));\n",
              "      fill: #FFFFFF;\n",
              "    }\n",
              "  </style>\n",
              "\n",
              "      <script>\n",
              "        const buttonEl =\n",
              "          document.querySelector('#df-0671b37b-a83e-4f60-bd54-e01d16180768 button.colab-df-convert');\n",
              "        buttonEl.style.display =\n",
              "          google.colab.kernel.accessAllowed ? 'block' : 'none';\n",
              "\n",
              "        async function convertToInteractive(key) {\n",
              "          const element = document.querySelector('#df-0671b37b-a83e-4f60-bd54-e01d16180768');\n",
              "          const dataTable =\n",
              "            await google.colab.kernel.invokeFunction('convertToInteractive',\n",
              "                                                     [key], {});\n",
              "          if (!dataTable) return;\n",
              "\n",
              "          const docLinkHtml = 'Like what you see? Visit the ' +\n",
              "            '<a target=\"_blank\" href=https://colab.research.google.com/notebooks/data_table.ipynb>data table notebook</a>'\n",
              "            + ' to learn more about interactive tables.';\n",
              "          element.innerHTML = '';\n",
              "          dataTable['output_type'] = 'display_data';\n",
              "          await google.colab.output.renderOutput(dataTable, element);\n",
              "          const docLink = document.createElement('div');\n",
              "          docLink.innerHTML = docLinkHtml;\n",
              "          element.appendChild(docLink);\n",
              "        }\n",
              "      </script>\n",
              "    </div>\n",
              "  </div>\n",
              "  "
            ],
            "text/plain": [
              "                 id         price  ...  sqft_living15     sqft_lot15\n",
              "count  2.161300e+04  2.161300e+04  ...   21613.000000   21613.000000\n",
              "mean   4.580302e+09  5.400881e+05  ...    1986.552492   12768.455652\n",
              "std    2.876566e+09  3.671272e+05  ...     685.391304   27304.179631\n",
              "min    1.000102e+06  7.500000e+04  ...     399.000000     651.000000\n",
              "25%    2.123049e+09  3.219500e+05  ...    1490.000000    5100.000000\n",
              "50%    3.904930e+09  4.500000e+05  ...    1840.000000    7620.000000\n",
              "75%    7.308900e+09  6.450000e+05  ...    2360.000000   10083.000000\n",
              "max    9.900000e+09  7.700000e+06  ...    6210.000000  871200.000000\n",
              "\n",
              "[8 rows x 20 columns]"
            ]
          },
          "metadata": {},
          "execution_count": 14
        }
      ]
    },
    {
      "cell_type": "markdown",
      "source": [
        "Lo que puedo inferir es que las casas tienen diferentes características y no se dividen en un solo tipo de casa \"normal\" , por ejemplo: no tienen los mismos baños, ya que algunos llegan a tener hasta 8 y así mismo con las habitaciones que la máxima se encuentra en 33 habitaciones y la mínima se encuentran casas con 0 dormitorios, por lo que esa sería la principal razon de que existieran outliers"
      ],
      "metadata": {
        "id": "78_yDxyHqO8M"
      }
    },
    {
      "cell_type": "markdown",
      "source": [
        "Ahora miraremos que columnas nos van a permitir hacer una regresión lineal"
      ],
      "metadata": {
        "id": "BPtIp7jltZUN"
      }
    },
    {
      "cell_type": "code",
      "source": [
        "df.corr()"
      ],
      "metadata": {
        "colab": {
          "base_uri": "https://localhost:8080/",
          "height": 741
        },
        "id": "MLrG9YycomJN",
        "outputId": "638ce7b7-9d4b-4f24-eeb1-8b4ded2aac42"
      },
      "execution_count": 15,
      "outputs": [
        {
          "output_type": "execute_result",
          "data": {
            "text/html": [
              "\n",
              "  <div id=\"df-f3912bd6-ba28-4a00-aff0-f7c47aef4c4a\">\n",
              "    <div class=\"colab-df-container\">\n",
              "      <div>\n",
              "<style scoped>\n",
              "    .dataframe tbody tr th:only-of-type {\n",
              "        vertical-align: middle;\n",
              "    }\n",
              "\n",
              "    .dataframe tbody tr th {\n",
              "        vertical-align: top;\n",
              "    }\n",
              "\n",
              "    .dataframe thead th {\n",
              "        text-align: right;\n",
              "    }\n",
              "</style>\n",
              "<table border=\"1\" class=\"dataframe\">\n",
              "  <thead>\n",
              "    <tr style=\"text-align: right;\">\n",
              "      <th></th>\n",
              "      <th>id</th>\n",
              "      <th>price</th>\n",
              "      <th>bedrooms</th>\n",
              "      <th>bathrooms</th>\n",
              "      <th>sqft_living</th>\n",
              "      <th>sqft_lot</th>\n",
              "      <th>floors</th>\n",
              "      <th>waterfront</th>\n",
              "      <th>view</th>\n",
              "      <th>condition</th>\n",
              "      <th>grade</th>\n",
              "      <th>sqft_above</th>\n",
              "      <th>sqft_basement</th>\n",
              "      <th>yr_built</th>\n",
              "      <th>yr_renovated</th>\n",
              "      <th>zipcode</th>\n",
              "      <th>lat</th>\n",
              "      <th>long</th>\n",
              "      <th>sqft_living15</th>\n",
              "      <th>sqft_lot15</th>\n",
              "    </tr>\n",
              "  </thead>\n",
              "  <tbody>\n",
              "    <tr>\n",
              "      <th>id</th>\n",
              "      <td>1.000000</td>\n",
              "      <td>-0.016762</td>\n",
              "      <td>0.001286</td>\n",
              "      <td>0.005160</td>\n",
              "      <td>-0.012258</td>\n",
              "      <td>-0.132109</td>\n",
              "      <td>0.018525</td>\n",
              "      <td>-0.002721</td>\n",
              "      <td>0.011592</td>\n",
              "      <td>-0.023783</td>\n",
              "      <td>0.008130</td>\n",
              "      <td>-0.010842</td>\n",
              "      <td>-0.005151</td>\n",
              "      <td>0.021380</td>\n",
              "      <td>-0.016907</td>\n",
              "      <td>-0.008224</td>\n",
              "      <td>-0.001891</td>\n",
              "      <td>0.020799</td>\n",
              "      <td>-0.002901</td>\n",
              "      <td>-0.138798</td>\n",
              "    </tr>\n",
              "    <tr>\n",
              "      <th>price</th>\n",
              "      <td>-0.016762</td>\n",
              "      <td>1.000000</td>\n",
              "      <td>0.308350</td>\n",
              "      <td>0.525138</td>\n",
              "      <td>0.702035</td>\n",
              "      <td>0.089661</td>\n",
              "      <td>0.256794</td>\n",
              "      <td>0.266369</td>\n",
              "      <td>0.397293</td>\n",
              "      <td>0.036362</td>\n",
              "      <td>0.667434</td>\n",
              "      <td>0.605567</td>\n",
              "      <td>0.323816</td>\n",
              "      <td>0.054012</td>\n",
              "      <td>0.126434</td>\n",
              "      <td>-0.053203</td>\n",
              "      <td>0.307003</td>\n",
              "      <td>0.021626</td>\n",
              "      <td>0.585379</td>\n",
              "      <td>0.082447</td>\n",
              "    </tr>\n",
              "    <tr>\n",
              "      <th>bedrooms</th>\n",
              "      <td>0.001286</td>\n",
              "      <td>0.308350</td>\n",
              "      <td>1.000000</td>\n",
              "      <td>0.515884</td>\n",
              "      <td>0.576671</td>\n",
              "      <td>0.031703</td>\n",
              "      <td>0.175429</td>\n",
              "      <td>-0.006582</td>\n",
              "      <td>0.079532</td>\n",
              "      <td>0.028472</td>\n",
              "      <td>0.356967</td>\n",
              "      <td>0.477600</td>\n",
              "      <td>0.303093</td>\n",
              "      <td>0.154178</td>\n",
              "      <td>0.018841</td>\n",
              "      <td>-0.152668</td>\n",
              "      <td>-0.008931</td>\n",
              "      <td>0.129473</td>\n",
              "      <td>0.391638</td>\n",
              "      <td>0.029244</td>\n",
              "    </tr>\n",
              "    <tr>\n",
              "      <th>bathrooms</th>\n",
              "      <td>0.005160</td>\n",
              "      <td>0.525138</td>\n",
              "      <td>0.515884</td>\n",
              "      <td>1.000000</td>\n",
              "      <td>0.754665</td>\n",
              "      <td>0.087740</td>\n",
              "      <td>0.500653</td>\n",
              "      <td>0.063744</td>\n",
              "      <td>0.187737</td>\n",
              "      <td>-0.124982</td>\n",
              "      <td>0.664983</td>\n",
              "      <td>0.685342</td>\n",
              "      <td>0.283770</td>\n",
              "      <td>0.506019</td>\n",
              "      <td>0.050739</td>\n",
              "      <td>-0.203866</td>\n",
              "      <td>0.024573</td>\n",
              "      <td>0.223042</td>\n",
              "      <td>0.568634</td>\n",
              "      <td>0.087175</td>\n",
              "    </tr>\n",
              "    <tr>\n",
              "      <th>sqft_living</th>\n",
              "      <td>-0.012258</td>\n",
              "      <td>0.702035</td>\n",
              "      <td>0.576671</td>\n",
              "      <td>0.754665</td>\n",
              "      <td>1.000000</td>\n",
              "      <td>0.172826</td>\n",
              "      <td>0.353949</td>\n",
              "      <td>0.103818</td>\n",
              "      <td>0.284611</td>\n",
              "      <td>-0.058753</td>\n",
              "      <td>0.762704</td>\n",
              "      <td>0.876597</td>\n",
              "      <td>0.435043</td>\n",
              "      <td>0.318049</td>\n",
              "      <td>0.055363</td>\n",
              "      <td>-0.199430</td>\n",
              "      <td>0.052529</td>\n",
              "      <td>0.240223</td>\n",
              "      <td>0.756420</td>\n",
              "      <td>0.183286</td>\n",
              "    </tr>\n",
              "    <tr>\n",
              "      <th>sqft_lot</th>\n",
              "      <td>-0.132109</td>\n",
              "      <td>0.089661</td>\n",
              "      <td>0.031703</td>\n",
              "      <td>0.087740</td>\n",
              "      <td>0.172826</td>\n",
              "      <td>1.000000</td>\n",
              "      <td>-0.005201</td>\n",
              "      <td>0.021604</td>\n",
              "      <td>0.074710</td>\n",
              "      <td>-0.008958</td>\n",
              "      <td>0.113621</td>\n",
              "      <td>0.183512</td>\n",
              "      <td>0.015286</td>\n",
              "      <td>0.053080</td>\n",
              "      <td>0.007644</td>\n",
              "      <td>-0.129574</td>\n",
              "      <td>-0.085683</td>\n",
              "      <td>0.229521</td>\n",
              "      <td>0.144608</td>\n",
              "      <td>0.718557</td>\n",
              "    </tr>\n",
              "    <tr>\n",
              "      <th>floors</th>\n",
              "      <td>0.018525</td>\n",
              "      <td>0.256794</td>\n",
              "      <td>0.175429</td>\n",
              "      <td>0.500653</td>\n",
              "      <td>0.353949</td>\n",
              "      <td>-0.005201</td>\n",
              "      <td>1.000000</td>\n",
              "      <td>0.023698</td>\n",
              "      <td>0.029444</td>\n",
              "      <td>-0.263768</td>\n",
              "      <td>0.458183</td>\n",
              "      <td>0.523885</td>\n",
              "      <td>-0.245705</td>\n",
              "      <td>0.489319</td>\n",
              "      <td>0.006338</td>\n",
              "      <td>-0.059121</td>\n",
              "      <td>0.049614</td>\n",
              "      <td>0.125419</td>\n",
              "      <td>0.279885</td>\n",
              "      <td>-0.011269</td>\n",
              "    </tr>\n",
              "    <tr>\n",
              "      <th>waterfront</th>\n",
              "      <td>-0.002721</td>\n",
              "      <td>0.266369</td>\n",
              "      <td>-0.006582</td>\n",
              "      <td>0.063744</td>\n",
              "      <td>0.103818</td>\n",
              "      <td>0.021604</td>\n",
              "      <td>0.023698</td>\n",
              "      <td>1.000000</td>\n",
              "      <td>0.401857</td>\n",
              "      <td>0.016653</td>\n",
              "      <td>0.082775</td>\n",
              "      <td>0.072075</td>\n",
              "      <td>0.080588</td>\n",
              "      <td>-0.026161</td>\n",
              "      <td>0.092885</td>\n",
              "      <td>0.030285</td>\n",
              "      <td>-0.014274</td>\n",
              "      <td>-0.041910</td>\n",
              "      <td>0.086463</td>\n",
              "      <td>0.030703</td>\n",
              "    </tr>\n",
              "    <tr>\n",
              "      <th>view</th>\n",
              "      <td>0.011592</td>\n",
              "      <td>0.397293</td>\n",
              "      <td>0.079532</td>\n",
              "      <td>0.187737</td>\n",
              "      <td>0.284611</td>\n",
              "      <td>0.074710</td>\n",
              "      <td>0.029444</td>\n",
              "      <td>0.401857</td>\n",
              "      <td>1.000000</td>\n",
              "      <td>0.045990</td>\n",
              "      <td>0.251321</td>\n",
              "      <td>0.167649</td>\n",
              "      <td>0.276947</td>\n",
              "      <td>-0.053440</td>\n",
              "      <td>0.103917</td>\n",
              "      <td>0.084827</td>\n",
              "      <td>0.006157</td>\n",
              "      <td>-0.078400</td>\n",
              "      <td>0.280439</td>\n",
              "      <td>0.072575</td>\n",
              "    </tr>\n",
              "    <tr>\n",
              "      <th>condition</th>\n",
              "      <td>-0.023783</td>\n",
              "      <td>0.036362</td>\n",
              "      <td>0.028472</td>\n",
              "      <td>-0.124982</td>\n",
              "      <td>-0.058753</td>\n",
              "      <td>-0.008958</td>\n",
              "      <td>-0.263768</td>\n",
              "      <td>0.016653</td>\n",
              "      <td>0.045990</td>\n",
              "      <td>1.000000</td>\n",
              "      <td>-0.144674</td>\n",
              "      <td>-0.158214</td>\n",
              "      <td>0.174105</td>\n",
              "      <td>-0.361417</td>\n",
              "      <td>-0.060618</td>\n",
              "      <td>0.003026</td>\n",
              "      <td>-0.014941</td>\n",
              "      <td>-0.106500</td>\n",
              "      <td>-0.092824</td>\n",
              "      <td>-0.003406</td>\n",
              "    </tr>\n",
              "    <tr>\n",
              "      <th>grade</th>\n",
              "      <td>0.008130</td>\n",
              "      <td>0.667434</td>\n",
              "      <td>0.356967</td>\n",
              "      <td>0.664983</td>\n",
              "      <td>0.762704</td>\n",
              "      <td>0.113621</td>\n",
              "      <td>0.458183</td>\n",
              "      <td>0.082775</td>\n",
              "      <td>0.251321</td>\n",
              "      <td>-0.144674</td>\n",
              "      <td>1.000000</td>\n",
              "      <td>0.755923</td>\n",
              "      <td>0.168392</td>\n",
              "      <td>0.446963</td>\n",
              "      <td>0.014414</td>\n",
              "      <td>-0.184862</td>\n",
              "      <td>0.114084</td>\n",
              "      <td>0.198372</td>\n",
              "      <td>0.713202</td>\n",
              "      <td>0.119248</td>\n",
              "    </tr>\n",
              "    <tr>\n",
              "      <th>sqft_above</th>\n",
              "      <td>-0.010842</td>\n",
              "      <td>0.605567</td>\n",
              "      <td>0.477600</td>\n",
              "      <td>0.685342</td>\n",
              "      <td>0.876597</td>\n",
              "      <td>0.183512</td>\n",
              "      <td>0.523885</td>\n",
              "      <td>0.072075</td>\n",
              "      <td>0.167649</td>\n",
              "      <td>-0.158214</td>\n",
              "      <td>0.755923</td>\n",
              "      <td>1.000000</td>\n",
              "      <td>-0.051943</td>\n",
              "      <td>0.423898</td>\n",
              "      <td>0.023285</td>\n",
              "      <td>-0.261190</td>\n",
              "      <td>-0.000816</td>\n",
              "      <td>0.343803</td>\n",
              "      <td>0.731870</td>\n",
              "      <td>0.194050</td>\n",
              "    </tr>\n",
              "    <tr>\n",
              "      <th>sqft_basement</th>\n",
              "      <td>-0.005151</td>\n",
              "      <td>0.323816</td>\n",
              "      <td>0.303093</td>\n",
              "      <td>0.283770</td>\n",
              "      <td>0.435043</td>\n",
              "      <td>0.015286</td>\n",
              "      <td>-0.245705</td>\n",
              "      <td>0.080588</td>\n",
              "      <td>0.276947</td>\n",
              "      <td>0.174105</td>\n",
              "      <td>0.168392</td>\n",
              "      <td>-0.051943</td>\n",
              "      <td>1.000000</td>\n",
              "      <td>-0.133124</td>\n",
              "      <td>0.071323</td>\n",
              "      <td>0.074845</td>\n",
              "      <td>0.110538</td>\n",
              "      <td>-0.144765</td>\n",
              "      <td>0.200355</td>\n",
              "      <td>0.017276</td>\n",
              "    </tr>\n",
              "    <tr>\n",
              "      <th>yr_built</th>\n",
              "      <td>0.021380</td>\n",
              "      <td>0.054012</td>\n",
              "      <td>0.154178</td>\n",
              "      <td>0.506019</td>\n",
              "      <td>0.318049</td>\n",
              "      <td>0.053080</td>\n",
              "      <td>0.489319</td>\n",
              "      <td>-0.026161</td>\n",
              "      <td>-0.053440</td>\n",
              "      <td>-0.361417</td>\n",
              "      <td>0.446963</td>\n",
              "      <td>0.423898</td>\n",
              "      <td>-0.133124</td>\n",
              "      <td>1.000000</td>\n",
              "      <td>-0.224874</td>\n",
              "      <td>-0.346869</td>\n",
              "      <td>-0.148122</td>\n",
              "      <td>0.409356</td>\n",
              "      <td>0.326229</td>\n",
              "      <td>0.070958</td>\n",
              "    </tr>\n",
              "    <tr>\n",
              "      <th>yr_renovated</th>\n",
              "      <td>-0.016907</td>\n",
              "      <td>0.126434</td>\n",
              "      <td>0.018841</td>\n",
              "      <td>0.050739</td>\n",
              "      <td>0.055363</td>\n",
              "      <td>0.007644</td>\n",
              "      <td>0.006338</td>\n",
              "      <td>0.092885</td>\n",
              "      <td>0.103917</td>\n",
              "      <td>-0.060618</td>\n",
              "      <td>0.014414</td>\n",
              "      <td>0.023285</td>\n",
              "      <td>0.071323</td>\n",
              "      <td>-0.224874</td>\n",
              "      <td>1.000000</td>\n",
              "      <td>0.064357</td>\n",
              "      <td>0.029398</td>\n",
              "      <td>-0.068372</td>\n",
              "      <td>-0.002673</td>\n",
              "      <td>0.007854</td>\n",
              "    </tr>\n",
              "    <tr>\n",
              "      <th>zipcode</th>\n",
              "      <td>-0.008224</td>\n",
              "      <td>-0.053203</td>\n",
              "      <td>-0.152668</td>\n",
              "      <td>-0.203866</td>\n",
              "      <td>-0.199430</td>\n",
              "      <td>-0.129574</td>\n",
              "      <td>-0.059121</td>\n",
              "      <td>0.030285</td>\n",
              "      <td>0.084827</td>\n",
              "      <td>0.003026</td>\n",
              "      <td>-0.184862</td>\n",
              "      <td>-0.261190</td>\n",
              "      <td>0.074845</td>\n",
              "      <td>-0.346869</td>\n",
              "      <td>0.064357</td>\n",
              "      <td>1.000000</td>\n",
              "      <td>0.267048</td>\n",
              "      <td>-0.564072</td>\n",
              "      <td>-0.279033</td>\n",
              "      <td>-0.147221</td>\n",
              "    </tr>\n",
              "    <tr>\n",
              "      <th>lat</th>\n",
              "      <td>-0.001891</td>\n",
              "      <td>0.307003</td>\n",
              "      <td>-0.008931</td>\n",
              "      <td>0.024573</td>\n",
              "      <td>0.052529</td>\n",
              "      <td>-0.085683</td>\n",
              "      <td>0.049614</td>\n",
              "      <td>-0.014274</td>\n",
              "      <td>0.006157</td>\n",
              "      <td>-0.014941</td>\n",
              "      <td>0.114084</td>\n",
              "      <td>-0.000816</td>\n",
              "      <td>0.110538</td>\n",
              "      <td>-0.148122</td>\n",
              "      <td>0.029398</td>\n",
              "      <td>0.267048</td>\n",
              "      <td>1.000000</td>\n",
              "      <td>-0.135512</td>\n",
              "      <td>0.048858</td>\n",
              "      <td>-0.086419</td>\n",
              "    </tr>\n",
              "    <tr>\n",
              "      <th>long</th>\n",
              "      <td>0.020799</td>\n",
              "      <td>0.021626</td>\n",
              "      <td>0.129473</td>\n",
              "      <td>0.223042</td>\n",
              "      <td>0.240223</td>\n",
              "      <td>0.229521</td>\n",
              "      <td>0.125419</td>\n",
              "      <td>-0.041910</td>\n",
              "      <td>-0.078400</td>\n",
              "      <td>-0.106500</td>\n",
              "      <td>0.198372</td>\n",
              "      <td>0.343803</td>\n",
              "      <td>-0.144765</td>\n",
              "      <td>0.409356</td>\n",
              "      <td>-0.068372</td>\n",
              "      <td>-0.564072</td>\n",
              "      <td>-0.135512</td>\n",
              "      <td>1.000000</td>\n",
              "      <td>0.334605</td>\n",
              "      <td>0.254451</td>\n",
              "    </tr>\n",
              "    <tr>\n",
              "      <th>sqft_living15</th>\n",
              "      <td>-0.002901</td>\n",
              "      <td>0.585379</td>\n",
              "      <td>0.391638</td>\n",
              "      <td>0.568634</td>\n",
              "      <td>0.756420</td>\n",
              "      <td>0.144608</td>\n",
              "      <td>0.279885</td>\n",
              "      <td>0.086463</td>\n",
              "      <td>0.280439</td>\n",
              "      <td>-0.092824</td>\n",
              "      <td>0.713202</td>\n",
              "      <td>0.731870</td>\n",
              "      <td>0.200355</td>\n",
              "      <td>0.326229</td>\n",
              "      <td>-0.002673</td>\n",
              "      <td>-0.279033</td>\n",
              "      <td>0.048858</td>\n",
              "      <td>0.334605</td>\n",
              "      <td>1.000000</td>\n",
              "      <td>0.183192</td>\n",
              "    </tr>\n",
              "    <tr>\n",
              "      <th>sqft_lot15</th>\n",
              "      <td>-0.138798</td>\n",
              "      <td>0.082447</td>\n",
              "      <td>0.029244</td>\n",
              "      <td>0.087175</td>\n",
              "      <td>0.183286</td>\n",
              "      <td>0.718557</td>\n",
              "      <td>-0.011269</td>\n",
              "      <td>0.030703</td>\n",
              "      <td>0.072575</td>\n",
              "      <td>-0.003406</td>\n",
              "      <td>0.119248</td>\n",
              "      <td>0.194050</td>\n",
              "      <td>0.017276</td>\n",
              "      <td>0.070958</td>\n",
              "      <td>0.007854</td>\n",
              "      <td>-0.147221</td>\n",
              "      <td>-0.086419</td>\n",
              "      <td>0.254451</td>\n",
              "      <td>0.183192</td>\n",
              "      <td>1.000000</td>\n",
              "    </tr>\n",
              "  </tbody>\n",
              "</table>\n",
              "</div>\n",
              "      <button class=\"colab-df-convert\" onclick=\"convertToInteractive('df-f3912bd6-ba28-4a00-aff0-f7c47aef4c4a')\"\n",
              "              title=\"Convert this dataframe to an interactive table.\"\n",
              "              style=\"display:none;\">\n",
              "        \n",
              "  <svg xmlns=\"http://www.w3.org/2000/svg\" height=\"24px\"viewBox=\"0 0 24 24\"\n",
              "       width=\"24px\">\n",
              "    <path d=\"M0 0h24v24H0V0z\" fill=\"none\"/>\n",
              "    <path d=\"M18.56 5.44l.94 2.06.94-2.06 2.06-.94-2.06-.94-.94-2.06-.94 2.06-2.06.94zm-11 1L8.5 8.5l.94-2.06 2.06-.94-2.06-.94L8.5 2.5l-.94 2.06-2.06.94zm10 10l.94 2.06.94-2.06 2.06-.94-2.06-.94-.94-2.06-.94 2.06-2.06.94z\"/><path d=\"M17.41 7.96l-1.37-1.37c-.4-.4-.92-.59-1.43-.59-.52 0-1.04.2-1.43.59L10.3 9.45l-7.72 7.72c-.78.78-.78 2.05 0 2.83L4 21.41c.39.39.9.59 1.41.59.51 0 1.02-.2 1.41-.59l7.78-7.78 2.81-2.81c.8-.78.8-2.07 0-2.86zM5.41 20L4 18.59l7.72-7.72 1.47 1.35L5.41 20z\"/>\n",
              "  </svg>\n",
              "      </button>\n",
              "      \n",
              "  <style>\n",
              "    .colab-df-container {\n",
              "      display:flex;\n",
              "      flex-wrap:wrap;\n",
              "      gap: 12px;\n",
              "    }\n",
              "\n",
              "    .colab-df-convert {\n",
              "      background-color: #E8F0FE;\n",
              "      border: none;\n",
              "      border-radius: 50%;\n",
              "      cursor: pointer;\n",
              "      display: none;\n",
              "      fill: #1967D2;\n",
              "      height: 32px;\n",
              "      padding: 0 0 0 0;\n",
              "      width: 32px;\n",
              "    }\n",
              "\n",
              "    .colab-df-convert:hover {\n",
              "      background-color: #E2EBFA;\n",
              "      box-shadow: 0px 1px 2px rgba(60, 64, 67, 0.3), 0px 1px 3px 1px rgba(60, 64, 67, 0.15);\n",
              "      fill: #174EA6;\n",
              "    }\n",
              "\n",
              "    [theme=dark] .colab-df-convert {\n",
              "      background-color: #3B4455;\n",
              "      fill: #D2E3FC;\n",
              "    }\n",
              "\n",
              "    [theme=dark] .colab-df-convert:hover {\n",
              "      background-color: #434B5C;\n",
              "      box-shadow: 0px 1px 3px 1px rgba(0, 0, 0, 0.15);\n",
              "      filter: drop-shadow(0px 1px 2px rgba(0, 0, 0, 0.3));\n",
              "      fill: #FFFFFF;\n",
              "    }\n",
              "  </style>\n",
              "\n",
              "      <script>\n",
              "        const buttonEl =\n",
              "          document.querySelector('#df-f3912bd6-ba28-4a00-aff0-f7c47aef4c4a button.colab-df-convert');\n",
              "        buttonEl.style.display =\n",
              "          google.colab.kernel.accessAllowed ? 'block' : 'none';\n",
              "\n",
              "        async function convertToInteractive(key) {\n",
              "          const element = document.querySelector('#df-f3912bd6-ba28-4a00-aff0-f7c47aef4c4a');\n",
              "          const dataTable =\n",
              "            await google.colab.kernel.invokeFunction('convertToInteractive',\n",
              "                                                     [key], {});\n",
              "          if (!dataTable) return;\n",
              "\n",
              "          const docLinkHtml = 'Like what you see? Visit the ' +\n",
              "            '<a target=\"_blank\" href=https://colab.research.google.com/notebooks/data_table.ipynb>data table notebook</a>'\n",
              "            + ' to learn more about interactive tables.';\n",
              "          element.innerHTML = '';\n",
              "          dataTable['output_type'] = 'display_data';\n",
              "          await google.colab.output.renderOutput(dataTable, element);\n",
              "          const docLink = document.createElement('div');\n",
              "          docLink.innerHTML = docLinkHtml;\n",
              "          element.appendChild(docLink);\n",
              "        }\n",
              "      </script>\n",
              "    </div>\n",
              "  </div>\n",
              "  "
            ],
            "text/plain": [
              "                     id     price  ...  sqft_living15  sqft_lot15\n",
              "id             1.000000 -0.016762  ...      -0.002901   -0.138798\n",
              "price         -0.016762  1.000000  ...       0.585379    0.082447\n",
              "bedrooms       0.001286  0.308350  ...       0.391638    0.029244\n",
              "bathrooms      0.005160  0.525138  ...       0.568634    0.087175\n",
              "sqft_living   -0.012258  0.702035  ...       0.756420    0.183286\n",
              "sqft_lot      -0.132109  0.089661  ...       0.144608    0.718557\n",
              "floors         0.018525  0.256794  ...       0.279885   -0.011269\n",
              "waterfront    -0.002721  0.266369  ...       0.086463    0.030703\n",
              "view           0.011592  0.397293  ...       0.280439    0.072575\n",
              "condition     -0.023783  0.036362  ...      -0.092824   -0.003406\n",
              "grade          0.008130  0.667434  ...       0.713202    0.119248\n",
              "sqft_above    -0.010842  0.605567  ...       0.731870    0.194050\n",
              "sqft_basement -0.005151  0.323816  ...       0.200355    0.017276\n",
              "yr_built       0.021380  0.054012  ...       0.326229    0.070958\n",
              "yr_renovated  -0.016907  0.126434  ...      -0.002673    0.007854\n",
              "zipcode       -0.008224 -0.053203  ...      -0.279033   -0.147221\n",
              "lat           -0.001891  0.307003  ...       0.048858   -0.086419\n",
              "long           0.020799  0.021626  ...       0.334605    0.254451\n",
              "sqft_living15 -0.002901  0.585379  ...       1.000000    0.183192\n",
              "sqft_lot15    -0.138798  0.082447  ...       0.183192    1.000000\n",
              "\n",
              "[20 rows x 20 columns]"
            ]
          },
          "metadata": {},
          "execution_count": 15
        }
      ]
    },
    {
      "cell_type": "markdown",
      "source": [
        "y como lo teníamos pensando, variables como 'ID' y 'Zipcode' nos dan una correlación negativa en torno a nuestro vector objetivo (precio) por lo que no vamos a tomar en cuenta para la regresión"
      ],
      "metadata": {
        "id": "i1VtCLVRtuS7"
      }
    },
    {
      "cell_type": "markdown",
      "source": [
        "Igualmente algunas variables como yr_built , long, condition , sqft_lot tienen correlación muy cercanas a 0 pero de acuerdo a https://blog.ion.com.mx/que-factores-influyen-en-el-precio-de-mi-casa \n",
        "\n",
        "Los factores principales son:\n",
        "- Año de construcción (yr_built) en conjunto con la condición de la casa (condition).\n",
        "![kn casas 1.png](data:image/png;base64,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)\n",
        "\n",
        "\n",
        "-Así mismo en la misma página consideran que el tamaño en pies cuadrados (sqft_lot) y altura de la casa (long) es importante.\n",
        "\n",
        "![kn casas 2.png](data:image/png;base64,iVBORw0KGgoAAAANSUhEUgAAAhMAAAEMCAIAAADxqaOgAAAAAXNSR0IArs4c6QAAAARnQU1BAACxjwv8YQUAAAAJcEhZcwAADsMAAA7DAcdvqGQAACDvSURBVHhe7d1rYiS3rYbhOHFWpFlS4kUlXpJ35CRz0PVBOBBvRVZVXyS9z482CgRBVnerOdKMZ375+fPnXwAAmPZX/y8AAHM4OQAAazg5AABryt/n+PPPPz3Ca/j73//uEQC8Br7nAACs4eQAAKwpf1r1n//8xyO8hl9//dUjAHgNfM8BAFgz9T3H77//7lHLP/7xD4/uI1bXQnZ57xWDln7Yck18zwHg1Sz/tOrBH6axXJwf5lknx1MOEk4OAK+mPDn++9//etTx73//2x7/+c9/6vJrK272Kff+t7/9zSMAeA3XnBxKmpyPymK0WWyWmoRe3sRcXUozaZp9ojhGM1UWDfNlPb0oM5Hp4eQA8GrO/g65fQLqQzA+K3UZ7DJ/XBaXESiebBKB4t6syOvSKI5Wss0b9TE2FLMUG13usm65OPorGZcA8Flc82er9CHY/DAthuYrs2NDS67qU4ueufn9lgOAeytPjl8W/bb5/Z1nF13SpMnaevTLL+qcM7ItfpfVs1h3dTl/YQDgZXS/59BPUYJnWzRqv3w+8yvoS5r0jPdv7rp67cHLAcC1uieHPteCZyvxIRjxAZc06cmbb97IsdVf82YB4AGu+X2OJ9KH7+5H8D0+o+uenAQAvoNrTg77xDTNX9HPW20SlTZLwZkNzKyu0ajUZZG81U1YrQeA11H+/xz/+9//PPpC7DPaHj/px/Rf//rpvy8E8MWUn0r+B3q+lk99a9o8ALyOr//r2X/961/2+Ntvv+kSAHBS+dOq4hJPx7cdAF4NP0MHAKzh5AAArCl/WgUAwBjfcwAA1nByAADWcHIAANZwcgAA1nByAADWcHIAANZwcgAA1nByAADWcHIAANZwcgAA1nByAADWcHIAANZwcgAA1nByAADWcHIAANa0T44fLT7WMh59QXfacLQ91v8euzrTczz3/G7vcb+HvdRmej7FJr+P574cz129+z3HHxUfwH3Y+8CeZL0b7FEBALyga35aNT5XvuGH4IGDVlN0eNijLp9rvIdX2CG+PH4J1fPcL8D2vyarDy+/SPQqxlBc5vp4pZWJS+mVGTWp85JHNdTr0IwVFKPNvILImGYy5FG1VXK1p6Y08wrG07M8qra67M3KNaJMfvSBTZ23WEHOqEaXzcpxh1qvp6mTuTgnFeS5ovqIFdRlJo/GrGL6gVYKzGCKOtcFyjdjBbnVfDKcnGKxaiKoYwVFq8jLoF7dmnkFGj3QIfSmKA7NDr25k8Wm1yFiBXnKfdnJUXt7e/OokocirgPTTEqvLMcKQjGaYwWmGfeSOS4CM06GYjQu68DsJnNcBGacDMVoXBZ5j94VGV0255rBaE7muAjMNt7Oe1TZZjQqe0nFOdhGbnIskZksMxbHZZEvApNjOTalWXCPZDg/JS6LfBGYHMs4k5vkuAjMNt7OR5BjBSFnzpTlZC+vwEwmm6P31v1plR1iBeXtTFNsj5ecb9FQcQSRDM3lmpU9S2vNt5VouOQpWxq3sqHeRDMezZ2jrLncoMnA7qx6A/aoILNMvaXauKxuOzC5YtacsrTo2FVbGlva8Gr/XB8LNZvMbGPcIYxHw27ZzJZql+ztvCO/Q26xbS5ngoakWRC8aOOpFePmA6sT5++oqTfdUxtPTTu8JZ+z8dRFvOnGUyvyHXlqkU/eeOo1+J42nnp3j/dGNvM+UT5XKl/wsY0yM83neaONp4a8dOOpFbv32+QTNp5q8YqNMkvP1czezj/h5x35HXK7Jd2eX79TxoZkcOfGi97fuEo+wHhXhaU7qg2me2r99s9syee0FrVLtbLHYsiMR40lRbGS89RWPLXIJx/dwP1oV0axkkbPp4aMLsVT5+5l0D9T3h69rrOcj71vabL5PG80fcsqNoqVnLd7v00+YW9R1RjFq8/VzN7OP+HnLZ8cujEL7LG4gTpT6I0+7ImIze9S5e4dZXXl5PTJJS7ZUphvsmr+djxKdufONJ+ssWfSL/rGZTMLZbl+8nWsayYXnelvBcXdTW5pcvMyXym9+tV8oVm2urcwv+jguRo3GcwqXrVsPHqh7p+t8iiJpyB2Fpd5u3nuINnMRL0ZXI6HFJhBstdhcnoWozaU+4yn18k8xeRWyphxzxCjNpTbjmcZFeT6XDYYrTvXcyOvjF02k7rMoyHyusyjkTS5iTKhLgu5flBmYtSGdmdNtjIzU7RcFOTR+VZ1smhol7mzmW8ecs/c8Ewro9FmJk+My6i0y2ZSl3lUiksTs0yeqEyoy0xvbuTrylymYEvfFEOKFZhI3lX75ACeLn9hSJ15uhfc0gt61rNUrPtSL9Znf+dc838CAtfiExl4ZZwceEUcGzjP3kX2S5DAm+pC/LQKALCG7zkAAGs4OQAAazg5AABrODkAAGs4OQAAazg5AABrODkAAGs+x8nxI/2tLC+l3tiDt/r0ZyY2ML8TqxS/PiSm1wFqu0/OJc/ec1+Cz/sG+Iw753sOPJS+SP7YfN4v9S/GXoh4OexRATDwOU4Oe1t7hM8vXs0zL2s9lzfJYXrq7NHODHvU5afzSbf9SXX/lnV7GeKXHvGS1BlzedIyFiuvpDLbYLuJ5IkmF9TJXJyTCvLc0GuiWHJb06wsYgXFaJ0PeWjcykwm1Ud5JeuMkgqKiTlQrCAyEnmJifnSqJXy45pmoFhBUa98JEOeK82MAvXRaC4rYgVFE6OyumAwxTRH56dYPFhIo828gshkvT6KQ7NJb+5ksel1iFhBniIqW+qpfE4qmJ9rBtNVqTjksijIlUWsoO5jmqPjKfvs5Ki9bSIuAnPvpOIcbCPt+nCrbhX0kopzsI3c5Fiao82ynIx4KZljBSFntsJG5bGk4nFgjxLxIDA5liLTLLagFyswdXK3THEEhZysC4rRuCzyRWByLJaJZB2YHEtzdGlKXBb5CHJcBCbH0hw9UJaTvbwCM5lsjgbLNAt6ScU52EZuIu4lc1wEppmUoiwui3wRmBzLgSkzuj+tioPIgjidwsnkLq1ujwqabKi5nEcTVHxbY2WWsfrBTa12k9wzOhxbaDyrR93sUUEzEywzs8RkWa1e0RzuJuppjwoOW5puxfWeo0NvdPU2x1NiuYEzWxqPht2y2MOSA3vbXSjPUrE9KthlZcVcBeN7H5hcVw4sdGxva7/PYQsET30UN+lFG2W0P4mynFTmHiZX2S3zsY2nTvN2G08d5V02yjzxOZ80s5nY+aSTN2izVlesaXXx1An5jvLePLXx1J6lJ8frNp5KfGDjqRav2CjTu52mmQ3vNpnky2w8VVnafG3mdg7wjhtPvett2FMbT61YOzlsYVGsZBabUJlRrLwyJsos8NT6azBvcpXdMh97vyklT1JDo1jJY9THKH7ucz7pHps51tOK4yk6T6sbxUoeo12pm8mb9NTKKktPjtd1+mvIKFayphqjeHA7TTMb3m0yyZfp39Hq5mszt3OAd6x2Ptiwp/o3O3b8z1bVz5qeFL9IlK/rs/FoU3O5S1aZKRvUTK5SW5043sM9nvOg/n7RN1lmzmym5x49zWrbA/X5Sdt9HWVQ0xw6sCuPWia7Wdngdo4toZ5+UWmOjheSZs3MazHeT5jZg8xXSq6f2bBZXcL86v+dUGxCz05zZ/OVRknVWKygp9ck5ILcanKVQZnF0dn0OphcGWXFdJnvGYrmzdioVZEMSqrGYgW7et0Kk2Xh2GbGdns2k5bpbUBD4zgUyWbDQrNPOLBKHi0qFave4mJiKGYVZePR0CwrkiHnc0MllbHYAtPsIONRkwssjiDPinyh2byZ7FGl+lvcXCg37MWhSBYND0yZ8aX+TUB7Lg48BfiGem+VybcQ77TLPewp/Yyv3Qvu+XP8n4DAhXpfh5wHwCRODnw7HA/ASV/qp1UAgAfgew4AwBpODgDAGk4OAMAaTg4AwBpODgDAGk4OAMAaTg4AwBpODgDAmiefHD+qv4oLx3yZZ/KuN8L7DbgE33MAANY8+eSIv0HopX4xyK9Mn+iuf6kUf2MVcIn231tlH532NRYfoPXne/4KPJO0jMWRlzyqIDeRYmIuqJO5OCcV5Lkm8jKoz23NZGUkRUNFnOtNLlBQNDGDKb1YQTHazCuITNYcnWmujC4lagajCpSJgpiiy5xXUFRGrCAyAGbZyVF720RcBObyZB6VZn2wTLOgl1Scg23kJscyzkRsQY6LwOSk4ghCvox4q/r/uAhMjuU2oVWwlMxxEZgcS3O0l8xxEYguJ0dNrsxxEZjJUQCTuj+til+IWRC/Ogsnk5eIHc5QsT0uzWqyDvUvV3My1JX2qGBXlFkw+QROdi7k/gcWDc0p880tEwW15uh882YSwGFrv89hX37BUx/FF7AXbZTRV69E2UCu99SEyVkHmnv1xlMdXrTx1BWOPSE93mjjqZalRa3Yo3vy3Ww8NaHY27VPJvDdrJ0c9vUmipXM4utQZUax8sqYmS9Xq/Hqlc+jyVkHmnv1+x0p2aQyo1jJ8449IT3eaG+TS4tasUdzrKemaBUlQ2/UYlGs5K5ib+opngIw7fifrSq+FE3xFR6Ur+ubmm09+mjc8PBy2bGls/nKeed3VZiZuFtjBfWr30xeaPKWB9uY7AAgG/3ZKr9Il/nLLArOJKOzYgXGknFZVxpdFjWmOauYa5plykgUmKjRpWnOisvdysJk5yibr5FImsjXyZmGRY2p+5g6WUzMlyrOl0WlPdYZUb6eEnllTFEZQzkfowDGPuu/JssXOQA8y5P/T0AAwKfDyQEAWPNZf1oFAHgWvucAAKzh5AAArOHkAACs4eQAAKzh5AAArOHkAACs4eQAAKzh5AAArOHkAACs4eQAAKzh5AAArOHkAACs4eQAAKzh5AAArOHkAACs4eQAAKzh5AAArOHkAACs4eQAAKzh5AAArOHkAACs4eQAAKzh5AAArOHkAACs4eQAAKzh5AAArOHkAACs4eQAAKzh5AAArOHkAACs4eQAAKxpnxw/fvzw6D4O9D+2pd1Z977TgUcu/cTbHBtv7Py2X/bGL/Gw5+fkQja94ANpyK9XHJuVaWnj1+882+rvA6eX/uz4ngPAHelD9o+PYsiv//jj8Z/FvdUHuxoMfTfPOTnsefdo2oEp31b9nn7ZZ2+8MV70r6H5OupT2C8errf6YFd33XD9Nfvilk8Ou0Px60RJjRoljeKcLIJt5EZJ49cfMznYBm+UFE99TNa8qCrzbMorzknFRpfiqc5Eo6Tx64/TjWervPjYx1FPtVrpUXJSlDd+3Zli/DplMh+b6GOKS6NMfszqvMXi16lGlDR+nTLi2Y95T1XF4mPvC0VSgSli8et3g8xWfqNLo1hJo2TmA62e4tcbT00kjWdbi2ZeNNcz+HC/wD6Um6OaZfy6w4sWd7WrtyvTHFLmtuT7kGKjS/FUqhknlTG6NH698dTH5N39bHl7e/Poo5yvayzTLIh8DraRD1PqwDRHIzY5r8A0k1KUxWWRj6AXKzDN+FZaFUdgtvF23qN3zdH5KTKeaEGOi8DkWJqjFuRYQSgyuuzVD0ZzMsdFYLbxdr4ITI6lGI3LIl8EJsdSZHTZnGJBjhWEnNkKG5VLyV7eo3fjst25zYKclHFmMNosG88tNGfJzFCwTCSLWIFpxjkpllEyB9vITcTN5ANc/NOq3ndzyttjXRAZC+pjs5f06Jxen7xos6a5q0JMbBY32x4zs5mmPHF3t4Ml5vsEG4rK2nh0frlBk1VLrZqbCeO7MzE67tNrMp6VnewwX2b8YmV7xxzob/V5hyc1W/V2Nd6tWtmjgswyd30ad62dHNqueOr+6met6fzefPLGUx81d3J+3XGHPJo34KmNp+b4nI2nOrxo46nEBzaeuidfaeOpFc0nuffcHuONNp4aam7pMG+0UWb17rx046k5g4Us49EhZ56imdsfj543Xlc8ddTMbd7D2smhzYmn7s8W9Wjo/N588jZdjzPOrzvooHv3se0torzx1OJujWYZxUo2qcwoVjJoyChWcsBqtH/dr5JhPGosKYqVnKe2Ehl79NTH5/YYb9TaoV3Wd1dv6Qxv9L76gbvz0tb+B8YL1ZklNldtjafmjHcl0dyvH0jrGsVKHjBzm3dy8KdVvS1evnW9un7xbrzK/B4GlQduZGlKs7hOTr4bejW7c2eay7hyvs8lJpdrlkVy6Stt9QaX6leby2CWDc3c3biDR31aZelpNJplQTEx8k3zS6hP0bzWW66YmMsGQ2fknqa47NHqxZYe6ZefP396mDR3k3dpsT1q98oYXRY1pigzkWl2UKCMKSoVREFMLzJRFgUhV+aCyJvcRJmiVVzGrDxlpriZ1GWea6LAxFAzGYrR3LOemEdNXNaV2XyfTLMiX0+xx+aohkTJem7klbHLZlKXRd4okzVbmeascSujgrpeGfXXo/KmuDR5Vh6NvJlMznSQ3bLBXDPurKCeZYpRu8xl+bK5RDMpeSjUE4tZZjBkbDQ3yTXFkALTSxbTZWaiR3fWPjmOad7q5R6zClDgjQeEi/9sFQDgy+PkAACsufKnVQCA74DvOQAAazg5AABrODkAAGs4OQAAazg5AABrODkAAGs4OQAAazg5AABrHnFy5L+Q64CT0wEA1+J7DgDAGk4OAMCa7snx451ff/ypURGLX288VSX1mPO6NH698dTHpPHsXDEA4C5+try9vXmU4sPJnFecg23kJuIi2csXgckxAOBO9n9a9cf2r1P5xbriH8PRpT0W+Z5emeX5JgMAnmLq9zkGn/L6BBdPrTg53eQOg30CAK4ydXLYh7JHFX1ei6dWnJ9ujz6f70IA4CH2Tw59uPtFX+9Te/LTfHW6dsVpAQCP1/03AfMncpwcdTIycVnnc1JBWJpuIm8GyTwFAHAt/jVZAMCaqd/nAAAgcHIAANZwcgAA1nByAADWcHIAANZwcgAA1nByAADWcHIAANZwcgAA1nByAADWcHIAANZwcgAA1nByAADWcHIAANZwcgAA1nByAADWcHIAANZwcgAA1nByAADWcHIAANZwcgAA1nByAADWcHIAANZwcgAA1nByAADWcHIAANZwcgAA1nByAADWcHIAANZwcgAA1nByAADWcHIAANZwcgAA1nByAADWcHIAANY0To4fHT68rje3zm/rHF8IpvcE3u+JrTvfXsUTy63OPbncJZ6+gdorbOkFnxZconFy/JHkS43e28MWwl09+HXkbQM80jN/WlV8tdsvT/j6P+/xz+FzX0feNj08LXf13G+nnv7N3C8/f/70sKX4soztRlIFyis5rjFFPmIFu7NCc2hc32tYJ3vFzelhvk9oDs336VVGrEBzd2cpPygzvbkRKyhGm61k3FCaTXJZxLkyMreKj0vXyXqikgry3JBHNV2X87MUmDqphpPFptchYgW7fcLSKr1WGo1YwbhhlkejVdEzxwp2WymY76PRnI9YBnNFHfxiU2ek7qDKnI9YVJnL8lwFkbmMnRwDb29vHnViC3qxApPzJuI6MDmZYwUhZ5plzSnNgl4yx0VgcizNUQtyrCDkTLMsJ3NcBGZ3tJePQHEOtpGbiMfJ3miOFYScGZfVoxGYnOzFCkwzvpVucQ62kZscSzEal0Xeo3fN0V6yl1dgJpPzU8L8FAtyrCA0h8bJUIzGZZEvApNjmZ/SS+a4CELOrI5Ks8aCHBdB2KpuyRxsIzc5vsQFP61qnmZx+sn8iZcnxqyi24zmlN1tzK/eTIb5PmF3lck+TTG3UPe3RwW7rGzydqLh/JTaZBMTlVlvVs5roj0qyCwzs7fC7qwDN7Lr5KK15pScjH0eaD4plpgx3sb8JnNlbGBy+vwqPQdWV5k9Ksgsc3I/hYWTQ2uLpyr1jid5342nhvJm8qKe2njqUt5646nEBzaeWrH67PWehF0+Z+OpSm7uqcrqhpt8jY2nrtPboa+38dR1vO/GU4kPbJRZeh2vel1WF/XoqOa2l/awyxttPNUxXstbbDw1zadtPFWxocEGNFc8dYI32njqIgsnh61tNyyeuo733TrrcUDPgupNflI8NdfnADU3ipUMGjKKlZy39OoOnoRdPme4T2uoGuOpytKiPb7G0SftGK1oFCt5FXU2ipUMGjKKV1/HS16XA4t6dFS97dU97PJGnac9G6+lJkaxkpM00ShWUuxy5h632TeKlTxMrYxiJS9x5KdVB17jpSm7xfYUzDSsa3ZnWcH88zvuNrPDrLn0YD+TT4IMKneb9AoGezPj0Z7dzdzDzKK7N+tRZdxcbXs1u3M9+kg9/aKi0cGitWbD8SoDse7qHjyaM6hf2vnMur2a1T3XzqxeO7+f7Ff/7xytrefd4vkXIL9L6ll51My0LabIbp9cEKPNVk3j/uPRpubSzWTTuDKP9mJjlx5VVKYCiy0weW5hPNpUTLFLjyYcWE4mFx33z6O92BTNm6NFMuR87qOkMhZbYJodpDl6+ZRdmmtNFFswbphHe3Eoknbp0WZmioz7ZLnSArvMGWOXHr1TQeRzLLsdQq6s+8h8twN2/lTuV9J7foEXxNu18DWekHwXn/qOnvl/AgLA9/Fljg3DyQEAj/bZv3/6Rj+tAgBcgu85AABrODkAAGs4OQAAazg5AABrODkAAGs4OQAAazg5AABrFk6OH+mvSVHwGAeWO7bDB9/XktW9Wf3Tb+fYBu6x7fM9L9mVNan52HVyz6X+99jMXX26Dc+zWztzdw94Zvie48v67P+T6pdkL0rBB+7APj7u2h939eKv3Sc4OQ48gy/1pD/g/C/wkVGIZ+Pwa/GU5/PkO2e857r5098zj/9KeU0Xfv3e7ynt/u0jsWT+qlOcb6wuM81kQU3qypxXUpliyOQpCnJmPMVMzorMrWKuQ85HLLlSQW4Yep0VizJFZS6LOFdG5lbxcfU6WU9UUkGeG/KopuvyqlkaVV7JZsYe49LkmpBHFTTrlVRmG2zUm2aykJvUig5xKfOrxyoRKFYQQ7qU3Xqpk5qifDTZRhYmmhxLrlSQG4qaRKwglw3mmvkpJ5NiQ5ZUgUYvaWvqUctYHHnJowrml2i4/WPkleY/fT4IzDhZs6FmZeRzsI18mFIHpjkascl5BaZOWtCLFZhmfCutiiMIOTM52iyrRyMwOdmLFZhmfCvd4hxsIzc5lmI0Lou8R++K0bgs8hEoroM6VmCaSemVKc7BNtKtV2ByXJgcaraV3TKL63wEppmU+fqc7MUKTDO+lVbFEYScGYw2yybnmvGUk8lgmUgWsQLTjHsFMp6yWm/qKU37P62qz66r9A435e2xLoiMBfWuekmPVjRnNfubnI+JveLCuGx3NILxWlGZ9WblvCbao4LMMjN7K5yfpRp7VBCZgiUHCzXlKeppjwqabGh1Casv+MBFBrs9Zvcemyv2ZuV8TNxdQibLDrhf50Lccvaw1a/VPTnsZoKnKrpn8dTHZPOZuqvJFZs77+n19PkbT03zaRtPJT6w8dR17nE7u7zvxlP38fi3nMlvp/EGbLQQeZ8/7JDLPDVhsnmPpsws3Wvu0zaemubTNp6qNPeWk72NBRXM95mv7GkWHGjbnDJwYImm7slh80WxkgUtI5GxR09tu1H+YSZXrHd+gM8fPkU9mmgUKxk0ZBQreW9a0ShW8irqbBQr+TWcf8/Pdzjwvr1qeweWDj7t0KuviUaxkoV6b6t33bvHXp/5yiUH2tZTxg4s0TT1Z6t2e0XB/MJmvnKSNbQN+MW78SpX7WGmT6/mMTtcMnk79bMdBh0ODI3XOqC50Ooqqje9bU/a7VCP9urr/IHmmY1aB7/YjOt3zUzv1ezOjYKlF8Uqe/c4/+wtrbjrQNvJfYYDS2S/+n8/KnrZpUcVlanAYgtMvQ8N+cW7XFmPTmoul/VWUVKZ5vbGinUH03OlFsoZY5cebcajY8XceZOLjvvn0V5siuaTsy6Re1pgl6urNOubSfX3i3fNuXoct41uykRsgYmyHIfdpPooNs16o6QqiykDRbfBrFyp/jlj7NKjispU0Jxb6I3O95mvXHKgbT1lS9/kuTFU15som/SgfxMwNh3qzD08ZhUA+FYe8X8C8vENAF/JI04Ojg0A+Eoe9NMqAMCX8YjvOQAAXwknBwBgDScHAGANJwcAYA0nBwBgDScHAGANJwcAYA0nBwBgzezJsfr3YeGwBz/Vr/nKHtvV5Kxe2as9Fa/50gCG7zmAV2THBn9tD15W++Sof7HDm/hheKqf5aWeed4GeGWNv7eqODb0Ds6/AoqCnLG4mVewWykaLeKZKRqN+m3kQ2WR1CxlJDL1dA0p35w1OaUuM725ESvIU0Jv7mBWb4piyU001GzYa5UnKqlgPNfkpFrpslkcDsxSWV0wnj6YpSAyppmU3GfQRGURK8jd5pPA9ezkqL29vXn0LjJ5KCdzXAQmJ3OsIORMLsuxglCM5liBacZLScURhCITceRzsI3cRDxONkdDb26OFYScGZfl0RwrMM34VrrFOdhGbiKeSfbyHr0rRuOyyHv0bitsFNSByckcF4EZJ4NllMzBNnITcR2YA0ngHk79Pof9uqb+NU5OhvnKpt3mHiXzzXtyBy1hjwqyOiPKbzMaU5p3Mdjw/Ggsd7KhR0lvSs5roj0qyCwzWDGr58q4w9KsXnEtT49ZvZ5LN2iPCuZZ/Zl1gascOTnsbRo81eFFG0/dWfNLUV9a4qnEkqtfwMdoA+Kpj1a34b02ntrj1RtP7entyrtsPLVHrcYvx1V8gY2nVvjMjac6vGijTL7Bmdd06QmJhj5ho8zqusBhR04Oe1OKYiWbVGYUK/l4+kIST71/mfnFQ2gDRrGS2ep+1M0oVnJM9Uaxkseoj1Gs5JhusPlyXM4XOHqnmmsUK9mkMqNY96iMmXlNl56QaOgTTqwLHLZzcuy+/+bfoK/wVl7agxXbV6Bf9B27r3rWeLndzRzYxrGdN820qm+hN2uQHz9FHlXqoUFxbb5YO1xqnu1OVH+/SE6uC6zq/puA+V2oN2W8ZYshe8yjJi7nK8PqlHzZG7JAmbjsTTFRbOr6goZiyqCtqTubOpnnNqeE8VxTXJrdKSZnBg1nWplmWXFZ53OrukN2YJbK8kQF4+l51MRlXWmaSSn6mCiOhhbksma3yWTuA1zlu/9rsie/rviyBPANnfqzVZ8dn/sAcMC3PjkAAAd8959WAQBW8T0HAGANJwcAYA0nBwBgDScHAGANJwcAYA0nBwBgDScHAGANJwcAYA0nBwBgDScHAGANJwcAYA0nBwBgDScHAGDFX/7yfxVEpyPUscyyAAAAAElFTkSuQmCC)\n"
      ],
      "metadata": {
        "id": "ojrMSDQst-or"
      }
    },
    {
      "cell_type": "markdown",
      "source": [
        "Y por esta razón no podríamos eliminarlas o no tomarlas en cuenta"
      ],
      "metadata": {
        "id": "GjyiTs_owfdc"
      }
    },
    {
      "cell_type": "markdown",
      "source": [
        "En conclusión haremos nuestro modelo con todo el data frame tomando en cuenta:\n",
        "\n",
        "- Columnas 'ID','Zip Code' y 'Fecha' no se tomarán en cuenta para la matriz de características (X) \n",
        "\n",
        "Nota: La fecha no se toma en cuenta ya que al ser una variable de tipo objeto no tiene correlación con la columna 'precio'\n",
        "- Nuestro vector objetivo es la columna price (y)"
      ],
      "metadata": {
        "id": "1W6hIkaBwjeM"
      }
    },
    {
      "cell_type": "markdown",
      "source": [
        "# Tarea "
      ],
      "metadata": {
        "id": "7iVWc3vWw6U2"
      }
    },
    {
      "cell_type": "markdown",
      "source": [
        "-  Tu tarea es realizar bagged trees y técnicas de regresión forestal aleatoria en el conjunto de datos para predecir el precio a partir de sus características."
      ],
      "metadata": {
        "id": "-wX5CdEBw_h8"
      }
    },
    {
      "cell_type": "markdown",
      "source": [
        "# Árboles de decisión "
      ],
      "metadata": {
        "id": "V7UhrwiyxpxK"
      }
    },
    {
      "cell_type": "markdown",
      "source": [
        "Se realizará un árbol decisión enfatizando el proceso final en obtener el mejor max_depth (hyperparámetro de DecisionTreeClassifier) para tener el mayor puntaje R2 para el arbol de decisión  "
      ],
      "metadata": {
        "id": "S5qdWzdAx7hR"
      }
    },
    {
      "cell_type": "code",
      "source": [
        "#importamos librerías que necesitaremos \n",
        "import matplotlib.pyplot as plt\n",
        "from sklearn.model_selection import train_test_split #librería para division de entrenamiento y prueba \n",
        "from sklearn.tree import DecisionTreeRegressor # librería árboles de decisión "
      ],
      "metadata": {
        "id": "BhQGPGi1xvs9"
      },
      "execution_count": 29,
      "outputs": []
    },
    {
      "cell_type": "markdown",
      "source": [
        "Primero empezaremos a separar nuestros datos en variables independientes (X) y variable dependiente (y)"
      ],
      "metadata": {
        "id": "cz6z76ktzRJd"
      }
    },
    {
      "cell_type": "code",
      "source": [
        "df.head(1)"
      ],
      "metadata": {
        "colab": {
          "base_uri": "https://localhost:8080/",
          "height": 145
        },
        "id": "U1O8igAXz1A9",
        "outputId": "38619c79-b8d0-4c12-d533-72247437f446"
      },
      "execution_count": 27,
      "outputs": [
        {
          "output_type": "execute_result",
          "data": {
            "text/html": [
              "\n",
              "  <div id=\"df-5c241f1e-68a1-4c06-87b1-dc4ed01c25c1\">\n",
              "    <div class=\"colab-df-container\">\n",
              "      <div>\n",
              "<style scoped>\n",
              "    .dataframe tbody tr th:only-of-type {\n",
              "        vertical-align: middle;\n",
              "    }\n",
              "\n",
              "    .dataframe tbody tr th {\n",
              "        vertical-align: top;\n",
              "    }\n",
              "\n",
              "    .dataframe thead th {\n",
              "        text-align: right;\n",
              "    }\n",
              "</style>\n",
              "<table border=\"1\" class=\"dataframe\">\n",
              "  <thead>\n",
              "    <tr style=\"text-align: right;\">\n",
              "      <th></th>\n",
              "      <th>id</th>\n",
              "      <th>date</th>\n",
              "      <th>price</th>\n",
              "      <th>bedrooms</th>\n",
              "      <th>bathrooms</th>\n",
              "      <th>sqft_living</th>\n",
              "      <th>sqft_lot</th>\n",
              "      <th>floors</th>\n",
              "      <th>waterfront</th>\n",
              "      <th>view</th>\n",
              "      <th>condition</th>\n",
              "      <th>grade</th>\n",
              "      <th>sqft_above</th>\n",
              "      <th>sqft_basement</th>\n",
              "      <th>yr_built</th>\n",
              "      <th>yr_renovated</th>\n",
              "      <th>zipcode</th>\n",
              "      <th>lat</th>\n",
              "      <th>long</th>\n",
              "      <th>sqft_living15</th>\n",
              "      <th>sqft_lot15</th>\n",
              "    </tr>\n",
              "  </thead>\n",
              "  <tbody>\n",
              "    <tr>\n",
              "      <th>0</th>\n",
              "      <td>7129300520</td>\n",
              "      <td>20141013T000000</td>\n",
              "      <td>221900.0</td>\n",
              "      <td>3</td>\n",
              "      <td>1.0</td>\n",
              "      <td>1180</td>\n",
              "      <td>5650</td>\n",
              "      <td>1.0</td>\n",
              "      <td>0</td>\n",
              "      <td>0</td>\n",
              "      <td>3</td>\n",
              "      <td>7</td>\n",
              "      <td>1180</td>\n",
              "      <td>0</td>\n",
              "      <td>1955</td>\n",
              "      <td>0</td>\n",
              "      <td>98178</td>\n",
              "      <td>47.5112</td>\n",
              "      <td>-122.257</td>\n",
              "      <td>1340</td>\n",
              "      <td>5650</td>\n",
              "    </tr>\n",
              "  </tbody>\n",
              "</table>\n",
              "</div>\n",
              "      <button class=\"colab-df-convert\" onclick=\"convertToInteractive('df-5c241f1e-68a1-4c06-87b1-dc4ed01c25c1')\"\n",
              "              title=\"Convert this dataframe to an interactive table.\"\n",
              "              style=\"display:none;\">\n",
              "        \n",
              "  <svg xmlns=\"http://www.w3.org/2000/svg\" height=\"24px\"viewBox=\"0 0 24 24\"\n",
              "       width=\"24px\">\n",
              "    <path d=\"M0 0h24v24H0V0z\" fill=\"none\"/>\n",
              "    <path d=\"M18.56 5.44l.94 2.06.94-2.06 2.06-.94-2.06-.94-.94-2.06-.94 2.06-2.06.94zm-11 1L8.5 8.5l.94-2.06 2.06-.94-2.06-.94L8.5 2.5l-.94 2.06-2.06.94zm10 10l.94 2.06.94-2.06 2.06-.94-2.06-.94-.94-2.06-.94 2.06-2.06.94z\"/><path d=\"M17.41 7.96l-1.37-1.37c-.4-.4-.92-.59-1.43-.59-.52 0-1.04.2-1.43.59L10.3 9.45l-7.72 7.72c-.78.78-.78 2.05 0 2.83L4 21.41c.39.39.9.59 1.41.59.51 0 1.02-.2 1.41-.59l7.78-7.78 2.81-2.81c.8-.78.8-2.07 0-2.86zM5.41 20L4 18.59l7.72-7.72 1.47 1.35L5.41 20z\"/>\n",
              "  </svg>\n",
              "      </button>\n",
              "      \n",
              "  <style>\n",
              "    .colab-df-container {\n",
              "      display:flex;\n",
              "      flex-wrap:wrap;\n",
              "      gap: 12px;\n",
              "    }\n",
              "\n",
              "    .colab-df-convert {\n",
              "      background-color: #E8F0FE;\n",
              "      border: none;\n",
              "      border-radius: 50%;\n",
              "      cursor: pointer;\n",
              "      display: none;\n",
              "      fill: #1967D2;\n",
              "      height: 32px;\n",
              "      padding: 0 0 0 0;\n",
              "      width: 32px;\n",
              "    }\n",
              "\n",
              "    .colab-df-convert:hover {\n",
              "      background-color: #E2EBFA;\n",
              "      box-shadow: 0px 1px 2px rgba(60, 64, 67, 0.3), 0px 1px 3px 1px rgba(60, 64, 67, 0.15);\n",
              "      fill: #174EA6;\n",
              "    }\n",
              "\n",
              "    [theme=dark] .colab-df-convert {\n",
              "      background-color: #3B4455;\n",
              "      fill: #D2E3FC;\n",
              "    }\n",
              "\n",
              "    [theme=dark] .colab-df-convert:hover {\n",
              "      background-color: #434B5C;\n",
              "      box-shadow: 0px 1px 3px 1px rgba(0, 0, 0, 0.15);\n",
              "      filter: drop-shadow(0px 1px 2px rgba(0, 0, 0, 0.3));\n",
              "      fill: #FFFFFF;\n",
              "    }\n",
              "  </style>\n",
              "\n",
              "      <script>\n",
              "        const buttonEl =\n",
              "          document.querySelector('#df-5c241f1e-68a1-4c06-87b1-dc4ed01c25c1 button.colab-df-convert');\n",
              "        buttonEl.style.display =\n",
              "          google.colab.kernel.accessAllowed ? 'block' : 'none';\n",
              "\n",
              "        async function convertToInteractive(key) {\n",
              "          const element = document.querySelector('#df-5c241f1e-68a1-4c06-87b1-dc4ed01c25c1');\n",
              "          const dataTable =\n",
              "            await google.colab.kernel.invokeFunction('convertToInteractive',\n",
              "                                                     [key], {});\n",
              "          if (!dataTable) return;\n",
              "\n",
              "          const docLinkHtml = 'Like what you see? Visit the ' +\n",
              "            '<a target=\"_blank\" href=https://colab.research.google.com/notebooks/data_table.ipynb>data table notebook</a>'\n",
              "            + ' to learn more about interactive tables.';\n",
              "          element.innerHTML = '';\n",
              "          dataTable['output_type'] = 'display_data';\n",
              "          await google.colab.output.renderOutput(dataTable, element);\n",
              "          const docLink = document.createElement('div');\n",
              "          docLink.innerHTML = docLinkHtml;\n",
              "          element.appendChild(docLink);\n",
              "        }\n",
              "      </script>\n",
              "    </div>\n",
              "  </div>\n",
              "  "
            ],
            "text/plain": [
              "           id             date     price  ...     long  sqft_living15  sqft_lot15\n",
              "0  7129300520  20141013T000000  221900.0  ... -122.257           1340        5650\n",
              "\n",
              "[1 rows x 21 columns]"
            ]
          },
          "metadata": {},
          "execution_count": 27
        }
      ]
    },
    {
      "cell_type": "code",
      "source": [
        "#Valores en X\n",
        "X = df.drop(['id','zipcode','price','date'], axis=1)\n",
        "X.head(1)"
      ],
      "metadata": {
        "colab": {
          "base_uri": "https://localhost:8080/",
          "height": 81
        },
        "id": "JHCem9Yvt-CD",
        "outputId": "fc5f0fd9-e399-4733-cd9f-3b30a91c42aa"
      },
      "execution_count": 36,
      "outputs": [
        {
          "output_type": "execute_result",
          "data": {
            "text/html": [
              "\n",
              "  <div id=\"df-b8c647da-449c-44c0-b924-aa4de85f347f\">\n",
              "    <div class=\"colab-df-container\">\n",
              "      <div>\n",
              "<style scoped>\n",
              "    .dataframe tbody tr th:only-of-type {\n",
              "        vertical-align: middle;\n",
              "    }\n",
              "\n",
              "    .dataframe tbody tr th {\n",
              "        vertical-align: top;\n",
              "    }\n",
              "\n",
              "    .dataframe thead th {\n",
              "        text-align: right;\n",
              "    }\n",
              "</style>\n",
              "<table border=\"1\" class=\"dataframe\">\n",
              "  <thead>\n",
              "    <tr style=\"text-align: right;\">\n",
              "      <th></th>\n",
              "      <th>bedrooms</th>\n",
              "      <th>bathrooms</th>\n",
              "      <th>sqft_living</th>\n",
              "      <th>sqft_lot</th>\n",
              "      <th>floors</th>\n",
              "      <th>waterfront</th>\n",
              "      <th>view</th>\n",
              "      <th>condition</th>\n",
              "      <th>grade</th>\n",
              "      <th>sqft_above</th>\n",
              "      <th>sqft_basement</th>\n",
              "      <th>yr_built</th>\n",
              "      <th>yr_renovated</th>\n",
              "      <th>lat</th>\n",
              "      <th>long</th>\n",
              "      <th>sqft_living15</th>\n",
              "      <th>sqft_lot15</th>\n",
              "    </tr>\n",
              "  </thead>\n",
              "  <tbody>\n",
              "    <tr>\n",
              "      <th>0</th>\n",
              "      <td>3</td>\n",
              "      <td>1.0</td>\n",
              "      <td>1180</td>\n",
              "      <td>5650</td>\n",
              "      <td>1.0</td>\n",
              "      <td>0</td>\n",
              "      <td>0</td>\n",
              "      <td>3</td>\n",
              "      <td>7</td>\n",
              "      <td>1180</td>\n",
              "      <td>0</td>\n",
              "      <td>1955</td>\n",
              "      <td>0</td>\n",
              "      <td>47.5112</td>\n",
              "      <td>-122.257</td>\n",
              "      <td>1340</td>\n",
              "      <td>5650</td>\n",
              "    </tr>\n",
              "  </tbody>\n",
              "</table>\n",
              "</div>\n",
              "      <button class=\"colab-df-convert\" onclick=\"convertToInteractive('df-b8c647da-449c-44c0-b924-aa4de85f347f')\"\n",
              "              title=\"Convert this dataframe to an interactive table.\"\n",
              "              style=\"display:none;\">\n",
              "        \n",
              "  <svg xmlns=\"http://www.w3.org/2000/svg\" height=\"24px\"viewBox=\"0 0 24 24\"\n",
              "       width=\"24px\">\n",
              "    <path d=\"M0 0h24v24H0V0z\" fill=\"none\"/>\n",
              "    <path d=\"M18.56 5.44l.94 2.06.94-2.06 2.06-.94-2.06-.94-.94-2.06-.94 2.06-2.06.94zm-11 1L8.5 8.5l.94-2.06 2.06-.94-2.06-.94L8.5 2.5l-.94 2.06-2.06.94zm10 10l.94 2.06.94-2.06 2.06-.94-2.06-.94-.94-2.06-.94 2.06-2.06.94z\"/><path d=\"M17.41 7.96l-1.37-1.37c-.4-.4-.92-.59-1.43-.59-.52 0-1.04.2-1.43.59L10.3 9.45l-7.72 7.72c-.78.78-.78 2.05 0 2.83L4 21.41c.39.39.9.59 1.41.59.51 0 1.02-.2 1.41-.59l7.78-7.78 2.81-2.81c.8-.78.8-2.07 0-2.86zM5.41 20L4 18.59l7.72-7.72 1.47 1.35L5.41 20z\"/>\n",
              "  </svg>\n",
              "      </button>\n",
              "      \n",
              "  <style>\n",
              "    .colab-df-container {\n",
              "      display:flex;\n",
              "      flex-wrap:wrap;\n",
              "      gap: 12px;\n",
              "    }\n",
              "\n",
              "    .colab-df-convert {\n",
              "      background-color: #E8F0FE;\n",
              "      border: none;\n",
              "      border-radius: 50%;\n",
              "      cursor: pointer;\n",
              "      display: none;\n",
              "      fill: #1967D2;\n",
              "      height: 32px;\n",
              "      padding: 0 0 0 0;\n",
              "      width: 32px;\n",
              "    }\n",
              "\n",
              "    .colab-df-convert:hover {\n",
              "      background-color: #E2EBFA;\n",
              "      box-shadow: 0px 1px 2px rgba(60, 64, 67, 0.3), 0px 1px 3px 1px rgba(60, 64, 67, 0.15);\n",
              "      fill: #174EA6;\n",
              "    }\n",
              "\n",
              "    [theme=dark] .colab-df-convert {\n",
              "      background-color: #3B4455;\n",
              "      fill: #D2E3FC;\n",
              "    }\n",
              "\n",
              "    [theme=dark] .colab-df-convert:hover {\n",
              "      background-color: #434B5C;\n",
              "      box-shadow: 0px 1px 3px 1px rgba(0, 0, 0, 0.15);\n",
              "      filter: drop-shadow(0px 1px 2px rgba(0, 0, 0, 0.3));\n",
              "      fill: #FFFFFF;\n",
              "    }\n",
              "  </style>\n",
              "\n",
              "      <script>\n",
              "        const buttonEl =\n",
              "          document.querySelector('#df-b8c647da-449c-44c0-b924-aa4de85f347f button.colab-df-convert');\n",
              "        buttonEl.style.display =\n",
              "          google.colab.kernel.accessAllowed ? 'block' : 'none';\n",
              "\n",
              "        async function convertToInteractive(key) {\n",
              "          const element = document.querySelector('#df-b8c647da-449c-44c0-b924-aa4de85f347f');\n",
              "          const dataTable =\n",
              "            await google.colab.kernel.invokeFunction('convertToInteractive',\n",
              "                                                     [key], {});\n",
              "          if (!dataTable) return;\n",
              "\n",
              "          const docLinkHtml = 'Like what you see? Visit the ' +\n",
              "            '<a target=\"_blank\" href=https://colab.research.google.com/notebooks/data_table.ipynb>data table notebook</a>'\n",
              "            + ' to learn more about interactive tables.';\n",
              "          element.innerHTML = '';\n",
              "          dataTable['output_type'] = 'display_data';\n",
              "          await google.colab.output.renderOutput(dataTable, element);\n",
              "          const docLink = document.createElement('div');\n",
              "          docLink.innerHTML = docLinkHtml;\n",
              "          element.appendChild(docLink);\n",
              "        }\n",
              "      </script>\n",
              "    </div>\n",
              "  </div>\n",
              "  "
            ],
            "text/plain": [
              "   bedrooms  bathrooms  sqft_living  ...     long  sqft_living15  sqft_lot15\n",
              "0         3        1.0         1180  ... -122.257           1340        5650\n",
              "\n",
              "[1 rows x 17 columns]"
            ]
          },
          "metadata": {},
          "execution_count": 36
        }
      ]
    },
    {
      "cell_type": "markdown",
      "source": [
        "Código inspirado de: https://www.analyticslane.com/2019/03/25/como-eliminar-columnas-y-filas-en-un-dataframe-pandas/"
      ],
      "metadata": {
        "id": "-PjSzs7mVXZG"
      }
    },
    {
      "cell_type": "code",
      "source": [
        "X.shape"
      ],
      "metadata": {
        "colab": {
          "base_uri": "https://localhost:8080/"
        },
        "id": "-E1YsL16oxqv",
        "outputId": "7769969f-4300-4e3f-c372-a3b606685c75"
      },
      "execution_count": 37,
      "outputs": [
        {
          "output_type": "execute_result",
          "data": {
            "text/plain": [
              "(21613, 17)"
            ]
          },
          "metadata": {},
          "execution_count": 37
        }
      ]
    },
    {
      "cell_type": "code",
      "source": [
        "#valores en y \n",
        "y = df['price']\n",
        "y"
      ],
      "metadata": {
        "colab": {
          "base_uri": "https://localhost:8080/"
        },
        "id": "_brJVbj90D1V",
        "outputId": "8fe3efc6-9b78-4a0d-a7a7-815e99383557"
      },
      "execution_count": 108,
      "outputs": [
        {
          "output_type": "execute_result",
          "data": {
            "text/plain": [
              "0        221900.0\n",
              "1        538000.0\n",
              "2        180000.0\n",
              "3        604000.0\n",
              "4        510000.0\n",
              "           ...   \n",
              "21608    360000.0\n",
              "21609    400000.0\n",
              "21610    402101.0\n",
              "21611    400000.0\n",
              "21612    325000.0\n",
              "Name: price, Length: 21613, dtype: float64"
            ]
          },
          "metadata": {},
          "execution_count": 108
        }
      ]
    },
    {
      "cell_type": "code",
      "source": [
        "y.shape"
      ],
      "metadata": {
        "colab": {
          "base_uri": "https://localhost:8080/"
        },
        "id": "dMwhGYnTKtXW",
        "outputId": "ffed7a7e-86e1-4ed9-da07-8db9190dd1f8"
      },
      "execution_count": 106,
      "outputs": [
        {
          "output_type": "execute_result",
          "data": {
            "text/plain": [
              "(21613,)"
            ]
          },
          "metadata": {},
          "execution_count": 106
        }
      ]
    },
    {
      "cell_type": "code",
      "source": [
        "decision_tree= DecisionTreeRegressor(max_depth=5,random_state= 0) #instanciamos el modelo y añadimos \n",
        "                                                                  # que el árbol tenga una profundidad de 5\n",
        "                                                                  #una \"semilla\" para poder replicar el modelo"
      ],
      "metadata": {
        "id": "NEcdkNh90KST"
      },
      "execution_count": 39,
      "outputs": []
    },
    {
      "cell_type": "code",
      "source": [
        "decision_tree"
      ],
      "metadata": {
        "colab": {
          "base_uri": "https://localhost:8080/"
        },
        "id": "bg-cvLLF1mx6",
        "outputId": "6d5aef9e-f7de-451b-9d62-45b5f45533af"
      },
      "execution_count": 40,
      "outputs": [
        {
          "output_type": "execute_result",
          "data": {
            "text/plain": [
              "DecisionTreeRegressor(max_depth=5, random_state=0)"
            ]
          },
          "metadata": {},
          "execution_count": 40
        }
      ]
    },
    {
      "cell_type": "markdown",
      "source": [
        "Dividimos nuestros datos en conjuntos de prueba y entrenamiento"
      ],
      "metadata": {
        "id": "KBnFdybJ03Sm"
      }
    },
    {
      "cell_type": "code",
      "source": [
        "X_train, X_test, y_train, y_test = train_test_split(X, y, random_state=0)"
      ],
      "metadata": {
        "id": "P6Kkc90E00HJ"
      },
      "execution_count": 41,
      "outputs": []
    },
    {
      "cell_type": "code",
      "source": [
        "decision_tree.fit(X_train,y_train) #entrenamos nuestro modelo"
      ],
      "metadata": {
        "colab": {
          "base_uri": "https://localhost:8080/"
        },
        "id": "qilXSV_31gy-",
        "outputId": "005499f7-e73b-4b1f-8dc9-dcb03f17cc89"
      },
      "execution_count": 42,
      "outputs": [
        {
          "output_type": "execute_result",
          "data": {
            "text/plain": [
              "DecisionTreeRegressor(max_depth=5, random_state=0)"
            ]
          },
          "metadata": {},
          "execution_count": 42
        }
      ]
    },
    {
      "cell_type": "code",
      "source": [
        "score = decision_tree.score(X_test, y_test) #puntuamos según r2 a nuestro modelo\n",
        "score"
      ],
      "metadata": {
        "colab": {
          "base_uri": "https://localhost:8080/"
        },
        "id": "OrD_SAia2Aej",
        "outputId": "896d593e-e5d1-4ed5-cfbd-24adcffed3d7"
      },
      "execution_count": 44,
      "outputs": [
        {
          "output_type": "execute_result",
          "data": {
            "text/plain": [
              "0.7272059336793868"
            ]
          },
          "metadata": {},
          "execution_count": 44
        }
      ]
    },
    {
      "cell_type": "markdown",
      "source": [
        "Nuestro modelo tiene un buen puntaje r2 pero podemos hacer que se pueda mejorar más \"jugando\" con el máximo de profundidad del árbol de decisión "
      ],
      "metadata": {
        "id": "uv2XbKvP4DFR"
      }
    },
    {
      "cell_type": "markdown",
      "source": [
        "## Buscar el valor óptimo de profundidad del árbol de decisión"
      ],
      "metadata": {
        "id": "ruRlLrem4NsR"
      }
    },
    {
      "cell_type": "code",
      "source": [
        "md_optimo =list(range(1,15))\n",
        "md_optimo #lista de los diferentes max_depth a probar"
      ],
      "metadata": {
        "colab": {
          "base_uri": "https://localhost:8080/"
        },
        "id": "GCMSZrvN3_7t",
        "outputId": "31a13e2e-84e7-410e-9a2c-41d5496e584a"
      },
      "execution_count": 71,
      "outputs": [
        {
          "output_type": "execute_result",
          "data": {
            "text/plain": [
              "[1, 2, 3, 4, 5, 6, 7, 8, 9, 10, 11, 12, 13, 14]"
            ]
          },
          "metadata": {},
          "execution_count": 71
        }
      ]
    },
    {
      "cell_type": "code",
      "source": [
        "scores_md = [] #inicializamos una lista que contendrá los valores de cada puntaje"
      ],
      "metadata": {
        "id": "m0MJhuvq4aH7"
      },
      "execution_count": 72,
      "outputs": []
    },
    {
      "cell_type": "code",
      "source": [
        "for md in md_optimo:\n",
        "  decision_tree_a = DecisionTreeRegressor(max_depth = md, \n",
        "                             random_state = 0)\n",
        "  decision_tree_a.fit(X_train, y_train)\n",
        "  score_a = decision_tree_a.score(X_test, y_test)\n",
        "  scores_md.append(score_a)\n",
        "   \n",
        "print (scores_md)"
      ],
      "metadata": {
        "colab": {
          "base_uri": "https://localhost:8080/"
        },
        "id": "V3vavjXG4urq",
        "outputId": "9d3b7170-858e-45c8-9211-e35589feec52"
      },
      "execution_count": 73,
      "outputs": [
        {
          "output_type": "stream",
          "name": "stdout",
          "text": [
            "[0.3300587561627514, 0.4816422997433065, 0.5883789021735926, 0.671448768509469, 0.7272059336793868, 0.7733558833845349, 0.8018138707243891, 0.7967501848112946, 0.8020470517362714, 0.8027258148204545, 0.7843181149450155, 0.7846842988849745, 0.7799417082544632, 0.7722592036563234]\n"
          ]
        }
      ]
    },
    {
      "cell_type": "markdown",
      "source": [
        "Para visualizarlo de una mejor manera crearemos un 'lineplot' "
      ],
      "metadata": {
        "id": "GoJGJoSB5vxt"
      }
    },
    {
      "cell_type": "code",
      "source": [
        "plt.figure(figsize=(15,10))\n",
        "plt.plot(md_optimo,scores_md)\n",
        "\n",
        "#personalizamos un poco el gráfico\n",
        "plt.grid()\n",
        "plt.xlabel(\"Max_depth\", fontsize= 15)\n",
        "plt.ylabel(\"Score\", fontsize= 15)\n",
        "pass"
      ],
      "metadata": {
        "colab": {
          "base_uri": "https://localhost:8080/",
          "height": 612
        },
        "id": "iAVG3WLh5dvQ",
        "outputId": "7ec5424a-7bbe-4345-c116-94501246b044"
      },
      "execution_count": 74,
      "outputs": [
        {
          "output_type": "display_data",
          "data": {
            "image/png": "[encoded data removed]",
            "text/plain": [
              "<Figure size 1080x720 with 1 Axes>"
            ]
          },
          "metadata": {
            "needs_background": "light"
          }
        }
      ]
    },
    {
      "cell_type": "markdown",
      "source": [
        "Y visualizamos que con una profundidad de 7 u 10 se alcanza el máximo puntaje R2 por lo que por buena práctica se elije el modelo menos complicado, se eligirá la profundidad máxima de \"7\" "
      ],
      "metadata": {
        "id": "PXFewIzm7jQ4"
      }
    },
    {
      "cell_type": "code",
      "source": [
        "decision_tree= DecisionTreeRegressor(max_depth=7,random_state= 0) "
      ],
      "metadata": {
        "id": "xXF1EDnH6BJm"
      },
      "execution_count": 83,
      "outputs": []
    },
    {
      "cell_type": "code",
      "source": [
        "X_train, X_test, y_train, y_test = train_test_split(X, y, random_state=0)"
      ],
      "metadata": {
        "id": "fCb0mLRF8HFC"
      },
      "execution_count": 84,
      "outputs": []
    },
    {
      "cell_type": "code",
      "source": [
        "decision_tree.fit(X_train,y_train) #entrenamos nuestro modelo"
      ],
      "metadata": {
        "colab": {
          "base_uri": "https://localhost:8080/"
        },
        "id": "xKAe3-Ep-TmI",
        "outputId": "3a35319f-50cb-406c-a9b5-056f99a16339"
      },
      "execution_count": 85,
      "outputs": [
        {
          "output_type": "execute_result",
          "data": {
            "text/plain": [
              "DecisionTreeRegressor(max_depth=7, random_state=0)"
            ]
          },
          "metadata": {},
          "execution_count": 85
        }
      ]
    },
    {
      "cell_type": "code",
      "source": [
        "score = decision_tree.score(X_test, y_test) #puntuamos según r2 a nuestro modelo\n",
        "score"
      ],
      "metadata": {
        "colab": {
          "base_uri": "https://localhost:8080/"
        },
        "id": "9phmABcF-Xs0",
        "outputId": "36add3c4-82b3-4b0f-f6d9-9e08cec395ba"
      },
      "execution_count": 86,
      "outputs": [
        {
          "output_type": "execute_result",
          "data": {
            "text/plain": [
              "0.8018138707243891"
            ]
          },
          "metadata": {},
          "execution_count": 86
        }
      ]
    },
    {
      "cell_type": "markdown",
      "source": [
        "Listo, nuestro modelo de **arbol de decisión** tiene un buen puntaje de 0.80"
      ],
      "metadata": {
        "id": "Oe6tgQfa-azz"
      }
    },
    {
      "cell_type": "markdown",
      "source": [
        "Códigos inspirados de: Coding Dojo"
      ],
      "metadata": {
        "id": "q9UP6uu2WATV"
      }
    },
    {
      "cell_type": "markdown",
      "source": [
        "#Bagging Tree"
      ],
      "metadata": {
        "id": "U1UGOyqrBURg"
      }
    },
    {
      "cell_type": "markdown",
      "source": [
        "Se usará un modelo de 'Bagged Trees' para predecir el precio de la vivienda de acuerdo a sus características "
      ],
      "metadata": {
        "id": "cd0uBknLBW6u"
      }
    },
    {
      "cell_type": "code",
      "source": [
        "import sklearn\n",
        "#importamos la librerías que necesitamos\n",
        "from sklearn.ensemble import BaggingRegressor"
      ],
      "metadata": {
        "id": "WZMIXCHG-ZMq"
      },
      "execution_count": 93,
      "outputs": []
    },
    {
      "cell_type": "code",
      "source": [
        "bagged_tree = BaggingRegressor() #instanciamos el modelo"
      ],
      "metadata": {
        "id": "wvqpX58ECDKM"
      },
      "execution_count": 88,
      "outputs": []
    },
    {
      "cell_type": "code",
      "source": [
        "bagged_tree.fit(X_train,y_train)"
      ],
      "metadata": {
        "colab": {
          "base_uri": "https://localhost:8080/"
        },
        "id": "GBFI7zcnCIDt",
        "outputId": "b160eaae-0072-4b34-d176-afab2ddaed65"
      },
      "execution_count": 89,
      "outputs": [
        {
          "output_type": "execute_result",
          "data": {
            "text/plain": [
              "BaggingRegressor()"
            ]
          },
          "metadata": {},
          "execution_count": 89
        }
      ]
    },
    {
      "cell_type": "code",
      "source": [
        "score = bagged_tree.score(X_test, y_test)\n",
        "score"
      ],
      "metadata": {
        "colab": {
          "base_uri": "https://localhost:8080/"
        },
        "id": "T30YHjAwCjPg",
        "outputId": "361346d0-f0e5-4076-b07d-371c336ffb2a"
      },
      "execution_count": 91,
      "outputs": [
        {
          "output_type": "execute_result",
          "data": {
            "text/plain": [
              "0.8761766353798527"
            ]
          },
          "metadata": {},
          "execution_count": 91
        }
      ]
    },
    {
      "cell_type": "markdown",
      "source": [
        "En este caso nuestro modelo mejoró bastante en relación con el modelo de 'Árbol de decisión' teniendo un puntaje casi 7 puntos mayor."
      ],
      "metadata": {
        "id": "yHIv2LikCx-5"
      }
    },
    {
      "cell_type": "markdown",
      "source": [
        "Código inspirado de:\n",
        "- Coding Dojo\n",
        "- https://www.youtube.com/watch?v=n97h0EE90qE"
      ],
      "metadata": {
        "id": "CBlKSlFFWEe-"
      }
    },
    {
      "cell_type": "markdown",
      "source": [
        "#Random forests"
      ],
      "metadata": {
        "id": "gLCEvR2bDC12"
      }
    },
    {
      "cell_type": "markdown",
      "source": [
        "Se aplicará la técnica de random forest para predecir el precio de la vivienda de acuerdo a sus características"
      ],
      "metadata": {
        "id": "FZiWIJphDE3k"
      }
    },
    {
      "cell_type": "code",
      "source": [
        "#importamos librería para random forest \n",
        "from sklearn.ensemble import RandomForestRegressor"
      ],
      "metadata": {
        "id": "LPs1ermKCt3-"
      },
      "execution_count": 95,
      "outputs": []
    },
    {
      "cell_type": "code",
      "source": [
        "#instanciamos el modelo\n",
        "random_forest_model = RandomForestRegressor(n_estimators=100,\n",
        "                             bootstrap=True,\n",
        "                             oob_score=True) #todos estos valores ya están incluidos por defecto"
      ],
      "metadata": {
        "id": "2o8OkbkeJQ-g"
      },
      "execution_count": 97,
      "outputs": []
    },
    {
      "cell_type": "code",
      "source": [
        "#entrenamos el modelo\n",
        "random_forest_model.fit(X_train, y_train)"
      ],
      "metadata": {
        "colab": {
          "base_uri": "https://localhost:8080/"
        },
        "id": "TdW0Zy9sJcwc",
        "outputId": "6d39f309-3e8c-49e1-ba4c-d3bc477b0d4c"
      },
      "execution_count": 98,
      "outputs": [
        {
          "output_type": "execute_result",
          "data": {
            "text/plain": [
              "RandomForestRegressor(oob_score=True)"
            ]
          },
          "metadata": {},
          "execution_count": 98
        }
      ]
    },
    {
      "cell_type": "code",
      "source": [
        "#puntuamos el modelo\n",
        "score = random_forest_model.score(X_test, y_test)\n",
        "score"
      ],
      "metadata": {
        "colab": {
          "base_uri": "https://localhost:8080/"
        },
        "id": "77TrjHQUJvFP",
        "outputId": "bbc67a00-f65e-48be-de9e-4db5fb40e2a1"
      },
      "execution_count": 99,
      "outputs": [
        {
          "output_type": "execute_result",
          "data": {
            "text/plain": [
              "0.8890775575030008"
            ]
          },
          "metadata": {},
          "execution_count": 99
        }
      ]
    },
    {
      "cell_type": "markdown",
      "source": [
        "Lo mejoramos en casi un punto lo cual,nos hace inferir que nuestro random forest es el mejor modelo para predecir los precios de vivienda."
      ],
      "metadata": {
        "id": "syzwZ7hgJ7Ez"
      }
    },
    {
      "cell_type": "markdown",
      "source": [
        "### Error de generalización (out-of-sample error) del modelo"
      ],
      "metadata": {
        "id": "lSpRVN9VLiG_"
      }
    },
    {
      "cell_type": "code",
      "source": [
        "random_forest_model.oob_score_"
      ],
      "metadata": {
        "colab": {
          "base_uri": "https://localhost:8080/"
        },
        "id": "IpO7FzOrJ6Om",
        "outputId": "e5e256c0-60cd-4269-e73c-0a236e131cb1"
      },
      "execution_count": 111,
      "outputs": [
        {
          "output_type": "execute_result",
          "data": {
            "text/plain": [
              "0.8663719841687575"
            ]
          },
          "metadata": {},
          "execution_count": 111
        }
      ]
    },
    {
      "cell_type": "markdown",
      "source": [
        "Podemos interpretar que el error de generalización no cambia mucho en relación a partir del puntaje R2 por lo que se infiere que los datos están bastante equilibrados "
      ],
      "metadata": {
        "id": "vIAATz9mLlc9"
      }
    },
    {
      "cell_type": "markdown",
      "source": [
        "Ahora, como \"personalización\" de nuestro modelo de random forest vamos a buscar cual de n_estimators (hyper parametro de random forest) puede ser el ideal para maximizar nuestro puntaje"
      ],
      "metadata": {
        "id": "Ndiva2jAMAyp"
      }
    },
    {
      "cell_type": "code",
      "source": [
        "#creamos una lista con los diferentes valores que va a tomar n_estimators en el modelo\n",
        "estimators_lista = list(range(10,300,10))\n",
        "print (estimators_lista)"
      ],
      "metadata": {
        "colab": {
          "base_uri": "https://localhost:8080/"
        },
        "id": "K0Th4UfPJ4S5",
        "outputId": "a1fe69c2-1995-4067-eccc-80ba877f514d"
      },
      "execution_count": 116,
      "outputs": [
        {
          "output_type": "stream",
          "name": "stdout",
          "text": [
            "[10, 20, 30, 40, 50, 60, 70, 80, 90, 100, 110, 120, 130, 140, 150, 160, 170, 180, 190, 200, 210, 220, 230, 240, 250, 260, 270, 280, 290]\n"
          ]
        }
      ]
    },
    {
      "cell_type": "code",
      "source": [
        "scores_rf = [] #se crea una lista donde se pondrán los valores de R2 \n",
        "\n",
        "for estimator_num in estimators_lista:\n",
        "    Random_forest_a = RandomForestRegressor(n_estimators=estimator_num,\n",
        "                                 random_state=0,\n",
        "                                 bootstrap=True)\n",
        "    Random_forest_a.fit(X_train, y_train)\n",
        "    scores_rf.append(Random_forest_a.score(X_test, y_test))"
      ],
      "metadata": {
        "id": "kyPaOXeFMjmJ"
      },
      "execution_count": 118,
      "outputs": []
    },
    {
      "cell_type": "code",
      "source": [
        "scores_rf"
      ],
      "metadata": {
        "colab": {
          "base_uri": "https://localhost:8080/"
        },
        "id": "SyIGRk7IMi-8",
        "outputId": "90c62cd2-ea9e-4cd1-8dbc-7a948947a66e"
      },
      "execution_count": 119,
      "outputs": [
        {
          "output_type": "execute_result",
          "data": {
            "text/plain": [
              "[0.8738598358827292,\n",
              " 0.8870775104967299,\n",
              " 0.8893700594499284,\n",
              " 0.8889556049332134,\n",
              " 0.8898058600858179,\n",
              " 0.8905992373067387,\n",
              " 0.8906786342258258,\n",
              " 0.8904229527426203,\n",
              " 0.8907766793157823,\n",
              " 0.890298009977329,\n",
              " 0.8897574491988065,\n",
              " 0.8902984192599417,\n",
              " 0.8900846933321007,\n",
              " 0.8902332827717062,\n",
              " 0.8904999850588647,\n",
              " 0.8906739963966797,\n",
              " 0.8907332526304833,\n",
              " 0.8910867925981408,\n",
              " 0.8908240593740736,\n",
              " 0.8907341076849219,\n",
              " 0.8908182869059548,\n",
              " 0.8903387856569378,\n",
              " 0.8904490698263388,\n",
              " 0.8901212264047929,\n",
              " 0.889654644703201,\n",
              " 0.8899076235766936,\n",
              " 0.8903587689305114,\n",
              " 0.890291608015254,\n",
              " 0.8901919486945026]"
            ]
          },
          "metadata": {},
          "execution_count": 119
        }
      ]
    },
    {
      "cell_type": "code",
      "source": [
        "plt.figure(figsize = (15,10))\n",
        "plt.plot(estimators_lista,scores_rf)"
      ],
      "metadata": {
        "colab": {
          "base_uri": "https://localhost:8080/",
          "height": 609
        },
        "id": "VH3h6ITqP1L5",
        "outputId": "ef0c2ca5-b043-49d1-e8d1-6aa0028bdb3e"
      },
      "execution_count": 120,
      "outputs": [
        {
          "output_type": "execute_result",
          "data": {
            "text/plain": [
              "[<matplotlib.lines.Line2D at 0x7f218e818150>]"
            ]
          },
          "metadata": {},
          "execution_count": 120
        },
        {
          "output_type": "display_data",
          "data": {
            "image/png": "[encoded data removed]",
            "text/plain": [
              "<Figure size 1080x720 with 1 Axes>"
            ]
          },
          "metadata": {
            "needs_background": "light"
          }
        }
      ]
    },
    {
      "cell_type": "markdown",
      "source": [
        "Se mira que se alcanza casi un 90% con algunos n_estimators"
      ],
      "metadata": {
        "id": "zzeFGf9DQymn"
      }
    },
    {
      "cell_type": "markdown",
      "source": [
        "Buscamos el n_estimators óptimo para obtener el mejor puntaje R2 para el modelo"
      ],
      "metadata": {
        "id": "W-wdVjkpShb2"
      }
    },
    {
      "cell_type": "code",
      "source": [
        "maximo = max(scores_rf)\n",
        "maximo"
      ],
      "metadata": {
        "colab": {
          "base_uri": "https://localhost:8080/"
        },
        "id": "cun4_P8RRYPU",
        "outputId": "24bf7ceb-92e2-4845-e29d-130fd930d937"
      },
      "execution_count": 128,
      "outputs": [
        {
          "output_type": "execute_result",
          "data": {
            "text/plain": [
              "0.8910867925981408"
            ]
          },
          "metadata": {},
          "execution_count": 128
        }
      ]
    },
    {
      "cell_type": "code",
      "source": [
        "scores_rf.index(maximo)"
      ],
      "metadata": {
        "colab": {
          "base_uri": "https://localhost:8080/"
        },
        "id": "5kKRXWllRx5Y",
        "outputId": "c254f40a-4f50-4c57-ab5f-678b02f2a2f8"
      },
      "execution_count": 129,
      "outputs": [
        {
          "output_type": "execute_result",
          "data": {
            "text/plain": [
              "17"
            ]
          },
          "metadata": {},
          "execution_count": 129
        }
      ]
    },
    {
      "cell_type": "code",
      "source": [
        "estimators_lista[17]"
      ],
      "metadata": {
        "colab": {
          "base_uri": "https://localhost:8080/"
        },
        "id": "x1SC5zZ7SWUV",
        "outputId": "e1223843-dd8b-496e-c193-a8efc922b312"
      },
      "execution_count": 130,
      "outputs": [
        {
          "output_type": "execute_result",
          "data": {
            "text/plain": [
              "180"
            ]
          },
          "metadata": {},
          "execution_count": 130
        }
      ]
    },
    {
      "cell_type": "markdown",
      "source": [
        "Por lo que para obtener el máximo de precisión para predecir el precio de la vivienda de acuerdo a sus características es:\n",
        "- Realizar un modelo de Random Forest (regresión) con hyperparámetros por default a excepción de n_Estimators , que se lo debe colocar un valor de 180 para obtener un puntaje R2 de 0.89"
      ],
      "metadata": {
        "id": "YuUd-sk1Q-XN"
      }
    },
    {
      "cell_type": "markdown",
      "source": [
        "Código inspirado de: Coding Dojo"
      ],
      "metadata": {
        "id": "qy31j80wWNDC"
      }
    },
    {
      "cell_type": "markdown",
      "source": [
        "# Preguntas para pensar y responder\n",
        "\n",
        "Una vez que hayas completado la tarea, responde las siguientes preguntas.\n",
        "\n",
        "¿Cuáles son las características más importantes de tu modelo?\n",
        "- Que se lo realizo mediante una base de datos muy completa,y que no se requirió hacer uso de varios procesos de manipulación o limpieza de datos\n",
        "-Al usarse varios algoritmos un poco más complejos comparados con los vistos anteriormente (KNN, regresión lineal) podemos tener un puntaje R2 más alto.\n",
        "- Al tener un puntaje alto, se pudo obtener un modelo relativamente bueno.  \n",
        "\n",
        "¿Qué otros parámetros podrías haber intentado ajustar?\n",
        "- En el modelo de árbol de decisión modificar otros valores como 'min_samples_split' o 'min_samples_leaf'\n",
        "para llegar a optimizar el modelo\n",
        "- En bagged tree y random forest se podrían haber modificado parámetros como: 'max_depth','max_features','max_leaf_nodes', 'min_impurity_decrease', 'min_impurity_split',etc."
      ],
      "metadata": {
        "id": "9EqX1rOsS3Dv"
      }
    }
  ]
}